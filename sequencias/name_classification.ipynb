{
 "cells": [
  {
   "cell_type": "markdown",
   "id": "65d726cc",
   "metadata": {},
   "source": [
    "# Sequências - Aula Prática 02/04\n",
    "## RNNs (Recurrent Neural Networks)\n",
    "\n",
    "Neste notebook iremos trabalhar com a abordagem inicial de redes neurais recorrentes (RNNs), implementando **do zero** uma RNN utilizando PyTorch. Além disso, iremos usar RNNs para para realizar uma classificação de nomes a nível de caractere.\n",
    "\n",
    "> Em mais detalhes, queremos fazer uma associação de *nome* para *idioma*, processando caractere por caractere do nome de entrada. Ou seja, dado o nome `Satoshi`, iremos processar o nome como uma sequência: `S -> a -> t -> ... -> i`, classificando esse nome como sendo japonês.\n",
    "\n",
    "- Esse notebook foi fortemente inspirado no primeiro tutorial da série [NLP From Scratch](https://pytorch.org/tutorials/intermediate/char_rnn_classification_tutorial.html), disponibilizado no site do PyTorch."
   ]
  },
  {
   "cell_type": "markdown",
   "id": "071c310f",
   "metadata": {},
   "source": [
    "## Importação de pacotes"
   ]
  },
  {
   "cell_type": "code",
   "execution_count": 1,
   "id": "2f2a1662",
   "metadata": {},
   "outputs": [],
   "source": [
    "import torch\n",
    "import random\n",
    "\n",
    "import numpy as np\n",
    "import torch.nn as nn\n",
    "import torch.optim as optim\n",
    "\n",
    "import matplotlib.pyplot as plt\n",
    "\n",
    "from glob import glob\n",
    "from tqdm.notebook import tqdm\n",
    "from collections import defaultdict"
   ]
  },
  {
   "cell_type": "code",
   "execution_count": 2,
   "id": "795b6b30-6d1a-4b86-b15f-67e02560c004",
   "metadata": {},
   "outputs": [
    {
     "name": "stdout",
     "output_type": "stream",
     "text": [
      "Device escolhido: cuda\n"
     ]
    }
   ],
   "source": [
    "# Verificando se temos CUDA disponível e selecionando o device que será utilizado\n",
    "device = torch.device('cuda' if torch.cuda.is_available() else 'cpu')\n",
    "print('Device escolhido:', device)"
   ]
  },
  {
   "cell_type": "markdown",
   "id": "4cefc1bd-91a1-4c01-a1df-8cb2c1ccc31a",
   "metadata": {},
   "source": [
    "## Entendimento da base de dados\n",
    "\n",
    "Durante esse notebook, iremos trabalhar com os dados localizados na pasta `/pgeoprj/ciag2023/datasets/sequence_datasets/names/`. Nela, você verá 18 arquivos `.txt` separados por idiomas, onde cada arquivo contém uma lista de nomes daquele idioma.\n",
    "\n",
    "> Por exemplo, explorando o arquivo `Japanese.txt` conseguimos ler nomes como: Akita, Amori, Saito, ...\n",
    "\n",
    "Antes de entrar na parte do modelo recorrente propriamente dito, iremos ler os dados da pasta `names/` e processá-los de acordo com as nossas necessidades. Primeiramente, iremos armazenar todos os nomes em um dicionário que mapeia `idioma -> lista de nomes`.\n",
    "\n",
    "- Para carregar o caminho de todos os arquivos da pasta `names/`, iremos usar o módulo nativo do Python: `glob`."
   ]
  },
  {
   "cell_type": "code",
   "execution_count": 3,
   "id": "b0cf3876-c2ee-46ec-8e7e-25d2407202e4",
   "metadata": {},
   "outputs": [
    {
     "data": {
      "text/plain": [
       "['/pgeoprj/ciag2023/datasets/sequence_datasets/names/Arabic.txt',\n",
       " '/pgeoprj/ciag2023/datasets/sequence_datasets/names/Dutch.txt',\n",
       " '/pgeoprj/ciag2023/datasets/sequence_datasets/names/English.txt',\n",
       " '/pgeoprj/ciag2023/datasets/sequence_datasets/names/French.txt',\n",
       " '/pgeoprj/ciag2023/datasets/sequence_datasets/names/German.txt',\n",
       " '/pgeoprj/ciag2023/datasets/sequence_datasets/names/Greek.txt',\n",
       " '/pgeoprj/ciag2023/datasets/sequence_datasets/names/Irish.txt',\n",
       " '/pgeoprj/ciag2023/datasets/sequence_datasets/names/Italian.txt',\n",
       " '/pgeoprj/ciag2023/datasets/sequence_datasets/names/Japanese.txt',\n",
       " '/pgeoprj/ciag2023/datasets/sequence_datasets/names/Korean.txt',\n",
       " '/pgeoprj/ciag2023/datasets/sequence_datasets/names/Polish.txt',\n",
       " '/pgeoprj/ciag2023/datasets/sequence_datasets/names/Portuguese.txt',\n",
       " '/pgeoprj/ciag2023/datasets/sequence_datasets/names/Scottish.txt',\n",
       " '/pgeoprj/ciag2023/datasets/sequence_datasets/names/Spanish.txt',\n",
       " '/pgeoprj/ciag2023/datasets/sequence_datasets/names/Vietnamese.txt',\n",
       " '/pgeoprj/ciag2023/datasets/sequence_datasets/names/Chinese.txt',\n",
       " '/pgeoprj/ciag2023/datasets/sequence_datasets/names/Czech.txt',\n",
       " '/pgeoprj/ciag2023/datasets/sequence_datasets/names/Russian.txt']"
      ]
     },
     "execution_count": 3,
     "metadata": {},
     "output_type": "execute_result"
    }
   ],
   "source": [
    "filepaths = glob('/pgeoprj/ciag2023/datasets/sequence_datasets/names/*.txt')  # * aqui quer dizer \"qualquer string\"\n",
    "filepaths"
   ]
  },
  {
   "cell_type": "markdown",
   "id": "f5e81d8a-8c38-4045-908c-7635e2fab68e",
   "metadata": {},
   "source": [
    "<br> Aqui podemos observar os 5 primeiros nomes da lista de nomes de idioma arábico."
   ]
  },
  {
   "cell_type": "code",
   "execution_count": 4,
   "id": "b66b0b9a-452e-4c3b-887d-81521fb6776c",
   "metadata": {},
   "outputs": [
    {
     "name": "stdout",
     "output_type": "stream",
     "text": [
      "Khoury\n",
      "Nahas\n",
      "Daher\n",
      "Gerges\n",
      "Nazari\n"
     ]
    }
   ],
   "source": [
    "!head -n 5 /pgeoprj/ciag2023/datasets/sequence_datasets/names/Arabic.txt"
   ]
  },
  {
   "cell_type": "markdown",
   "id": "767168fd-f11b-4e52-9194-6066189273f9",
   "metadata": {},
   "source": [
    "## Processamento da base de dados"
   ]
  },
  {
   "cell_type": "markdown",
   "id": "c52bd1f1-47a9-475f-ae21-603e5df88ac4",
   "metadata": {},
   "source": [
    "Com os caminhos definidos, conseguimos montar o dicionário mencionado anteriormente.\n",
    "\n",
    "Para obter o idioma referente à um arquivo, podemos usar a função `get_language`, definida logo abaixo."
   ]
  },
  {
   "cell_type": "code",
   "execution_count": 5,
   "id": "3b08b11f-e3ff-4a75-9f06-c958a18ad791",
   "metadata": {},
   "outputs": [
    {
     "name": "stdout",
     "output_type": "stream",
     "text": [
      "Primeiro filepath: /pgeoprj/ciag2023/datasets/sequence_datasets/names/Arabic.txt\n",
      "Idioma do primeiro filepath: Arabic\n"
     ]
    }
   ],
   "source": [
    "def get_language(filepath):\n",
    "    filename = filepath.split('/')[-1]  # separando a string por '/' e pegando a última posição <language>.txts\n",
    "    language = filename.split('.')[0]  # separando a string por '.' e pegando a primeira posição (linguagem)\n",
    "\n",
    "    return language\n",
    "\n",
    "print('Primeiro filepath:', filepaths[0])\n",
    "print('Idioma do primeiro filepath:', get_language(filepaths[0]))"
   ]
  },
  {
   "cell_type": "code",
   "execution_count": 6,
   "id": "c8a8148e-7955-4599-b63f-c297e9ec2a70",
   "metadata": {},
   "outputs": [
    {
     "name": "stdout",
     "output_type": "stream",
     "text": [
      "5 primeiros nomes em árabe: [['K', 'h', 'o', 'u', 'r', 'y'], ['N', 'a', 'h', 'a', 's'], ['D', 'a', 'h', 'e', 'r'], ['G', 'e', 'r', 'g', 'e', 's'], ['N', 'a', 'z', 'a', 'r', 'i']]\n",
      "Idiomas disponíveis no conjunto de dados: ['Arabic', 'Dutch', 'English', 'French', 'German', 'Greek', 'Irish', 'Italian', 'Japanese', 'Korean', 'Polish', 'Portuguese', 'Scottish', 'Spanish', 'Vietnamese', 'Chinese', 'Czech', 'Russian']\n"
     ]
    }
   ],
   "source": [
    "languages = [] \n",
    "language_names = defaultdict(list)  # defaultdict é igual à um dict normal, porém não precisamos verificar\n",
    "                                    # manualmente se uma entrada já foi inicializada, nesse caso com uma lista vazia\n",
    "\n",
    "for filepath in filepaths:\n",
    "    language = get_language(filepath)\n",
    "    languages.append(language)\n",
    "    \n",
    "    with open(filepath, 'r') as fp:\n",
    "        lines = fp.readlines()  # convertendo as linhas de um arquivo em uma lista de linhas\n",
    "\n",
    "        for line in lines:\n",
    "            line = line.strip()  # removendo \\n e espaços no começo e fim da string\n",
    "            language_names[language].append([*line])  # usamos * para \"descompactar\" string em caracteres\n",
    "\n",
    "print('5 primeiros nomes em árabe:', language_names['Arabic'][:5])\n",
    "print('Idiomas disponíveis no conjunto de dados:', languages)"
   ]
  },
  {
   "cell_type": "markdown",
   "id": "ba280ce7-abf7-4cb7-b3be-d9fa49f28952",
   "metadata": {},
   "source": [
    "Seguindo as ideias trabalhadas em notebooks passados, precisamos criar um mapeamento entre *tokens* e índices. No nosso caso, o *token* é uma letra do nosso alfabeto. Para isso, iremos construir nosso alfabeto (vocabulário), com base nas letras únicas de todos os nomes da base de dados, e, posteriormente, iremos criar 2 estruturas para realizar tal mapeamento: `token2index` e `index2token`.\n",
    "\n",
    "> Além dos *tokens* obtidos através do texto, é muito comum vermos também outros 3 *tokens* especiais:\n",
    "> - **\\<sos\\>**: abreviação para *start-of-sequence*, ou início de sentença.\n",
    "> - **\\<eos\\>**: abreviação para *end-of-sequence*, ou fim de sentença.\n",
    "> - **\\<pad\\>**: *token* especial destinado para indicar um valor de *pad* na nossa sequência.\n",
    "\n",
    "- Para esse notebook, os *tokens* de **\\<sos\\>** e **\\<eos\\>** não serão tão úteis assim, uma vez que eles são utilizados mais em arquiteturas *encoder-decoder* e para geração de sentenças. Já o *token* **\\<pad\\>** será útil para podermos trabalhar com a ideia de *batches*, mesmo em dados de tamanho variável (que é o nosso caso). Porém, para manter a simplicidade e o propósito deste notebook, não iremos trabalhar com *batches* por enquanto."
   ]
  },
  {
   "cell_type": "code",
   "execution_count": 7,
   "id": "81434dc8-70a4-4f14-bca3-ddfa27ae1d98",
   "metadata": {},
   "outputs": [
    {
     "name": "stdout",
     "output_type": "stream",
     "text": [
      "Tamanho do alfabeto: 82\n",
      "5 tokens aleatórios do alfabeto: ['ä', 'h', 'I', 'ñ', 'ã']\n"
     ]
    }
   ],
   "source": [
    "vocabulary = []\n",
    "\n",
    "for names in language_names.values():\n",
    "    for name in names:\n",
    "        for token in name:\n",
    "            if token not in vocabulary:\n",
    "                vocabulary.append(token)\n",
    "\n",
    "print('Tamanho do alfabeto:', len(vocabulary))\n",
    "print('5 tokens aleatórios do alfabeto:', random.choices(vocabulary, k=5))"
   ]
  },
  {
   "cell_type": "code",
   "execution_count": 8,
   "id": "8d38da7e-5302-4d5d-bf54-27531a9dfc45",
   "metadata": {},
   "outputs": [
    {
     "name": "stdout",
     "output_type": "stream",
     "text": [
      "Token de índice 42: L\n",
      "Índice do token \"A\": 21\n"
     ]
    }
   ],
   "source": [
    "index2token = []\n",
    "token2index = {}\n",
    "\n",
    "for token_idx, token in enumerate(vocabulary):\n",
    "    index2token.append(token)\n",
    "    token2index[token] = token_idx\n",
    "\n",
    "print('Token de índice 42:', index2token[42])\n",
    "print('Índice do token \"A\":', token2index['A'])"
   ]
  },
  {
   "cell_type": "markdown",
   "id": "e73199e9-979e-407f-9716-fec5315ea64a",
   "metadata": {},
   "source": [
    "Agora que temos as estruturas `index2token` e `token2index` bem definidas, conseguimos converter um nome em um tensor de índices numéricos através através das funções `token2tensor` e `name2tensor`, como demonstrado a seguir.\n",
    "\n",
    "> **Observação:** Criaremos um tensor de tamanho $n \\times 1$, onde $n$ é o tamanho do nome e $1$ o tamanho do nosso *batch*. Para esse notebook, nós não iremos trabalhar com `batch_size > 1`, devido à complicações relacionadas com manipulação de sequências e *padding*. Deixaremos tais assuntos para serem abordados no notebook de `seq2seq`.\n",
    "\n",
    "- Optamos por trocar a ordem padrão das dimensões dos dados em PyTorch, ou seja, com o tamanho do *batch* no começo, para facilitar operações em sequências no futuro, como utilizar `len` para obter o tamanho da sequência e tornar a indexação mais fácil. Na verdade, especificamente para sequências, PyTorch nos dá a opção de colocar o tamanho do *batch* como primeira dimensão do nosso tensor ou na segunda, sendo a primeira o tamanho da nossa sequência. Veremos isso em mais detalhes quando trabalharmos com os modelos recorrentes implementados pelo PyTorch."
   ]
  },
  {
   "cell_type": "code",
   "execution_count": 9,
   "id": "15d18b1c-b76f-4032-b7a7-9c5c74a28644",
   "metadata": {},
   "outputs": [
    {
     "name": "stdout",
     "output_type": "stream",
     "text": [
      "Tensor para o token J: tensor([49])\n",
      "Tensor para o nome Jonas: tensor([[49,  2, 24,  7,  8]])\n"
     ]
    }
   ],
   "source": [
    "def token2tensor(token):\n",
    "    return torch.tensor([token2index[token]], dtype=torch.long)\n",
    "\n",
    "def name2tensor(name):\n",
    "    tensor = torch.zeros((len(name), 1), dtype=torch.long)\n",
    "    \n",
    "    for idx, token in enumerate(name):\n",
    "        tensor[idx] = token2tensor(token)\n",
    "\n",
    "    return tensor\n",
    "\n",
    "name = 'Jonas'\n",
    "print(f'Tensor para o token J:', token2tensor('J'))\n",
    "print(f'Tensor para o nome {name}: {name2tensor(name).T}')  # transposição para fins de print"
   ]
  },
  {
   "cell_type": "markdown",
   "id": "f2462d5c-c8cc-4d34-821f-ece8d2921fbb",
   "metadata": {},
   "source": [
    "Para finalizar essa parte do notebook sobre dados, iremos criar uma função auxiliar `get_random_pair` para selecionar de forma aleatória um par `(nome, idioma)` da nossa base dados. Além disso, tal função irá retornar os tensores relacionados com cada componente do par.\n",
    "\n",
    "- Por ora não iremos nos preocupar com a separação entre conjuntos de treino, validação e teste. O objetivo desse notebook é de ensinar como trabalhamos do zero com dados sequenciais, e também como implementar do zero uma rede neural recorrente simples."
   ]
  },
  {
   "cell_type": "code",
   "execution_count": 10,
   "id": "6bc1a934-7161-46b9-a70d-f55cf23a169c",
   "metadata": {},
   "outputs": [],
   "source": [
    "def language2tensor(language):\n",
    "    return torch.tensor([languages.index(language)], dtype=torch.long)\n",
    "\n",
    "def get_random_pair():\n",
    "    language = random.choice(languages)\n",
    "    name = random.choice(language_names[language])\n",
    "    name = ''.join(name)  # convertendo lista de caracteres em string\n",
    "\n",
    "    name_tensor = name2tensor(name)\n",
    "    language_tensor = language2tensor(language)\n",
    "\n",
    "    return name, language, name_tensor, language_tensor"
   ]
  },
  {
   "cell_type": "code",
   "execution_count": 11,
   "id": "0e2952b4-92b5-4498-964c-4fea70809a25",
   "metadata": {},
   "outputs": [
    {
     "name": "stdout",
     "output_type": "stream",
     "text": [
      "Par selecionado: ('Ferro', 'Portuguese')\n",
      "Tensores do par: (tensor([[37, 10,  4,  4,  2]]), tensor([11]))\n"
     ]
    }
   ],
   "source": [
    "name, language, name_tensor, language_tensor = get_random_pair()\n",
    "\n",
    "print('Par selecionado:', (name, language))\n",
    "print('Tensores do par:', (name_tensor.T, language_tensor))"
   ]
  },
  {
   "cell_type": "markdown",
   "id": "58ea4ad8-7ecd-4dd4-a058-e2e658e518e9",
   "metadata": {},
   "source": [
    "## Finalmente... RNNs\n",
    "\n",
    "Primeiramente, vamos relembrar como que funciona uma camada de uma rede neural *feed-forward*. A operação feita por essa camada é representada pela seguinte equação:\n",
    "\n",
    "\\begin{align*}\n",
    "    f(X) = \\sigma (W_{xh}X + b_h)\n",
    "\\end{align*}\n",
    "\n",
    "sendo,\n",
    "- $X \\in \\mathbb{R}^{b \\times d}$ o dado de entrada, sendo $b$ o número de amostras do nosso *batch* e $d$ a dimensão de cada amostra.\n",
    "- $W_{xh} \\in \\mathbb{R}^{d \\times h}$ a matriz de pesos que \"leva\" $X$, de dimensão $d$, para uma dimensão de saída $h$.\n",
    "- $b_h \\in \\mathbb{R}^{1 \\times h}$ o viés relacionado com a matriz de pesos $W_{xh}$.\n",
    "- $\\sigma$ uma função de ativação não linear qualquer.\n",
    "\n",
    "O resultado dessa operação é $f(X) \\in \\mathbb{R}^{b \\times h}$, podendo ser usado tanto como uma feature intermediária para outras camadas neurais, quanto a saída final do modelo.\n",
    "\n",
    "No começo do curso, vimos que esse tipo de operação pode ser computada através da camada `nn.Linear` do PyTorch."
   ]
  },
  {
   "cell_type": "code",
   "execution_count": 12,
   "id": "d8b23a7c-cca6-43ce-8b73-d020110b3317",
   "metadata": {},
   "outputs": [
    {
     "data": {
      "text/plain": [
       "torch.Size([1, 5])"
      ]
     },
     "execution_count": 12,
     "metadata": {},
     "output_type": "execute_result"
    }
   ],
   "source": [
    "x = torch.rand(1, 10)  # um tensor aleatório com b = 1 e d = 10\n",
    "linear = nn.Linear(10, 5, bias=True)  # por padrão o viés sempre será igual à True, estamos apenas explicitando isso\n",
    "\n",
    "linear(x).shape"
   ]
  },
  {
   "cell_type": "markdown",
   "id": "15f7f8e9-9bda-4521-8335-dc74605c77ea",
   "metadata": {},
   "source": [
    "Uma rede neural recorrente, por outro lado, é uma função não só de $X$, mas também de um *hidden state* $H \\in R^{b \\times h}$, que representa a memória interna da unidade recorrente. Em outras palavras, a unidade recorrente é uma função da entrada atual $X^{<t>}$ e do conhecimento prévio acumulado $H^{<t-1>}$, onde $t$ representa o *timestep* atual.\n",
    "\n",
    "Para comportar essa mudança em uma rede neural *feed-forward*, basta adicionarmos uma matriz de pesos $W_{hh} \\in R^{h \\times h}$, que irá operar com a memória interna de *timesteps* anteriores, ou seja:\n",
    "\n",
    "\\begin{align*}\n",
    "f(X^{<t>}, H^{<t-1>}) = \\sigma (W_{xh}X^{<t>} + W_{hh}H^{<t-1>} + b_h)\n",
    "\\end{align*}\n",
    "\n",
    "Redes neurais recorrentes operam sobre processos **iterativos**, que devem ser executado com todos os elementos $X^{<t>}$ da sequência de entrada $X = \\{X^{<1>}, X^{<2>}, \\dots , X^{<n>}\\}$, sendo $n$ o tamanho da sequência. O *forward* do nosso modelo irá produzir um conjunto de *hidden states* $H = \\{H^{<1>}, H^{<2>}, \\dots, H^{<n>}\\}$, como observado na imagem a seguir, onde temos uma \"versão compacta\" (esquerda) e \"desenrolada\" (direita) da rede.\n",
    "\n",
    "<img width=1100, src=\"https://github.com/ThiagoPoppe/ciag2024/blob/main/imagens/diagrama_rnn.png?raw=true\" />\n",
    "\n",
    "> **Atenção:** Na primeira iteração, o *hidden state* $H^{<0>}$ deve ser inicializado. Existem vários métodos de inicialização, sendo os mais comuns inicialização aleatória ou com zeros.\n",
    "\n",
    "Além disso, podemos utilizar as saídas $H$ para computar predições em cada instante de tempo $t$, permitindo a modelagem dos vários tipos de modelos recorrentes, como modelos *one-to-many*, *many-to-one* e *many-to-many*. A equação completa de uma RNN, seguindo essa ideia fica da seguinte forma:\n",
    "\n",
    "\\begin{align*}\n",
    "H^{<t>} &= \\sigma_1 (W_{xh}X^{<t>} + W_{hh}H^{<t-1>} + b_h) \\\\\n",
    "\\hat{y}^{<t>} &= \\sigma_2 (W_{hy}H^{<t>} + b_y)\n",
    "\\end{align*}\n",
    "\n",
    "sendo,\n",
    "- $\\sigma_1$ e $\\sigma_2$, funções de ativações não lineares. Tipicamente $\\sigma_1 = \\text{tanh}$ e $\\sigma_2$ varia de problema para problema.\n",
    "- $W_{hy} \\in \\mathbb{R}^{h \\times c}$ a matriz de pesos que \"leva\" $H^{<t>}$, de dimensão $h$, para uma dimensão de saída $c$ (dimensão da predição).\n",
    "- $b_y \\in \\mathbb{R}^{1 \\times c}$ o viés relacionado com a matriz de pesos $W_{hy}$.\n",
    "\n",
    "Tudo isso pode ser feito em PyTorch através de uma combinação de unidades ``nn.Linear``, como podemos ver a seguir."
   ]
  },
  {
   "cell_type": "code",
   "execution_count": 13,
   "id": "72629785-a524-43b9-8ae6-b0e009fa4c03",
   "metadata": {},
   "outputs": [],
   "source": [
    "class RNN(nn.Module):\n",
    "    def __init__(self, input_size, hidden_size, output_size):\n",
    "        super().__init__()\n",
    "\n",
    "        self.hidden_size = hidden_size\n",
    "        self.i2h = nn.Linear(input_size, hidden_size, bias=False)  # isso cuida de Wxh @ X^<t>\n",
    "        self.h2h = nn.Linear(hidden_size, hidden_size)  # isso cuida de Whh @ H^<t-1> + bh\n",
    "        self.h2o = nn.Linear(hidden_size, output_size)  # isso cuida de Why @ H^<t> + by\n",
    "\n",
    "        # Definindo funções de ativação\n",
    "        self.tanh = nn.Tanh()\n",
    "        self.softmax = nn.LogSoftmax(dim=-1)  # a última dimensão será a dimensão das predições\n",
    "    \n",
    "    def forward(self, x, prev_hidden):\n",
    "        hidden = self.tanh(self.i2h(x) + self.h2h(prev_hidden))\n",
    "        output = self.softmax(self.h2o(hidden))\n",
    "\n",
    "        return output, hidden\n",
    "        \n",
    "    def init_hidden(self):\n",
    "        return torch.zeros(1, self.hidden_size)"
   ]
  },
  {
   "cell_type": "markdown",
   "id": "b08f4beb-2743-46b3-a9ad-e01da74e555f",
   "metadata": {},
   "source": [
    "Suponha que após aplicarmos o *embedding*, nós tenhamos a matriz `X`, cujas dimensões são: $S \\times 1 \\times E$, onde $S$ é o tamanho da sequência e $E$ o tamanho do *embedding* escolhido. Uma passagem desse dado pela rede definida anteriormente, será dado da seguinte forma.\n",
    "\n",
    "> Para esse exemplo utilizamos: $S = 4$, $E = 2$, $h = 8$ e estaremos prevendo 10 classes."
   ]
  },
  {
   "cell_type": "code",
   "execution_count": 14,
   "id": "d276d5d1-60fa-4887-932d-62d8c406d8b9",
   "metadata": {},
   "outputs": [
    {
     "name": "stdout",
     "output_type": "stream",
     "text": [
      "Tamanho do output final: torch.Size([1, 10])\n",
      "Tamanho do hidden final: torch.Size([1, 8])\n"
     ]
    }
   ],
   "source": [
    "seq_length = 4\n",
    "embedding_size = 2\n",
    "X = torch.rand(seq_length, 1, embedding_size)  # definindo uma matriz X aleatória apenas para exemplo\n",
    "\n",
    "hidden_size = 8\n",
    "output_size = 10\n",
    "\n",
    "model = RNN(embedding_size, hidden_size, output_size)\n",
    "hidden = model.init_hidden()\n",
    "\n",
    "for Xt in X:\n",
    "    outputs, hidden = model(Xt, hidden)\n",
    "\n",
    "print('Tamanho do output final:', outputs.shape)\n",
    "print('Tamanho do hidden final:', hidden.shape)"
   ]
  },
  {
   "cell_type": "markdown",
   "id": "5ab8f0cf-dd89-4311-b437-dbf69efec4e4",
   "metadata": {},
   "source": [
    "Para encerrar essa seção e finalmente treinar o nosso modelo, iremos comentar brevemente que o PyTorch já disponibiliza para a gente um módulo `nn.RNN` para trabalhar com modelos neurais recorrentes simples. A documentação desse módulo pode ser encontrada [aqui](https://pytorch.org/docs/stable/generated/torch.nn.RNN.html#rnn). Porém, fiquem tranquilos que iremos abordar ele em mais detalhes nos próximos notebooks.\n",
    "\n",
    "> **Observação 01:** Também podemos \"empilhar\" RNNs da mesma forma que \"empilhamos\" redes neurais *feed-forward*. Para isso, basta definirmos uma segunda RNN que admite como entrada um `hidden_size`, ao invés do tamanho do embedding escolhido!\n",
    "> \n",
    "> **Observação 02:** Devido a forma de como o PyTorch implementa modelos recorrentes, transformar um código que usa RNNs para outro que usa, por exemplo, LSTMs e GRUs (ou até mesmo Transformers!) acaba sendo relativamente fácil. Veremos isso em mais detalhes nos próximos dias."
   ]
  },
  {
   "cell_type": "markdown",
   "id": "e7198930-2358-466c-8f34-ce061987fc87",
   "metadata": {},
   "source": [
    "## Treinamento do modelo final\n",
    "\n",
    "Para unir todos os conceitos relacionados com modelos que vimos até então: *embeddings* + *RNNs*, iremos criar um \"super\" modelo `NameClassificationModel` para realizar todo o *pipeline* de processamento dos dados por parte dos modelos neurais."
   ]
  },
  {
   "cell_type": "code",
   "execution_count": 15,
   "id": "c9bf0331-d169-41c6-8ef2-72634b409bc6",
   "metadata": {},
   "outputs": [],
   "source": [
    "class NameClassificationModel(nn.Module):\n",
    "    def __init__(self, vocabulary_size, embedding_size, hidden_size, output_size):\n",
    "        super().__init__()\n",
    "\n",
    "        self.embedding = nn.Embedding(vocabulary_size, embedding_size)\n",
    "        self.rnn = RNN(embedding_size, hidden_size, output_size)\n",
    "\n",
    "    def forward(self, x):\n",
    "        x = self.embedding(x)\n",
    "\n",
    "        hidden = self.rnn.init_hidden().to(device)\n",
    "        for xt in x:\n",
    "            output, hidden = self.rnn(xt, hidden)\n",
    "\n",
    "        # Como não estamos interessados na memória, iremos apenas retornar o último output\n",
    "        return output"
   ]
  },
  {
   "cell_type": "markdown",
   "id": "a536e07a-bc36-4b86-8888-709d40ae3cb1",
   "metadata": {},
   "source": [
    "Criaremos uma função auxiliar para retornar a classe predita pelo modelo (idioma e seu índice)."
   ]
  },
  {
   "cell_type": "code",
   "execution_count": 16,
   "id": "892ac3ec-53bd-465f-bc23-72fea04e2f6e",
   "metadata": {},
   "outputs": [
    {
     "name": "stdout",
     "output_type": "stream",
     "text": [
      "Entrada do modelo: ('Peña', 'Spanish')\n",
      "Dimensão da saída do modelo: torch.Size([1, 18])\n",
      "Predição do modelo: Arabic\n"
     ]
    }
   ],
   "source": [
    "# Verificando se o modelo retorna aquilo que esperamos\n",
    "hidden_size = 32\n",
    "embedding_size = 16\n",
    "\n",
    "model = NameClassificationModel(len(vocabulary), embedding_size, hidden_size, len(languages))\n",
    "model = model.to(device)\n",
    "\n",
    "name, language, name_tensor, language_tensor = get_random_pair()\n",
    "name_tensor = name_tensor.to(device)\n",
    "language_tensor = language_tensor.to(device)\n",
    "\n",
    "output = model(name_tensor)\n",
    "print('Entrada do modelo:', (name, language))\n",
    "print('Dimensão da saída do modelo:', output.shape)\n",
    "print('Predição do modelo:', languages[output.argmax()])"
   ]
  },
  {
   "cell_type": "markdown",
   "id": "2211d8fc-5cdc-4637-a61f-2b4e9f56ae0a",
   "metadata": {},
   "source": [
    "Realizando o loop de treinamento.\n",
    "\n",
    "> Como o nosso modelo recorrente possui como última camada uma `LogSoftmax`, iremos utilizar a função de perda `nn.NLLLoss` (*negative log-likelihood*), que espera log-probabilidades como saída da rede. Um fato curioso é que `nn.CrossEntropyLoss = LogSoftmax + nn.NLLLoss`, segundo a própria [documentação](https://pytorch.org/docs/stable/generated/torch.nn.CrossEntropyLoss.html) da `nn.CrossEntropyLoss`."
   ]
  },
  {
   "cell_type": "code",
   "execution_count": 17,
   "id": "c35d9fc1-4995-463e-8684-789e43032da1",
   "metadata": {},
   "outputs": [
    {
     "data": {
      "application/vnd.jupyter.widget-view+json": {
       "model_id": "7f584bd8c5a9470c8bdd2cc4ffe57d40",
       "version_major": 2,
       "version_minor": 0
      },
      "text/plain": [
       "  0%|          | 0/100000 [00:00<?, ?it/s]"
      ]
     },
     "metadata": {},
     "output_type": "display_data"
    },
    {
     "name": "stdout",
     "output_type": "stream",
     "text": [
      "Iter [5000/100000] => loss: 2.30112, De santigo is Portuguese ✗ (Spanish)\n",
      "Iter [10000/100000] => loss: 3.27652, Noel is Korean ✗ (French)\n",
      "Iter [15000/100000] => loss: 1.51303, Rheem is Korean ✓\n",
      "Iter [20000/100000] => loss: 1.72173, Romero is Portuguese ✗ (Spanish)\n",
      "Iter [25000/100000] => loss: 1.64266, Zapatero is Portuguese ✗ (Spanish)\n",
      "Iter [30000/100000] => loss: 1.98004, Porto is Portuguese ✗ (Italian)\n",
      "Iter [35000/100000] => loss: 0.06628, Milionis is Greek ✓\n",
      "Iter [40000/100000] => loss: 5.51139, Koshin is Russian ✗ (Japanese)\n",
      "Iter [45000/100000] => loss: 1.51210, Perrot is English ✗ (French)\n",
      "Iter [50000/100000] => loss: 2.44401, Alexander is French ✗ (Scottish)\n",
      "Iter [55000/100000] => loss: 1.74800, Tickner is Dutch ✗ (English)\n",
      "Iter [60000/100000] => loss: 0.54131, Fakhoury is Arabic ✓\n",
      "Iter [65000/100000] => loss: 0.25860, Xue is Chinese ✓\n",
      "Iter [70000/100000] => loss: 3.67852, Uerling is English ✗ (Czech)\n",
      "Iter [75000/100000] => loss: 1.17860, Jirik is Czech ✓\n",
      "Iter [80000/100000] => loss: 2.59560, Brodeur is German ✗ (French)\n",
      "Iter [85000/100000] => loss: 1.89074, Metzger is Dutch ✗ (German)\n",
      "Iter [90000/100000] => loss: 2.79629, Topliss is Greek ✗ (English)\n",
      "Iter [95000/100000] => loss: 0.09398, O'Hannagain is Irish ✓\n",
      "Iter [100000/100000] => loss: 0.24217, Handal is Arabic ✓\n"
     ]
    }
   ],
   "source": [
    "criterion = nn.NLLLoss()\n",
    "optimizer = optim.Adam(model.parameters(), lr=0.0005)\n",
    "\n",
    "loss_interval = 1000  # intervalo para salvar a loss média\n",
    "print_interval = 5000  # intervalo para exibir performance da rede\n",
    "num_iterations = 100000\n",
    "\n",
    "# Variáveis para manter o valor da loss ao longo das épocas\n",
    "all_losses = []\n",
    "current_loss = 0\n",
    "\n",
    "for iter in tqdm(range(1, num_iterations + 1)):\n",
    "    name, language, name_tensor, language_tensor = get_random_pair()\n",
    "    \n",
    "    name_tensor = name_tensor.to(device)\n",
    "    language_tensor = language_tensor.to(device)\n",
    "\n",
    "    output = model(name_tensor)\n",
    "    loss = criterion(output, language_tensor)\n",
    "    current_loss += loss.item()\n",
    "\n",
    "    optimizer.zero_grad()\n",
    "    loss.backward()\n",
    "    optimizer.step()\n",
    "    \n",
    "    if iter % print_interval == 0:\n",
    "        guess = languages[output.argmax()]\n",
    "        correct = '✓' if guess == language else f'✗ ({language})'\n",
    "        print(f'Iter [{iter}/{num_iterations}] => loss: {loss:.5f}, {name} is {guess} {correct}')\n",
    "\n",
    "    if iter % loss_interval == 0:\n",
    "        all_losses.append(current_loss / loss_interval)\n",
    "        current_loss = 0"
   ]
  },
  {
   "cell_type": "code",
   "execution_count": 18,
   "id": "fde12879-2212-43cd-be8b-79b2056ce5cf",
   "metadata": {},
   "outputs": [
    {
     "data": {
      "image/png": "[encoded data removed]",
      "text/plain": [
       "<Figure size 640x480 with 1 Axes>"
      ]
     },
     "metadata": {},
     "output_type": "display_data"
    }
   ],
   "source": [
    "plt.title('Evolução da função de perda média ao longo das iterações')\n",
    "plt.xlabel('Intervalo de Salvamento')\n",
    "plt.ylabel('Valor médio')\n",
    "    \n",
    "plt.plot(all_losses)\n",
    "plt.show()"
   ]
  },
  {
   "cell_type": "markdown",
   "id": "9bbc696a-94b8-482d-b85c-e28a3abc0128",
   "metadata": {},
   "source": [
    "## Avaliando os resultados obtidos\n",
    "\n",
    "Para verificar o desempenho da rede em diferentes idiomas, criaremos uma matriz de confusão, indicando para cada idioma real (linhas) qual idioma a rede adivinha (colunas). Para calcular a matriz de confusão, uma quantia grande de amostras, definida pela variável `num_confusion_samples`, serão processadas pela rede em modo de avaliação."
   ]
  },
  {
   "cell_type": "code",
   "execution_count": 19,
   "id": "08d1d04e-e4b4-45ca-be98-75ef27394cc9",
   "metadata": {},
   "outputs": [
    {
     "data": {
      "application/vnd.jupyter.widget-view+json": {
       "model_id": "d211ac358c584f1a934438452d1382b8",
       "version_major": 2,
       "version_minor": 0
      },
      "text/plain": [
       "  0%|          | 0/10000 [00:00<?, ?it/s]"
      ]
     },
     "metadata": {},
     "output_type": "display_data"
    },
    {
     "data": {
      "image/png": "[encoded data removed]",
      "text/plain": [
       "<Figure size 640x480 with 2 Axes>"
      ]
     },
     "metadata": {},
     "output_type": "display_data"
    }
   ],
   "source": [
    "num_confusion_samples = 10000\n",
    "confusion_matrix = torch.zeros(len(languages), len(languages))\n",
    "\n",
    "model.eval()\n",
    "with torch.no_grad():\n",
    "    for i in tqdm(range(num_confusion_samples)):\n",
    "        name, language, name_tensor, language_tensor = get_random_pair()\n",
    "\n",
    "        name_tensor = name_tensor.to(device)\n",
    "        language_tensor = language_tensor.to(device)\n",
    "\n",
    "        output = model(name_tensor)\n",
    "        guess = languages[output.argmax()]\n",
    "\n",
    "        guess_idx = languages.index(guess)\n",
    "        language_idx = languages.index(language)\n",
    "\n",
    "        confusion_matrix[language_idx, guess_idx] += 1\n",
    "\n",
    "# Normalizando as linhas da matriz de confusão\n",
    "for i in range(len(languages)):\n",
    "    confusion_matrix[i] /= confusion_matrix[i].sum()\n",
    "\n",
    "# Configurando o plot\n",
    "fig, ax = plt.subplots()\n",
    "\n",
    "img = ax.matshow(confusion_matrix.numpy())\n",
    "fig.colorbar(img)\n",
    "\n",
    "ax.set_xticks(range(len(languages)), languages, rotation=90)\n",
    "ax.set_yticks(range(len(languages)), languages)\n",
    "\n",
    "fig.tight_layout()"
   ]
  },
  {
   "cell_type": "markdown",
   "id": "fabfd144-d3d6-4534-ab96-6b1a6ea644de",
   "metadata": {},
   "source": [
    "## Verificando as top 3 predições da rede"
   ]
  },
  {
   "cell_type": "code",
   "execution_count": 20,
   "id": "2a11a96e-9b04-4a02-a45b-d3ad69925856",
   "metadata": {},
   "outputs": [
    {
     "name": "stdout",
     "output_type": "stream",
     "text": [
      "\n",
      "> Dovesky\n",
      "(0.69) Russian\n",
      "(0.20) Czech\n",
      "(0.06) Polish\n",
      "\n",
      "> Jackson\n",
      "(0.82) Scottish\n",
      "(0.10) English\n",
      "(0.02) Polish\n"
     ]
    }
   ],
   "source": [
    "def predict(name):\n",
    "    print(f'\\n> {name}')\n",
    "\n",
    "    model.eval()\n",
    "    with torch.no_grad():\n",
    "        name_tensor = name2tensor(name).to(device)\n",
    "        output = model(name_tensor)\n",
    "\n",
    "        vals, idxs = torch.topk(output[0], k=3, dim=-1)\n",
    "        for val, idx in zip(vals, idxs):\n",
    "            prob = torch.e ** val  # probabilidade = exp(log-probabilidade)\n",
    "            print(f'({prob:.2f}) {languages[idx]}')\n",
    "            \n",
    "predict('Dovesky')\n",
    "predict('Jackson')"
   ]
  },
  {
   "cell_type": "markdown",
   "id": "0a1354f5-48cd-49fa-9321-59e7cf360f27",
   "metadata": {},
   "source": [
    "Iremos pegar um exemplo que não está na base de dados: `Satoshi`"
   ]
  },
  {
   "cell_type": "code",
   "execution_count": 21,
   "id": "93587b5e-2958-4736-b418-b918f9eb53a0",
   "metadata": {},
   "outputs": [
    {
     "name": "stdout",
     "output_type": "stream",
     "text": [
      "A base de dados contém o nome \"Satoshi\"? False\n"
     ]
    }
   ],
   "source": [
    "has_satoshi = 'Satoshi' in language_names['Japanese']\n",
    "print(f'A base de dados contém o nome \"Satoshi\"? {has_satoshi}')"
   ]
  },
  {
   "cell_type": "code",
   "execution_count": 22,
   "id": "cafa0bf4-65ae-4761-b0f8-a2fcbd5a0cb9",
   "metadata": {},
   "outputs": [
    {
     "name": "stdout",
     "output_type": "stream",
     "text": [
      "\n",
      "> Satoshi\n",
      "(0.97) Japanese\n",
      "(0.02) Arabic\n",
      "(0.01) Polish\n"
     ]
    }
   ],
   "source": [
    "predict('Satoshi')"
   ]
  },
  {
   "cell_type": "code",
   "execution_count": null,
   "metadata": {},
   "outputs": [],
   "source": []
  }
 ],
 "metadata": {
  "kernelspec": {
   "display_name": "ej0f",
   "language": "python",
   "name": "ej0f"
  },
  "language_info": {
   "codemirror_mode": {
    "name": "ipython",
    "version": 3
   },
   "file_extension": ".py",
   "mimetype": "text/x-python",
   "name": "python",
   "nbconvert_exporter": "python",
   "pygments_lexer": "ipython3",
   "version": "3.10.12"
  }
 },
 "nbformat": 4,
 "nbformat_minor": 5
}
