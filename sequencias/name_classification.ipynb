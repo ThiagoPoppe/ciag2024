{
 "cells": [
  {
   "cell_type": "markdown",
   "id": "65d726cc",
   "metadata": {},
   "source": [
    "# Sequências - Aula Prática 01/04\n",
    "## RNNs (Recurrent Neural Networks)\n",
    "\n",
    "Neste notebook iremos trabalhar com a abordagem inicial de redes neurais recorrentes (RNNs), implementando **do zero** uma RNN utilizando PyTorch. Além disso, iremos usar RNNs para para realizar uma classificação de nomes a nível de caractere.\n",
    "\n",
    "> Em outras palavras, queremos fazer uma associação de *nome* para *país de origem*, processando caractere por caractere do nome de entrada. Ou seja, dado o nome `Satoshi`, iremos processar o nome como uma sequência: `S -> a -> t -> ... -> i`, classificando esse nome como sendo japonês.\n",
    "\n",
    "- Esse notebook foi fortemente inspirado no primeiro tutorial da série [NLP From Scratch](https://pytorch.org/tutorials/intermediate/char_rnn_classification_tutorial.html), disponibilizado no site do PyTorch."
   ]
  },
  {
   "cell_type": "markdown",
   "id": "9728115f",
   "metadata": {},
   "source": [
    "- **Importante:** caso esteja rodando esse notebook no ambiente da Tatu, favor descomentar e executar a seguinte célula. Caso contrário, basta deixá-la comentada e ignorar a sua execução."
   ]
  },
  {
   "cell_type": "code",
   "execution_count": null,
   "id": "7de7e6c9",
   "metadata": {},
   "outputs": [
    {
     "name": "stdin",
     "output_type": "stream",
     "text": [
      "Chave:  ej0f\n",
      "Senha: ········\n"
     ]
    },
    {
     "name": "stdout",
     "output_type": "stream",
     "text": [
      "\n",
      "Variáveis de ambiente http_proxy e https_proxy configuradas!\n"
     ]
    }
   ],
   "source": [
    "%load_ext nbproxy"
   ]
  },
  {
   "cell_type": "markdown",
   "id": "2887cf1f",
   "metadata": {},
   "source": [
    "Definindo um diretório temporário para salvar dados e eventuais saídas de modelos.\n",
    "> Lembre-se de executar a última célula deste notebook para apagar esse diretório temporário."
   ]
  },
  {
   "cell_type": "code",
   "execution_count": null,
   "id": "26344623",
   "metadata": {},
   "outputs": [
    {
     "name": "stdout",
     "output_type": "stream",
     "text": [
      "Nome do diretório temporário: /tmp/tmp6q_3g7co\n"
     ]
    }
   ],
   "source": [
    "import tempfile\n",
    "tmp = tempfile.TemporaryDirectory()\n",
    "\n",
    "print('Nome do diretório temporário:', tmp.name)"
   ]
  },
  {
   "cell_type": "markdown",
   "id": "071c310f",
   "metadata": {},
   "source": [
    "## Importação de pacotes"
   ]
  },
  {
   "cell_type": "code",
   "execution_count": null,
   "id": "2f2a1662",
   "metadata": {},
   "outputs": [],
   "source": [
    "import torch\n",
    "import torchtext\n",
    "\n",
    "import numpy as np\n",
    "import pandas as pd\n",
    "import torch.nn as nn\n",
    "import torch.optim as optim\n",
    "\n",
    "import seaborn as sns\n",
    "import matplotlib.pyplot as plt\n",
    "\n",
    "from os.path import join as ospj\n",
    "from torch.utils.data import Dataset\n",
    "\n",
    "sns.set_style('dark')"
   ]
  },
  {
   "cell_type": "markdown",
   "id": "fc1f20f8-663a-4c74-9987-a0fab09e6063",
   "metadata": {},
   "source": [
    "## Analogias\n",
    "\n",
    "Analogias são associações de mesma natureza entre palavras (como flexões de gênero ou número). A geometria dessas associações pode ser visualizada no espaço vetorial onde as palavras são projetadas e, em modelos bem treinados, deve ser possível encontrar semelhanças entre associações de mesma natureza.\n",
    "\n",
    "<img width=600 src=\"../imagens/analogias.png\"/>\n",
    "\n",
    "Ao longo deste notebook, utilizaremos o modelo `GloVe` para realizar a projeção de palavras em um espaço vetorial. Mais especificamente, usaremos o módulo `torchtext` para carregar um modelo pré-treinado em uma base de dados de 6 bilhões de tokens, realizando uma projeção das palavras em um espaço 100 dimensional."
   ]
  },
  {
   "cell_type": "code",
   "execution_count": null,
   "id": "de45c8b7-c973-461c-b75d-f5a5da3ff3cf",
   "metadata": {},
   "outputs": [
    {
     "data": {
      "text/plain": [
       "dict_keys(['charngram.100d', 'fasttext.en.300d', 'fasttext.simple.300d', 'glove.42B.300d', 'glove.840B.300d', 'glove.twitter.27B.25d', 'glove.twitter.27B.50d', 'glove.twitter.27B.100d', 'glove.twitter.27B.200d', 'glove.6B.50d', 'glove.6B.100d', 'glove.6B.200d', 'glove.6B.300d'])"
      ]
     },
     "execution_count": null,
     "metadata": {},
     "output_type": "execute_result"
    }
   ],
   "source": [
    "# Aqui temos uma lista de modelos pré-treinados que estão disponíveis na torchtext\n",
    "# No caso do GloVe, a nomenclatura utilizada é: glove.<tamanho-do-corpus>.<dimensão>\n",
    "torchtext.vocab.pretrained_aliases.keys()"
   ]
  },
  {
   "cell_type": "markdown",
   "id": "29a52893-8ac8-4b61-ad19-961e89e32779",
   "metadata": {},
   "source": [
    "### Carregamento de um modelo GloVe pré-treinado\n",
    "\n",
    "Iremos utilizar a classe `torchtext.vocab.GloVe` para carregar um modelo `GloVe` pré-treinado.\n",
    "\n",
    "> O modelo retornado pelo `torchtext` possui alguns atributos, como o dicionário `stoi` (*string* to *int*) para mapear uma palavra para um índice numérico e a lista `itos` (*int* to *string*), mapeando um índice númerico para uma palavra. Além disso, conseguimos acessar a matriz de *embeddings* através do atributo `vectors`."
   ]
  },
  {
   "cell_type": "code",
   "execution_count": null,
   "id": "6f45da18-cb6a-4d15-bf1b-1496aa7e9a58",
   "metadata": {},
   "outputs": [
    {
     "name": "stderr",
     "output_type": "stream",
     "text": [
      "/tmp/tmpnj5mvdm_/glove.6B.zip: 862MB [03:17, 4.36MB/s]                               \n",
      "100%|█████████▉| 399999/400000 [00:13<00:00, 29324.53it/s]\n"
     ]
    },
    {
     "name": "stdout",
     "output_type": "stream",
     "text": [
      "Número de tokens mapeados pelo glove.6B.100d: 400000\n",
      "Aqui temos 5 tokens aleatórios mapeados pelo glove.6B.100d: ['hectoliter' 'edomite' 'bastien' 'nsue' 'beacons']\n",
      "A dimensionalidade da matriz de embeddings é: torch.Size([400000, 100])\n"
     ]
    }
   ],
   "source": [
    "glove = torchtext.vocab.GloVe(name='6B', dim=100, cache=tmp.name)\n",
    "\n",
    "random_tokens = np.random.choice(glove.itos, size=5)\n",
    "\n",
    "print('Número de tokens mapeados pelo glove.6B.100d:', len(glove.stoi))\n",
    "print('Aqui temos 5 tokens aleatórios mapeados pelo glove.6B.100d:', random_tokens)\n",
    "print('A dimensionalidade da matriz de embeddings é:', glove.vectors.shape)"
   ]
  },
  {
   "cell_type": "markdown",
   "id": "f0d9afd1-47f4-4503-99d2-326dd9976ebd",
   "metadata": {},
   "source": [
    "### Projeções vetoriais utilizando o GloVe\n",
    "\n",
    "Podemos realizar projeções de palavras utilizando a matriz de *embeddings* computada pelo `glove.6B.100d` através do método `get_vecs_by_tokens`, como visto a seguir."
   ]
  },
  {
   "cell_type": "code",
   "execution_count": null,
   "id": "79ae92be-a232-4e21-acfd-7101cd416ce1",
   "metadata": {},
   "outputs": [
    {
     "data": {
      "image/png": "[encoded data removed]",
      "text/plain": [
       "<Figure size 1600x200 with 2 Axes>"
      ]
     },
     "metadata": {},
     "output_type": "display_data"
    }
   ],
   "source": [
    "tokens = ['man', 'king', 'woman', 'queen']\n",
    "vecs = glove.get_vecs_by_tokens(tokens)\n",
    "\n",
    "plt.matshow(vecs, aspect='auto')\n",
    "plt.yticks(range(4), tokens)\n",
    "plt.colorbar()\n",
    "plt.show()"
   ]
  },
  {
   "cell_type": "markdown",
   "id": "fa8e0fd7-1137-47e2-a5f9-0fe725f1277c",
   "metadata": {},
   "source": [
    "Além disso, podemos visualizar esses vetores no espaço latente para analisar algumas propriedades interessantes. Para tornar a visualização factível, podemos utilizar um algoritmo de redução de dimensionalidade.\n",
    "\n",
    "> Para esse exemplo iremos utilizar o algoritmo de redução de dimensionalidade PCA (*Principal Components Analysis*), devido a uma melhor interpretabilidade para o exemplo escolhido. Porém, é mais comum vermos algoritmos como o t-SNE (*t-distributed Stochastic Neighbor Embedding*), uma vez que este algoritmo preserva a estrutura local do dado original. Para mais detalhes na diferença entre t-SNE e PCA, recomendo a leitura do seguinte [link](https://medium.com/analytics-vidhya/pca-vs-t-sne-17bcd882bf3d)."
   ]
  },
  {
   "cell_type": "code",
   "execution_count": null,
   "id": "ca5aa571-789d-499d-b332-e0314e8437b2",
   "metadata": {},
   "outputs": [
    {
     "name": "stdout",
     "output_type": "stream",
     "text": [
      "Tamanho dos componentes: (6, 2)\n"
     ]
    }
   ],
   "source": [
    "from sklearn.decomposition import PCA\n",
    "\n",
    "tokens = ['man', 'woman', 'king', 'queen', 'brother', 'sister']\n",
    "vecs = glove.get_vecs_by_tokens(tokens)\n",
    "\n",
    "# Calculando a redução de dimensionalidade para um espaço bidimensional\n",
    "pca = PCA(n_components=2)\n",
    "components = pca.fit_transform(vecs.numpy())\n",
    "\n",
    "print('Tamanho dos componentes:', components.shape)"
   ]
  },
  {
   "cell_type": "code",
   "execution_count": null,
   "id": "2f3e5224-fe43-4d2a-b443-6752b2a78a7a",
   "metadata": {},
   "outputs": [
    {
     "data": {
      "image/png": "[encoded data removed]",
      "text/plain": [
       "<Figure size 640x480 with 1 Axes>"
      ]
     },
     "metadata": {},
     "output_type": "display_data"
    }
   ],
   "source": [
    "fig, ax = plt.subplots()\n",
    "ax.scatter(components[:, 0], components[:, 1])\n",
    "\n",
    "for i, token in enumerate(tokens):\n",
    "    ax.annotate(token, (components[i, 0], components[i, 1]))\n",
    "\n",
    "for i in range(0, len(tokens) - 1, 2):\n",
    "    x = (components[i, 0], components[i+1, 0])\n",
    "    y = (components[i, 1], components[i+1, 1])\n",
    "    ax.plot(x, y, linestyle='--')"
   ]
  },
  {
   "cell_type": "markdown",
   "id": "f8c15a0b-da3d-4383-953d-daa3561052b7",
   "metadata": {},
   "source": [
    "Note pela imagem acima como a operação vetorial: $(\\overrightarrow{\\text{king}} - \\overrightarrow{\\text{queen}}) + \\overrightarrow{\\text{sister}} \\approx \\overrightarrow{\\text{brother}}$."
   ]
  },
  {
   "cell_type": "code",
   "execution_count": null,
   "id": "c14dfc68-e90d-4223-a91a-66bd9d6cb3dd",
   "metadata": {},
   "outputs": [
    {
     "name": "stdout",
     "output_type": "stream",
     "text": [
      "Vetor resultante: [ 0.2810793 -2.6646466]\n",
      "Vetor para a palavra \"brother\": [ 0.1251935 -2.1323276]\n"
     ]
    }
   ],
   "source": [
    "king = components[tokens.index('king')]\n",
    "queen = components[tokens.index('queen')]\n",
    "sister = components[tokens.index('sister')]\n",
    "brother = components[tokens.index('brother')]\n",
    "\n",
    "result = (king - queen) + sister\n",
    "print('Vetor resultante:', result)\n",
    "print('Vetor para a palavra \"brother\":', brother)"
   ]
  },
  {
   "cell_type": "markdown",
   "id": "4046dde3-7b30-4ba8-8b0f-f13f28d59c82",
   "metadata": {},
   "source": [
    "<br> Podemos refazer o plot para verificar onde a posição do vetor resultante."
   ]
  },
  {
   "cell_type": "code",
   "execution_count": null,
   "id": "2b52e1e0-32bc-4963-937b-d90d6a054227",
   "metadata": {},
   "outputs": [
    {
     "data": {
      "image/png": "[encoded data removed]",
      "text/plain": [
       "<Figure size 640x480 with 1 Axes>"
      ]
     },
     "metadata": {},
     "output_type": "display_data"
    }
   ],
   "source": [
    "fig, ax = plt.subplots()\n",
    "\n",
    "# Adicionando o ponto do vetor resultante\n",
    "ax.scatter(result[0], result[1], color='red')\n",
    "ax.annotate('resultante', (result[0], result[1]))\n",
    "\n",
    "ax.scatter(components[:, 0], components[:, 1])\n",
    "\n",
    "for i, token in enumerate(tokens):\n",
    "    ax.annotate(token, (components[i, 0], components[i, 1]))\n",
    "\n",
    "for i in range(0, len(tokens) - 1, 2):\n",
    "    x = (components[i, 0], components[i+1, 0])\n",
    "    y = (components[i, 1], components[i+1, 1])\n",
    "    ax.plot(x, y, linestyle='--')"
   ]
  },
  {
   "cell_type": "markdown",
   "id": "7e69816c-412a-4d5d-90ba-cef13b79336d",
   "metadata": {},
   "source": [
    "### Realizando analogias através do GloVe\n",
    "\n",
    "Através de operações vetoriais, como visto anteriormente, somos capazes de criar analogias no espaço latente da nossa representação distribuída, conseguindo responder perguntas como: `rainha está para rei assim como irmã está para ???`.\n",
    "\n",
    "Possuímos diversas estratégias para retornar a palavra correta para tal pergunta. Por exemplo, a partir da imagem da célula anterior, uma possível estratégia é de calcular o top-1 vizinho mais próximo do vetor resultante através de um algoritmo de `KNN`, porém tal estratégia pode ser menos viável em dimensões maiores devido à [maldição da dimensionalidade](https://ieeexplore.ieee.org/stamp/stamp.jsp?tp=&arnumber=6065061). Para esse notebook, iremos utilizar uma estratégia que envolve a similaridade de cosseno entre os vetores no espaço latente, selecionando como analogia aquele vetor com maior similaridade.\n",
    "\n",
    "A similaridade de cosseno pode ser computada através da seguinte equação, onde temos uma operação de similaridade no numerador (produto interno), dividido pelo produto da norma de cada vetor. Também introduzimos um fator $\\epsilon \\approx 1\\mathrm{e}{-6}$ no denominador como um termo para evitar divisão por zero. A distância, ou similaridade, de cosseno possui imagem entre $[-1, +1]$, onde $-1$ indica que os vetores estão apontados para sentidos opostos; $+1$ indica que os vetores estão apontando para a mesma direção; e $0$ indica que os vetores são perpendiculares.\n",
    "\n",
    "$$\n",
    "\\text{similaridade} = \\frac{\\overrightarrow{x_1} \\cdot \\overrightarrow{x_2}}{\\max(\\lVert \\overrightarrow{x_1} \\rVert_2 * \\lVert \\overrightarrow{x_2} \\rVert_2, \\epsilon)}\n",
    "$$\n",
    "\n",
    "Primeiramente, iremos observar os top vetores retornados pela distância de cosseno a partir de uma *query* (palavra) fornecida."
   ]
  },
  {
   "cell_type": "code",
   "execution_count": null,
   "id": "05fd794a-e3b1-473f-a103-8ec3551d115f",
   "metadata": {},
   "outputs": [
    {
     "name": "stdout",
     "output_type": "stream",
     "text": [
      "1. computers -> 0.87520\n",
      "2. software -> 0.83731\n",
      "3. technology -> 0.76422\n",
      "4. pc -> 0.73664\n",
      "5. hardware -> 0.72904\n"
     ]
    }
   ],
   "source": [
    "def get_similar_tokens(query, embedding, k=10):\n",
    "    query_vector = embedding.get_vecs_by_tokens(query)\n",
    "    query_vector = query_vector.unsqueeze(dim=0)  # adicionando uma dimensão para casar com as dimensões do embeddings\n",
    "    \n",
    "    cosine = nn.CosineSimilarity(dim=1)\n",
    "    similarities = cosine(query_vector, embedding.vectors)\n",
    "\n",
    "    result = []\n",
    "    values, indices = torch.topk(similarities, k=k+1)  # a query será mais similar com ela mesma, por isso iremos usar k+1\n",
    "    for value, index in zip(values[1:], indices[1:]):\n",
    "        token = embedding.itos[index]\n",
    "        result.append((token, value))\n",
    "\n",
    "    return result\n",
    "\n",
    "similar_tokens = get_similar_tokens('computer', glove, k=5)\n",
    "for i, (token, similarity) in enumerate(similar_tokens):\n",
    "    print(f'{i+1}. {token} -> {similarity:.5f}')"
   ]
  },
  {
   "cell_type": "markdown",
   "id": "0e3688da-cb4d-4df7-a6d8-a2fb409e8cac",
   "metadata": {},
   "source": [
    "<br> Agora iremos utilizar a distância de cosseno para computar analogias."
   ]
  },
  {
   "cell_type": "code",
   "execution_count": null,
   "id": "ab7dbbe2-899e-4026-a6c2-cab8ee93b130",
   "metadata": {},
   "outputs": [
    {
     "data": {
      "text/plain": [
       "'brother'"
      ]
     },
     "execution_count": null,
     "metadata": {},
     "output_type": "execute_result"
    }
   ],
   "source": [
    "def get_analogy(token1, token2, token3, embedding):\n",
    "    \"\"\"\n",
    "    A ordem dos tokens passados é: <token1> está para <token2> assim como <token3> está para...\n",
    "    \"\"\"\n",
    "    vecs = embedding.get_vecs_by_tokens([token1, token2, token3])\n",
    "    result = (vecs[1] - vecs[0]) + vecs[2]\n",
    "    result = result.unsqueeze(dim=0)  # adicionando uma dimensão para casar com as dimensões do embeddings\n",
    "\n",
    "    cosine = nn.CosineSimilarity(dim=1)\n",
    "    similarities = cosine(result, embedding.vectors)\n",
    "    analogy = embedding.itos[similarities.argmax()]\n",
    "\n",
    "    return analogy\n",
    "\n",
    "get_analogy('queen', 'king', 'sister', glove)"
   ]
  },
  {
   "cell_type": "code",
   "execution_count": null,
   "id": "1e070319-9ddd-49e0-86cc-93b07d48a647",
   "metadata": {},
   "outputs": [
    {
     "data": {
      "text/plain": [
       "'japan'"
      ]
     },
     "execution_count": null,
     "metadata": {},
     "output_type": "execute_result"
    }
   ],
   "source": [
    "get_analogy('beijing', 'china', 'tokyo', glove)"
   ]
  },
  {
   "cell_type": "code",
   "execution_count": null,
   "id": "368b176d-339a-4527-9d99-1d6892e1dec0",
   "metadata": {},
   "outputs": [
    {
     "data": {
      "text/plain": [
       "'went'"
      ]
     },
     "execution_count": null,
     "metadata": {},
     "output_type": "execute_result"
    }
   ],
   "source": [
    "get_analogy('do', 'did', 'go', glove)"
   ]
  },
  {
   "cell_type": "markdown",
   "id": "9465b647-a3f6-4c82-9fc8-d0d73c289f77",
   "metadata": {},
   "source": [
    "## *Fine-tuning* de *embeddings* pré-treinados\n",
    "\n",
    "No mundo de processamento de linguagem natural, é muito comum utilizarmos *embeddings* pré-treinados como um pontapé inicial para a nossa rede, muito por conta desses *embeddings* serem treinados em uma base de dados imensa, necessitando de muito poder computacional se quisermos treinar os nossos próprios *embeddings* do zero.\n",
    "\n",
    "Caso você queira utilizar os pesos pré-treinados do `GloVe`, ou de qualquer outro modelo pré-treinado, em uma camada `nn.Embedding` do seu modelo, você pode inicializar os pesos dessa camada através da função `.from_pretrained`, como ilustrado a seguir."
   ]
  },
  {
   "cell_type": "code",
   "execution_count": null,
   "id": "2dea21ce-b466-4dec-b4d0-fb235a3ee7e3",
   "metadata": {},
   "outputs": [
    {
     "data": {
      "text/plain": [
       "Parameter containing:\n",
       "tensor([[-0.0382, -0.2449,  0.7281,  ..., -0.1459,  0.8278,  0.2706],\n",
       "        [-0.1077,  0.1105,  0.5981,  ..., -0.8316,  0.4529,  0.0826],\n",
       "        [-0.3398,  0.2094,  0.4635,  ..., -0.2339,  0.4730, -0.0288],\n",
       "        ...,\n",
       "        [ 0.3609, -0.1692, -0.3270,  ...,  0.2714, -0.2919,  0.1611],\n",
       "        [-0.1046, -0.5047, -0.4933,  ...,  0.4253, -0.5125, -0.1705],\n",
       "        [ 0.2837, -0.6263, -0.4435,  ...,  0.4368, -0.8261, -0.1570]])"
      ]
     },
     "execution_count": null,
     "metadata": {},
     "output_type": "execute_result"
    }
   ],
   "source": [
    "my_embedding = nn.Embedding.from_pretrained(glove.vectors)\n",
    "my_embedding.weight"
   ]
  },
  {
   "cell_type": "markdown",
   "id": "cf49ca35-9ee2-4889-8011-860ada4cf26e",
   "metadata": {},
   "source": [
    "<br>Também temos a opção de manualmente dizer que queremos que esses pesos sofram um *fine-tuning* ao longo do treinamento.\n",
    "\n",
    "> Por padrão, os pesos do modelo pré-treinado são \"congelados\", indicando que eles não sofrerão atualizações via *backpropagation*."
   ]
  },
  {
   "cell_type": "code",
   "execution_count": null,
   "id": "c27890af-7b34-41ec-a8a3-86a61cdb950d",
   "metadata": {},
   "outputs": [
    {
     "data": {
      "text/plain": [
       "Parameter containing:\n",
       "tensor([[-0.0382, -0.2449,  0.7281,  ..., -0.1459,  0.8278,  0.2706],\n",
       "        [-0.1077,  0.1105,  0.5981,  ..., -0.8316,  0.4529,  0.0826],\n",
       "        [-0.3398,  0.2094,  0.4635,  ..., -0.2339,  0.4730, -0.0288],\n",
       "        ...,\n",
       "        [ 0.3609, -0.1692, -0.3270,  ...,  0.2714, -0.2919,  0.1611],\n",
       "        [-0.1046, -0.5047, -0.4933,  ...,  0.4253, -0.5125, -0.1705],\n",
       "        [ 0.2837, -0.6263, -0.4435,  ...,  0.4368, -0.8261, -0.1570]],\n",
       "       requires_grad=True)"
      ]
     },
     "execution_count": null,
     "metadata": {},
     "output_type": "execute_result"
    }
   ],
   "source": [
    "my_embedding = nn.Embedding.from_pretrained(glove.vectors, freeze=False)\n",
    "my_embedding.weight"
   ]
  },
  {
   "cell_type": "code",
   "execution_count": null,
   "id": "c5469f03-2bac-4b65-b6c4-5a110e9e03c0",
   "metadata": {},
   "outputs": [],
   "source": [
    "# Rode essa célula para apagar o diretório temporário\n",
    "tmp.cleanup()"
   ]
  }
 ],
 "metadata": {
  "kernelspec": {
   "display_name": "python3",
   "language": "python",
   "name": "python3"
  }
 },
 "nbformat": 4,
 "nbformat_minor": 5
}
