{
 "cells": [
  {
   "cell_type": "markdown",
   "id": "65d726cc",
   "metadata": {},
   "source": [
    "# Sequências - Aula Prática 03/04\n",
    "## RNNs (Recurrent Neural Networks)\n",
    "\n",
    "Neste notebook iremos continuar nossos estudos de redes neurais recorrentes (RNNs), trabalhando mais uma vez com modelos `seq2seq` (*sequence-to-sequence*) para construir um tradutor de francês para inglês, uma ideia simples mas poderosa onde duas RNNs trabalham em conjunto para transformar uma sequência em outra. Porém, dessa vez iremos dar um passo a mais, implementando um mecanismo de *additive attention*, como proposto pelo artigo [Neural Machine Translation by Jointly Learning to Align and Translate](https://arxiv.org/pdf/1409.0473.pdf), de *Bahdanau et al.*\n",
    "\n",
    "- Esse notebook foi fortemente inspirado no terceiro tutorial da série [NLP From Scratch](https://pytorch.org/tutorials/intermediate/seq2seq_translation_tutorial.html), disponibilizado no site do PyTorch."
   ]
  },
  {
   "cell_type": "markdown",
   "metadata": {},
   "source": [
    "A seguir podemos observar o modelo `seq2seq` que implementamos até então e com o mecanismo de atenção proposto por *Bahdanau et al.*\n",
    "\n",
    "![](https://github.com/ThiagoPoppe/ciag2024/blob/main/imagens/seq2seq_example.png?raw=true)\n",
    "![](https://github.com/ThiagoPoppe/ciag2024/blob/main/imagens/bahdanau_attention.png?raw=true)"
   ]
  },
  {
   "cell_type": "markdown",
   "metadata": {},
   "source": [
    "Como podemos perceber, estamos descartando as saídas da rede `encoder` para cada tempo $t$ na rede `seq2seq` original, utilizando apenas o último *hidden state* $H^{<t>}$, que apelidamos carinhosamente de *vetor de contexto* da entrada. A ideia agora é não descartar as saídas intermediárias do `encoder`, utilizando cada saída intermediária como uma espécie de \"*vetor de contexto intermediário*\" para cada tempo $t$ da nossa entrada, auxiliando o `decoder` a prever *tokens* melhores para construir uma frase com uma ideia mais similar que a entrada. A manipulação desse *vetor de contexto intermediário* juntamente com a entrada do `decoder` constitui a teoria fundamental por trás de *attention*.\n",
    "\n",
    "- **Importante:** Quando falamos saídas da rede `encoder`, estamos nos referindo também à *hidden states*, uma vez que uma célula recorrente retorna a mesma informação tanto na horizontal (que chamamos de estados ocultos, ou *hidden states*) e na vertical (que chamamos de *saídas*). A **predição** de uma célula recorrente será a manipulação da sua saída através de uma outra rede, por exemplo uma MLP + softmax.\n",
    "\n",
    "<img width=800 src=\"https://github.com/ThiagoPoppe/ciag2024/blob/main/imagens/rnn_lstm_gru.png?raw=true\" />"
   ]
  },
  {
   "cell_type": "markdown",
   "metadata": {},
   "source": [
    "A seguir podemos observar em alto nível a ideia por trás do mecanismo de atenção e como que ele influência a predição da rede `decoder`.\n",
    "\n",
    "![](https://github.com/ThiagoPoppe/ciag2024/blob/main/imagens/attention.gif?raw=true)"
   ]
  },
  {
   "cell_type": "markdown",
   "metadata": {},
   "source": [
    "Com a teoria inicial semi-consolidada, conseguimos iniciar o código proposto por esse notebook. Note que iremos utilizar os mesmos dados do outro notebook de `seq2seq` (inclusive 90% do código é o mesmo). Iremos modificar apenas a rede `decoder` e realizar uma divisão dos dados em conjuntos de treino, validação e teste."
   ]
  },
  {
   "cell_type": "markdown",
   "metadata": {},
   "source": [
    "Se você estiver rodando esse notebook na Tatu, execute a seguinte célula de código."
   ]
  },
  {
   "cell_type": "code",
   "execution_count": 1,
   "metadata": {},
   "outputs": [
    {
     "name": "stdout",
     "output_type": "stream",
     "text": [
      "\n",
      "Variáveis de ambiente http_proxy e https_proxy configuradas!\n"
     ]
    }
   ],
   "source": [
    "%load_ext nbproxy"
   ]
  },
  {
   "cell_type": "markdown",
   "metadata": {},
   "source": [
    "Instalando pacotes necessários para realizarmos manipulações e outras operações com texto."
   ]
  },
  {
   "cell_type": "code",
   "execution_count": 2,
   "metadata": {},
   "outputs": [
    {
     "name": "stdout",
     "output_type": "stream",
     "text": [
      "Defaulting to user installation because normal site-packages is not writeable\n",
      "Looking in indexes: https://pypi.org/simple, https://pypi.ngc.nvidia.com\n",
      "Requirement already satisfied: unidecode in /u/ej0f/.local/lib/python3.10/site-packages (1.3.8)\n",
      "\n",
      "\u001b[1m[\u001b[0m\u001b[34;49mnotice\u001b[0m\u001b[1;39;49m]\u001b[0m\u001b[39;49m A new release of pip is available: \u001b[0m\u001b[31;49m23.2.1\u001b[0m\u001b[39;49m -> \u001b[0m\u001b[32;49m24.0\u001b[0m\n",
      "\u001b[1m[\u001b[0m\u001b[34;49mnotice\u001b[0m\u001b[1;39;49m]\u001b[0m\u001b[39;49m To update, run: \u001b[0m\u001b[32;49mpython -m pip install --upgrade pip\u001b[0m\n"
     ]
    }
   ],
   "source": [
    "!pip install unidecode"
   ]
  },
  {
   "cell_type": "markdown",
   "id": "071c310f",
   "metadata": {},
   "source": [
    "## Importação de pacotes"
   ]
  },
  {
   "cell_type": "code",
   "execution_count": 3,
   "id": "2f2a1662",
   "metadata": {},
   "outputs": [],
   "source": [
    "import re\n",
    "import torch\n",
    "import random\n",
    "\n",
    "import torch.nn as nn\n",
    "import torch.optim as optim\n",
    "import torch.nn.functional as F\n",
    "\n",
    "import matplotlib.pyplot as plt\n",
    "\n",
    "from time import time\n",
    "from tqdm.notebook import tqdm\n",
    "from unidecode import unidecode\n",
    "\n",
    "from torch.utils.data import Dataset, DataLoader"
   ]
  },
  {
   "cell_type": "code",
   "execution_count": 4,
   "id": "795b6b30-6d1a-4b86-b15f-67e02560c004",
   "metadata": {},
   "outputs": [
    {
     "name": "stdout",
     "output_type": "stream",
     "text": [
      "Device escolhido: cuda\n"
     ]
    }
   ],
   "source": [
    "# Verificando se temos CUDA disponível e selecionando o device que será utilizado\n",
    "device = torch.device('cuda' if torch.cuda.is_available() else 'cpu')\n",
    "print('Device escolhido:', device)"
   ]
  },
  {
   "cell_type": "markdown",
   "metadata": {},
   "source": [
    "## Entendimento da base de dados\n",
    "\n",
    "A base de dados trabalhada durante esse notebook consiste em um arquivo `.txt` que possui pares de frases tanto em inglês quanto em francês, separados por um *tab*."
   ]
  },
  {
   "cell_type": "code",
   "execution_count": 5,
   "metadata": {},
   "outputs": [
    {
     "name": "stdout",
     "output_type": "stream",
     "text": [
      "Go.\tVa !\n",
      "Run!\tCours !\n",
      "Run!\tCourez !\n",
      "Wow!\tÇa alors !\n",
      "Fire!\tAu feu !\n",
      "Help!\tÀ l'aide !\n",
      "Jump.\tSaute.\n",
      "Stop!\tÇa suffit !\n",
      "Stop!\tStop !\n",
      "Stop!\tArrête-toi !\n"
     ]
    }
   ],
   "source": [
    "!head /pgeoprj/ciag2023/datasets/sequence_datasets/seq2seq/eng-fra.txt"
   ]
  },
  {
   "cell_type": "markdown",
   "id": "4cefc1bd-91a1-4c01-a1df-8cb2c1ccc31a",
   "metadata": {},
   "source": [
    "## Processamento da base de dados\n",
    "\n",
    "De maneira similar à codificação feita em notebooks anteriores, iremos representar cada palavra de uma linguagem como sendo um índice numérico. Como iremos trabalhar com mais de uma linguagem, é natural criarmos uma classe, denominada de `Language`, para conter os dicionários que irão mapear palavras para índices (`word2idx`) e índices para palavras (`idx2word`).\n",
    "\n",
    "Além disso, manteremos um terceiro dicionário chamado de `word_counter` para manter salvo a frequência de cada palavra nos dados daquela linguagem. Futuramente, iremos utilizar essa frequência para filtrar entradas que contém palavras raras, reduzindo assim a gigantesca base de dados para termos algo que executa de forma mais rápida, indiretamente facilitando o treinamento da nossa rede.\n",
    "\n",
    "> Note que nesse notebook nós faremos o uso dos *tokens* especiais: **\\<pad\\>**, **\\<sos\\>** e **\\<eos\\>**, definindo de forma manual os índices relacionados com cada *token*."
   ]
  },
  {
   "cell_type": "code",
   "execution_count": 6,
   "metadata": {},
   "outputs": [],
   "source": [
    "PAD_INDEX = 0\n",
    "SOS_INDEX = 1\n",
    "EOS_INDEX = 2\n",
    "\n",
    "class Language:\n",
    "    def __init__(self, name):\n",
    "        self.name = name\n",
    "        self.idx_counter = 3\n",
    "        \n",
    "        self.word2idx = {}\n",
    "        self.word_counter = {}\n",
    "        self.idx2word = {PAD_INDEX: '<pad>', SOS_INDEX: '<sos>', EOS_INDEX: '<eos>'}\n",
    "\n",
    "    def __len__(self):\n",
    "        return self.idx_counter\n",
    "\n",
    "    def add_sentence(self, sentence):\n",
    "        for word in sentence.split(' '):\n",
    "            self.add_word(word)\n",
    "\n",
    "    def add_word(self, word):\n",
    "        if word not in self.word2idx:\n",
    "            self.word_counter[word] = 1\n",
    "            self.word2idx[word] = self.idx_counter\n",
    "            self.idx2word[self.idx_counter] = word\n",
    "            self.idx_counter += 1\n",
    "        else:\n",
    "            self.word_counter[word] += 1\n",
    "\n",
    "    def trim(self, threshold):        \n",
    "        keep_words = []\n",
    "        \n",
    "        for word, count in self.word_counter.items():\n",
    "            if count >= threshold:\n",
    "                keep_words.append(word)\n",
    "\n",
    "        ratio = len(keep_words) / len(self.word2idx)\n",
    "        print(f'Razão de palavras mantidos: {ratio:.4f}')\n",
    "\n",
    "        # Reinicializando dicionários\n",
    "        self.word2idx = {}\n",
    "        self.word2count = {}\n",
    "        self.idx2word = {PAD_INDEX: '<pad>', SOS_INDEX: '<sos>', EOS_INDEX: '<eos>'}\n",
    "        self.idx_counter = 3\n",
    "\n",
    "        for word in keep_words:\n",
    "            self.add_word(word)"
   ]
  },
  {
   "cell_type": "markdown",
   "metadata": {},
   "source": [
    "Os textos do arquivo estão todos em [Unicode](https://pt.wikipedia.org/wiki/Unicode). Para simplificar o dado, iremos converter todos os caracteres Unicode em [ASCII](https://pt.wikipedia.org/wiki/ASCII), tornando tudo em caixa baixa e removendo boa parte dos sinais diacríticos através da função `preprocess_string`.\n",
    "\n",
    "> O módulo `re` é para aproveitarmos do poder de utilizar *expressões regulares*, ou do inglês *regular expressions*, permitindo realizar casamento e processamento de *strings* rapidamente. "
   ]
  },
  {
   "cell_type": "code",
   "execution_count": 7,
   "metadata": {},
   "outputs": [
    {
     "name": "stdout",
     "output_type": "stream",
     "text": [
      "kozuscek\n",
      "francois\n",
      "j ai froid .\n"
     ]
    }
   ],
   "source": [
    "def preprocess_string(string):\n",
    "    ascii = unidecode(string).lower().strip()\n",
    "    ascii = re.sub(r\"([.!?])\", r\" \\1\", ascii)  # colocando um espaço entre texto e pontuação\n",
    "    ascii = re.sub(r\"[^a-zA-Z.!?]+\", r\" \", ascii)  # removendo tudo que não é um token válido\n",
    "    ascii = ascii.strip()\n",
    "\n",
    "    return ascii\n",
    "\n",
    "# Exemplos de uso do preprocess_string\n",
    "print(preprocess_string('kožušček'))\n",
    "print(preprocess_string('François'))\n",
    "print(preprocess_string(\"J'ai froid.\"))"
   ]
  },
  {
   "cell_type": "markdown",
   "metadata": {},
   "source": [
    "Para ler os dados do arquivo `.txt`, nós iremos separar o conteúdo em linhas e depois cada linha em pares `(frase1, frase2)`. Como vimos anteriormente, as frases estão separadas por *tab* (`\\t`), onde a primeira frase está em inglês e a segunda em francês. Já que queremos fazer uma tradução no sentido francês $\\rightarrow$ inglês, iremos salvar os pares na ordem inversa, mantendo uma ideia de `(entrada, saída)`."
   ]
  },
  {
   "cell_type": "code",
   "execution_count": 8,
   "id": "3b08b11f-e3ff-4a75-9f06-c958a18ad791",
   "metadata": {},
   "outputs": [
    {
     "name": "stdout",
     "output_type": "stream",
     "text": [
      "Número de pares: 135842\n",
      "Exemplo dos primeiros 3 pares: [('va !', 'go .'), ('cours !', 'run !'), ('courez !', 'run !')]\n"
     ]
    }
   ],
   "source": [
    "def build_pairs():\n",
    "    with open('/pgeoprj/ciag2023/datasets/sequence_datasets/seq2seq/eng-fra.txt', 'r') as fp:\n",
    "        lines = fp.readlines()\n",
    "\n",
    "    pairs = []\n",
    "    for line in lines:\n",
    "        sentence1, sentence2 = line.split('\\t')\n",
    "        pairs.append((preprocess_string(sentence2), preprocess_string(sentence1)))\n",
    "\n",
    "    return pairs\n",
    "\n",
    "pairs = build_pairs()\n",
    "print('Número de pares:', len(pairs))\n",
    "print('Exemplo dos primeiros 3 pares:', pairs[:3])"
   ]
  },
  {
   "cell_type": "markdown",
   "metadata": {},
   "source": [
    "Como temos muitos exemplos de frases, e queremos treinar algo relativamente rápido, iremos reduzir o número de sentenças e usar apenas entradas relativamente simples e curtas, com no máximo 10 palavras (incluindo `<eos>`). Além disso, iremos trabalhar apenas com entradas que traduzem para algo do tipo \"*I am*\", \"*He is*\", etc. Tudo isso será condensado na função `filter_pair`."
   ]
  },
  {
   "cell_type": "code",
   "execution_count": 9,
   "id": "c8a8148e-7955-4599-b63f-c297e9ec2a70",
   "metadata": {},
   "outputs": [
    {
     "name": "stdout",
     "output_type": "stream",
     "text": [
      "Novo número de pares: 10601\n",
      "Exemplo dos três primeiros novos pares: [('j ai ans .', 'i m .'), ('je vais bien .', 'i m ok .'), ('ca va .', 'i m ok .')]\n"
     ]
    }
   ],
   "source": [
    "MAX_LENGTH = 10\n",
    "\n",
    "eng_prefixes = (\n",
    "    'i am ', 'i m ',\n",
    "    'he is', 'he s ',\n",
    "    'she is', 'she s ',\n",
    "    'you are', 'you re ',\n",
    "    'we are', 'we re ',\n",
    "    'they are', 'they re '\n",
    ")\n",
    "\n",
    "def filter_pair(pair):\n",
    "    text1_length = len(pair[0].split(' '))\n",
    "    text2_length = len(pair[1].split(' '))\n",
    "\n",
    "    return text1_length < MAX_LENGTH and \\\n",
    "           text2_length < MAX_LENGTH and \\\n",
    "           pair[1].startswith(eng_prefixes)\n",
    "\n",
    "pairs = list(filter(filter_pair, pairs))\n",
    "print('Novo número de pares:', len(pairs))\n",
    "print('Exemplo dos três primeiros novos pares:', pairs[:3])"
   ]
  },
  {
   "cell_type": "markdown",
   "metadata": {},
   "source": [
    "Finalmente, iremos criar o escopo de cada linguagem que iremos trabalhar."
   ]
  },
  {
   "cell_type": "code",
   "execution_count": 10,
   "metadata": {},
   "outputs": [
    {
     "name": "stdout",
     "output_type": "stream",
     "text": [
      "Número de tokens da linguagem eng: 4350\n",
      "Número de tokens da linguagem fra: 2805\n",
      "Exemplo aleatório de um par: ('je ne suis pas laide .', 'i m not ugly .')\n"
     ]
    }
   ],
   "source": [
    "def build_languages(pairs):\n",
    "    input_language = Language('eng')\n",
    "    output_language = Language('fra')\n",
    "\n",
    "    for sentence1, sentence2 in pairs:\n",
    "        input_language.add_sentence(sentence1)\n",
    "        output_language.add_sentence(sentence2)\n",
    "\n",
    "    return input_language, output_language\n",
    "\n",
    "input_language, output_language = build_languages(pairs)\n",
    "print(f'Número de tokens da linguagem {input_language.name}: {len(input_language)}')\n",
    "print(f'Número de tokens da linguagem {output_language.name}: {len(output_language)}')\n",
    "print('Exemplo aleatório de um par:', random.choice(pairs))"
   ]
  },
  {
   "cell_type": "markdown",
   "metadata": {},
   "source": [
    "## Construção de um `Dataset` e `DataLoader`\n",
    "\n",
    "Finalmente, iremos estudar uma forma de agrupar sequências de tamanhos diferentes em um único *batch* de dados, permitindo trabalhar com `batch_size` em modelos recorrentes.\n",
    "\n",
    "Para isso, faremos um uso extensivo do módulo `torch.nn.utils.rnn`, ou `rnn_utils` como definimos nos imports no começo desse notebook. A partir desse módulo, conseguimos aplicar *padding* em um conjunto de sequências, uniformizando o tamanho das sequências. Além disso, PyTorch disponibiliza um tipo específico de dados chamado de `PackedSequence`, destinado exclusivamente para modelos recorrentes, onde podemos usar as funções `pack_padded_sequence` e `pad_packed_sequence`, para converter de tensores para `PackedSequences` e vice-versa.\n",
    "\n",
    "> **Importante:** O uso de `PackedSequences` é interessante quando trabalhamos com dados de tamanho variável, uma vez que os modelos do PyTorch conseguem efetivamente \"pular\" *tokens* `<pad>`, poupando memória e computação! Porém, o seu uso é bastante confuso e mal documentado. Como alternativa, podemos criar uma máscara e mascarar a função de perda do nosso modelo, fazendo com que gradientes associados com `<pad>` não sejam usados durante a atualização dos pesos da rede.\n",
    "\n",
    "Como estamos trabalhando com sequências de tamanho variável, precisamos \"ensinar\" para o PyTorch como que iremos \"colar\" todas essas sequências para formar um único *batch*. Isso pode ser feito através da definição de uma função chamada `collate_fn` (algo como função de combinação), onde nela podemos usar a função `pad_sequence` para conseguir construir um *batch* de dados sem problemas. Aqui, iremos construir um tensor que já tem o tamanho máximo, predefinido anteriormente no código, descartando a necessidade de termos uma `collate_fn`.\n",
    "\n",
    "- Por ora não iremos nos preocupar com a separação entre conjuntos de treino, validação e teste. O objetivo desse notebook é de ensinar como trabalhamos em cenários `seq2seq`, além de como utilizar modelos mais complexos como GRUs e LSTMs."
   ]
  },
  {
   "cell_type": "code",
   "execution_count": 11,
   "metadata": {},
   "outputs": [],
   "source": [
    "def sentence2tensor(sentence, is_input=True):\n",
    "    tensor = torch.full((MAX_LENGTH,), PAD_INDEX, dtype=torch.long)\n",
    "    language = input_language if is_input else output_language\n",
    "\n",
    "    words = sentence.split(' ')\n",
    "    for idx, word in enumerate(words):\n",
    "        tensor[idx] = language.word2idx[word]\n",
    "\n",
    "    tensor[len(words)] = EOS_INDEX\n",
    "    return tensor\n",
    "\n",
    "def tensor2sentence(tensor, is_input=True):\n",
    "    language = input_language if is_input else output_language\n",
    "    return ' '.join(language.idx2word[idx.item()] for idx in tensor)\n",
    "\n",
    "class TranslationDataset(Dataset):\n",
    "    def __init__(self, idxs):\n",
    "        self.pairs = []\n",
    "        for idx in idxs:\n",
    "            self.pairs.append(pairs[idx])\n",
    "    \n",
    "    def __len__(self):\n",
    "        return len(self.pairs)\n",
    "\n",
    "    def __getitem__(self, idx):\n",
    "        input_sentence, output_sentence = self.pairs[idx]\n",
    "        input_tensor = sentence2tensor(input_sentence, is_input=True)\n",
    "        output_tensor = sentence2tensor(output_sentence, is_input=False)\n",
    "        \n",
    "        return input_tensor, output_tensor"
   ]
  },
  {
   "cell_type": "markdown",
   "metadata": {},
   "source": [
    "Separando pares para treino, validação e teste com proporção 8:1:1 (80%, 10% e 10%)."
   ]
  },
  {
   "cell_type": "code",
   "execution_count": 12,
   "metadata": {},
   "outputs": [
    {
     "name": "stdout",
     "output_type": "stream",
     "text": [
      "Porcentagem de amostras de treino: 79.99%\n",
      "Porcentagem de amostras de validação: 10.00%\n",
      "Porcentagem de amostras de teste: 10.01%\n"
     ]
    }
   ],
   "source": [
    "from sklearn.model_selection import train_test_split\n",
    "\n",
    "total_idxs = list(range(len(pairs)))\n",
    "train_idxs, validation_idxs = train_test_split(total_idxs, test_size=0.2, shuffle=True)\n",
    "validation_idxs, test_idxs = train_test_split(validation_idxs, test_size=0.5, shuffle=True)\n",
    "\n",
    "train_dataset = TranslationDataset(train_idxs)\n",
    "validation_dataset = TranslationDataset(validation_idxs)\n",
    "test_dataset = TranslationDataset(test_idxs)\n",
    "\n",
    "print(f'Porcentagem de amostras de treino: {100 * (len(train_dataset) / len(total_idxs)):.2f}%')\n",
    "print(f'Porcentagem de amostras de validação: {100 * (len(validation_dataset) / len(total_idxs)):.2f}%')\n",
    "print(f'Porcentagem de amostras de teste: {100 * (len(test_dataset) / len(total_idxs)):.2f}%')"
   ]
  },
  {
   "cell_type": "markdown",
   "metadata": {},
   "source": [
    "Exemplo de uma amostra do `TranslationDataset`."
   ]
  },
  {
   "cell_type": "code",
   "execution_count": 13,
   "metadata": {},
   "outputs": [
    {
     "name": "stdout",
     "output_type": "stream",
     "text": [
      "Tensor de entrada: tensor([   7,  904,  903,  124,  298, 3556,  119, 1928,    6,    2])\n",
      "Tensor de saída  : tensor([   3,    4,  361,   78, 1029,  539,  572,  130,    5,    2])\n",
      "\n",
      "Frase de entrada: je crains que nous ne puissions vous aider . <eos>\n",
      "Frase de saída  : i m afraid we can t help you . <eos>\n"
     ]
    }
   ],
   "source": [
    "input_tensor, output_tensor = train_dataset[42]\n",
    "\n",
    "print('Tensor de entrada:', input_tensor)\n",
    "print('Tensor de saída  :', output_tensor)\n",
    "\n",
    "print('\\nFrase de entrada:', tensor2sentence(input_tensor, is_input=True))\n",
    "print('Frase de saída  :', tensor2sentence(output_tensor, is_input=False))"
   ]
  },
  {
   "cell_type": "markdown",
   "metadata": {},
   "source": [
    "Exemplo de uma amostra do nosso `DataLoader`."
   ]
  },
  {
   "cell_type": "code",
   "execution_count": 14,
   "metadata": {},
   "outputs": [
    {
     "name": "stdout",
     "output_type": "stream",
     "text": [
      "Tamanho da entrada e saída: (torch.Size([32, 10]), torch.Size([32, 10]))\n"
     ]
    }
   ],
   "source": [
    "train_dataloader = DataLoader(train_dataset, batch_size=32, shuffle=True)\n",
    "validation_dataloader = DataLoader(validation_dataset, batch_size=32, shuffle=True)\n",
    "test_dataloader = DataLoader(test_dataset, batch_size=32, shuffle=True)\n",
    "\n",
    "input_tensor, output_tensor = next(iter(train_dataloader))\n",
    "print('Tamanho da entrada e saída:', (input_tensor.shape, output_tensor.shape))"
   ]
  },
  {
   "cell_type": "code",
   "execution_count": 15,
   "metadata": {},
   "outputs": [
    {
     "name": "stdout",
     "output_type": "stream",
     "text": [
      "Tensor de entrada: tensor([   7,   12,  111,  234, 1625,   15,   44,    6,    2,    0])\n",
      "Tensor de saída  : tensor([  3,   4,  70, 740, 488,  29,   5,   2,   0,   0])\n",
      "\n",
      "Frase de entrada: je suis desolee d etre en retard . <eos> <pad>\n",
      "Frase de saída  : i m sorry for being late . <eos> <pad> <pad>\n"
     ]
    }
   ],
   "source": [
    "first_input = input_tensor[0]\n",
    "first_output = output_tensor[0]\n",
    "\n",
    "print('Tensor de entrada:', first_input)\n",
    "print('Tensor de saída  :', first_output)\n",
    "\n",
    "print('\\nFrase de entrada:', tensor2sentence(first_input, is_input=True))\n",
    "print('Frase de saída  :', tensor2sentence(first_output, is_input=False))"
   ]
  },
  {
   "cell_type": "markdown",
   "metadata": {},
   "source": [
    "## Modelo *seq2seq*\n",
    "\n",
    "Uma rede *sequence to sequence*, *seq2seq*, ou rede *encoder-decoder*, é um modelo que é composto por 2 RNNs, denominadas de *encoder* e *decoder*. O papel do *encoder* é de ler a sequência de entrada e gerar um **contexto** da entrada (última camada de *hidden state*); enquanto que o *decoder* utilizará esse **contexto** para produzir uma sequência de saída. Esse tipo de modelagem permite com que modelos *seq2seq* produza uma sequência de tamanho diferente da sequência de entrada, sendo ideal para traduções por exemplo.\n",
    "\n",
    "![](https://github.com/ThiagoPoppe/ciag2024/blob/main/imagens/seq2seq.png?raw=true)\n",
    "\n",
    "Além disso, por produzir um vetor de **contexto**, o modelo consegue lidar com problemas relacionado à ordem das palavras em diferentes línguas. Considere por exemplo a sentença: *Je ne suis pas le chat noir*, traduzida para *I am not the black cat*. Perceba que boa parte das palavras da entrada possuem uma tradução 1:1 com as palavras da saída, mas em uma ordem um pouco diferente, como no caso de *chat noir* ser traduzido para *black cat*."
   ]
  },
  {
   "cell_type": "code",
   "execution_count": 16,
   "metadata": {},
   "outputs": [],
   "source": [
    "class Encoder(nn.Module):\n",
    "    def __init__(self, vocab_size, embed_size, hidden_size):\n",
    "        \"\"\"\n",
    "        Implementação de um encoder para o modelo seq2seq.\n",
    "\n",
    "        Argumentos\n",
    "        ----------\n",
    "            vocab_size (int): tamanho do nosso vocabulário.\n",
    "            embed_size (int): dimensão do embedding que usaremos.\n",
    "            hidden_size (int): dimensão do estado oculto das camadas recorrentes.\n",
    "        \"\"\"\n",
    "\n",
    "        super().__init__()\n",
    "\n",
    "        self.embedding = nn.Embedding(vocab_size, embed_size)\n",
    "        self.gru = nn.GRU(embed_size, hidden_size, batch_first=True)\n",
    "\n",
    "    def forward(self, x):\n",
    "        embedded = self.embedding(x)\n",
    "        outputs, hidden = self.gru(embedded)\n",
    "        return outputs, hidden"
   ]
  },
  {
   "cell_type": "markdown",
   "metadata": {},
   "source": [
    "> **Notas:** É muito comum observarmos uma camada de *dropout* depois da camada de *embedding* na rede *encoder*. Aqui, o *dropout* atua no sentido de desconsiderar alguns *tokens* da entrada da rede, aumentando a capacidade da rede de aprender a traduzir uma frase mesmo com *tokens* faltantes."
   ]
  },
  {
   "cell_type": "code",
   "execution_count": 17,
   "metadata": {},
   "outputs": [],
   "source": [
    "class BahdanauAttention(nn.Module):\n",
    "    def __init__(self, hidden_size):\n",
    "        super().__init__()\n",
    "        self.Wa = nn.Linear(hidden_size, hidden_size)\n",
    "        self.Ua = nn.Linear(hidden_size, hidden_size)\n",
    "        self.Va = nn.Linear(hidden_size, 1)\n",
    "\n",
    "    def forward(self, query, keys):\n",
    "        scores = self.Va(torch.tanh(self.Wa(query) + self.Ua(keys)))\n",
    "        scores = scores.squeeze(2).unsqueeze(1)\n",
    "\n",
    "        weights = F.softmax(scores, dim=-1)\n",
    "        context = torch.bmm(weights, keys)\n",
    "\n",
    "        return context, weights\n",
    "\n",
    "class Decoder(nn.Module):\n",
    "    def __init__(self, vocab_size, embed_size, hidden_size):\n",
    "        \"\"\"\n",
    "        Implementação de um encoder para o modelo seq2seq.\n",
    "\n",
    "        Argumentos\n",
    "        ----------\n",
    "            vocab_size (int): tamanho do nosso vocabulário.\n",
    "            embed_size (int): dimensão do embedding que usaremos.\n",
    "            hidden_size (int): dimensão do estado oculto das camadas recorrentes.\n",
    "        \"\"\"\n",
    "\n",
    "        super().__init__()\n",
    "\n",
    "        self.attention = BahdanauAttention(hidden_size)\n",
    "        self.embedding = nn.Embedding(vocab_size, embed_size)\n",
    "\n",
    "        self.gru = nn.GRU(embed_size + hidden_size, hidden_size, batch_first=True)\n",
    "        self.out = nn.Linear(hidden_size, vocab_size)\n",
    "\n",
    "    def forward(self, encoder_outputs, encoder_hidden, target_tensor=None):\n",
    "        \"\"\"\n",
    "        Método de forward da rede.\n",
    "\n",
    "        Argumentos\n",
    "        ----------\n",
    "            encoder_outputs (torch.Tensor): saídas em cada tempo t do encoder\n",
    "            encoder_hidden (torch.Tensor): último estado oculto do encoder\n",
    "            target_tensor (torch.Tensor): tensor da sentença alvo (usado para teacher forcing)\n",
    "        \"\"\"\n",
    "\n",
    "        attentions = []\n",
    "        decoder_outputs = []\n",
    "        decoder_hidden = encoder_hidden\n",
    "\n",
    "        batch_size = encoder_outputs.size(0)\n",
    "        decoder_input = torch.full((batch_size, 1), SOS_INDEX, dtype=torch.long, device=device)\n",
    "\n",
    "        for i in range(MAX_LENGTH):\n",
    "            decoder_output, decoder_hidden, attn_weights = self.forward_step(decoder_input, decoder_hidden, encoder_outputs)\n",
    "\n",
    "            attentions.append(attn_weights)\n",
    "            decoder_outputs.append(decoder_output)\n",
    "\n",
    "            if target_tensor is not None:\n",
    "                decoder_input = target_tensor[:, i].unsqueeze(1) # Teacher forcing\n",
    "            else:\n",
    "                idx = decoder_output.argmax(dim=-1)\n",
    "                decoder_input = idx.detach()  # precisamos dar um detach para evitar loops no grafo\n",
    "\n",
    "        attentions = torch.cat(attentions, dim=1)\n",
    "        decoder_outputs = torch.cat(decoder_outputs, dim=1)\n",
    "        decoder_outputs = F.log_softmax(decoder_outputs, dim=-1)\n",
    "\n",
    "        return decoder_outputs, attentions  # retornaremos as atenções para fins de visualização\n",
    "\n",
    "    def forward_step(self, x, hidden, encoder_outputs):\n",
    "        x =  self.embedding(x)\n",
    "\n",
    "        query = hidden.permute(1, 0, 2)\n",
    "        context, attn_weights = self.attention(query, encoder_outputs)\n",
    "        input_gru = torch.cat((x, context), dim=-1)\n",
    "\n",
    "        output, hidden = self.gru(input_gru, hidden)\n",
    "        output = self.out(output)\n",
    "\n",
    "        return output, hidden, attn_weights"
   ]
  },
  {
   "cell_type": "markdown",
   "metadata": {},
   "source": [
    "Verificando o comportamento da rede com um *batch* aleatório."
   ]
  },
  {
   "cell_type": "code",
   "execution_count": 18,
   "metadata": {},
   "outputs": [
    {
     "name": "stdout",
     "output_type": "stream",
     "text": [
      "Frase original   : il dit un mensonge . <eos> <pad> <pad> <pad> <pad>\n",
      "Tradução original: he is telling a lie . <eos> <pad> <pad> <pad>\n",
      "Tradução da rede : wide explain environmentalist jewelry jewelry hawaii carrying people included included\n"
     ]
    }
   ],
   "source": [
    "encoder = Encoder(len(input_language), embed_size=32, hidden_size=64).to(device)\n",
    "decoder = Decoder(len(output_language), embed_size=32, hidden_size=64).to(device)\n",
    "\n",
    "x, y = next(iter(train_dataloader))\n",
    "x = x.to(device)\n",
    "y = y.to(device)\n",
    "\n",
    "encoder_outputs, context = encoder(x)\n",
    "outputs, attentions = decoder(encoder_outputs, context, y)\n",
    "predictions = outputs.argmax(dim=-1)\n",
    "\n",
    "print('Frase original   :', tensor2sentence(x[0], is_input=True))\n",
    "print('Tradução original:', tensor2sentence(y[0], is_input=False))\n",
    "print('Tradução da rede :', tensor2sentence(predictions[0], is_input=False))"
   ]
  },
  {
   "cell_type": "markdown",
   "metadata": {},
   "source": [
    "## Treinamento do modelo"
   ]
  },
  {
   "cell_type": "code",
   "execution_count": 19,
   "metadata": {},
   "outputs": [],
   "source": [
    "def train_epoch(dataloader, encoder, decoder, encoder_optimizer, decoder_optimizer, criterion):\n",
    "    total_loss = 0\n",
    "    encoder.train()\n",
    "    decoder.train()\n",
    "\n",
    "    for X, y in dataloader:\n",
    "        X = X.to(device)\n",
    "        y = y.to(device)\n",
    "\n",
    "        encoder_optimizer.zero_grad()\n",
    "        decoder_optimizer.zero_grad()\n",
    "\n",
    "        encoder_outputs, context = encoder(X)\n",
    "        outputs, attentions = decoder(encoder_outputs, context, y)\n",
    "\n",
    "        # Precisamos fazer uma transposição da saída para entregar para a função de perda\n",
    "        loss = criterion(outputs.transpose(1, 2), y)\n",
    "        loss.backward()\n",
    "\n",
    "        encoder_optimizer.step()\n",
    "        decoder_optimizer.step()\n",
    "\n",
    "        total_loss += loss.item()\n",
    "\n",
    "    total_loss /= len(dataloader)\n",
    "    return total_loss"
   ]
  },
  {
   "cell_type": "code",
   "execution_count": 20,
   "metadata": {},
   "outputs": [],
   "source": [
    "def evaluate_epoch(dataloader, encoder, decoder, criterion):\n",
    "    total_loss = 0\n",
    "    encoder.eval()\n",
    "    decoder.eval()\n",
    "\n",
    "    with torch.no_grad():\n",
    "        for X, y in dataloader:\n",
    "            X = X.to(device)\n",
    "            y = y.to(device)\n",
    "\n",
    "            encoder_outputs, context = encoder(X)\n",
    "            outputs, attentions = decoder(encoder_outputs, context, y)\n",
    "\n",
    "            # Precisamos fazer uma transposição da saída para entregar para a função de perda\n",
    "            loss = criterion(outputs.transpose(1, 2), y)\n",
    "            total_loss += loss.item()\n",
    "\n",
    "    total_loss /= len(dataloader)\n",
    "    return total_loss"
   ]
  },
  {
   "cell_type": "code",
   "execution_count": 21,
   "metadata": {},
   "outputs": [
    {
     "name": "stdout",
     "output_type": "stream",
     "text": [
      "Epoch [5/50] => average training loss: 4.34084, average validation loss: 3.35105, elapsed time: 23.30 seconds\n",
      "Epoch [10/50] => average training loss: 3.09972, average validation loss: 2.99216, elapsed time: 46.77 seconds\n",
      "Epoch [15/50] => average training loss: 2.80860, average validation loss: 2.79011, elapsed time: 70.28 seconds\n",
      "Epoch [20/50] => average training loss: 2.56365, average validation loss: 2.56656, elapsed time: 93.78 seconds\n",
      "Epoch [25/50] => average training loss: 2.37478, average validation loss: 2.47420, elapsed time: 117.31 seconds\n",
      "Epoch [30/50] => average training loss: 2.23526, average validation loss: 2.38427, elapsed time: 140.84 seconds\n",
      "Epoch [35/50] => average training loss: 2.11950, average validation loss: 2.28491, elapsed time: 164.36 seconds\n",
      "Epoch [40/50] => average training loss: 2.01723, average validation loss: 2.24411, elapsed time: 187.90 seconds\n",
      "Epoch [45/50] => average training loss: 1.92637, average validation loss: 2.20724, elapsed time: 211.46 seconds\n",
      "Epoch [50/50] => average training loss: 1.84564, average validation loss: 2.17551, elapsed time: 234.99 seconds\n"
     ]
    }
   ],
   "source": [
    "batch_size = 32\n",
    "num_epochs = 50\n",
    "\n",
    "print_every = 5\n",
    "save_loss_every = 5\n",
    "\n",
    "train_dataset = TranslationDataset(train_idxs)\n",
    "validation_dataset = TranslationDataset(validation_idxs)\n",
    "test_dataset = TranslationDataset(test_idxs)\n",
    "\n",
    "train_dataloader = DataLoader(train_dataset, batch_size=batch_size, shuffle=True)\n",
    "validation_dataloader = DataLoader(validation_dataset, batch_size=batch_size, shuffle=True)\n",
    "test_dataloader = DataLoader(test_dataset, batch_size=batch_size, shuffle=True)\n",
    "\n",
    "encoder = Encoder(len(input_language), embed_size=100, hidden_size=128).to(device)\n",
    "decoder = Decoder(len(output_language), embed_size=100, hidden_size=128).to(device)\n",
    "\n",
    "criterion = nn.NLLLoss(ignore_index=PAD_INDEX)  # iremos ignorar o gradiente vindo dos tokens <pad>\n",
    "encoder_optimizer = optim.Adam(encoder.parameters(), lr=0.00005)\n",
    "decoder_optimizer = optim.Adam(decoder.parameters(), lr=0.00005)\n",
    "\n",
    "train_losses = []\n",
    "validation_losses = []\n",
    "\n",
    "save_train_loss = 0\n",
    "print_train_loss = 0\n",
    "\n",
    "start_time = time()\n",
    "\n",
    "for epoch in range(1, num_epochs + 1):\n",
    "    loss = train_epoch(train_dataloader, encoder, decoder,\n",
    "                       encoder_optimizer, decoder_optimizer, criterion)\n",
    "\n",
    "    save_train_loss += loss\n",
    "    print_train_loss += loss\n",
    "\n",
    "    if epoch % print_every == 0:\n",
    "        print_train_loss /= print_every\n",
    "        validation_loss = evaluate_epoch(validation_dataloader, encoder, decoder, criterion)\n",
    "        elapsed_time = time() - start_time\n",
    "\n",
    "        print(f'Epoch [{epoch}/{num_epochs}] => average training loss: {print_train_loss:.5f}, ' \\\n",
    "              f'average validation loss: {validation_loss:.5f}, elapsed time: {elapsed_time:.2f} seconds')\n",
    "        \n",
    "        print_train_loss = 0\n",
    "\n",
    "    if epoch % save_loss_every == 0:\n",
    "        save_train_loss /= save_loss_every\n",
    "        validation_loss = evaluate_epoch(validation_dataloader, encoder, decoder, criterion)\n",
    "\n",
    "        train_losses.append(save_train_loss)\n",
    "        validation_losses.append(validation_loss)\n",
    "        \n",
    "        save_train_loss = 0"
   ]
  },
  {
   "cell_type": "markdown",
   "metadata": {},
   "source": [
    "Plotando o gráfico da função de perda ao longo das épocas."
   ]
  },
  {
   "cell_type": "code",
   "execution_count": 22,
   "metadata": {},
   "outputs": [
    {
     "data": {
      "image/png": "[encoded data removed]",
      "text/plain": [
       "<Figure size 640x480 with 1 Axes>"
      ]
     },
     "metadata": {},
     "output_type": "display_data"
    }
   ],
   "source": [
    "plt.title('Evolução da função de perda ao longo das épocas')\n",
    "plt.xlabel('Época')\n",
    "plt.ylabel('Função de perda')\n",
    "\n",
    "plt.plot(train_losses, label='Treino')\n",
    "plt.plot(validation_losses, label='Validação')\n",
    "plt.xticks(range(len(train_losses)), range(save_loss_every, num_epochs+1, save_loss_every))\n",
    "\n",
    "plt.legend()\n",
    "plt.show()"
   ]
  },
  {
   "cell_type": "markdown",
   "metadata": {},
   "source": [
    "## Avaliação qualitativa dos resultados\n",
    "\n",
    "O método de **predição** da rede é similar ao treinamento e validação. Porém, dessa vez nós não iremos aplicar *teacher forcing*, uma vez que não temos a palavra-alvo para o tempo $t$. Sendo assim, a predição do tempo $t$ será dada pela **previsão** da rede *decoder* no tempo $t-1$. Além disso, caso a rede preveja um *token* `<eos>`, iremos parar a geração antes de gerar uma sentença com o tamanho máximo."
   ]
  },
  {
   "cell_type": "code",
   "execution_count": 23,
   "metadata": {},
   "outputs": [],
   "source": [
    "def predict(x, encoder, decoder):\n",
    "    encoder.eval()\n",
    "    decoder.eval()\n",
    "\n",
    "    with torch.no_grad():\n",
    "        encoder_outputs, context = encoder(x)\n",
    "        decoder_outputs, decoder_attn = decoder(encoder_outputs, context)\n",
    "\n",
    "        _, topi = decoder_outputs.topk(1)\n",
    "        decoded_ids = topi.squeeze()\n",
    "\n",
    "        decoded_words = []\n",
    "        for idx in decoded_ids:\n",
    "            if idx.item() == EOS_INDEX:\n",
    "                decoded_words.append('<eos>')\n",
    "                break\n",
    "\n",
    "            decoded_words.append(output_language.idx2word[idx.item()])\n",
    "\n",
    "    return decoded_words, decoder_attn"
   ]
  },
  {
   "cell_type": "code",
   "execution_count": 24,
   "metadata": {},
   "outputs": [],
   "source": [
    "def show_attention(input_sentence, output_sentence, attentions):\n",
    "    fig = plt.figure()\n",
    "    ax = fig.add_subplot(111)\n",
    "\n",
    "    n_input = len(input_sentence.split(' '))\n",
    "    n_output = len(output_sentence.split(' '))\n",
    "\n",
    "    attentions = attentions.squeeze()\n",
    "    attentions = attentions[:n_output, :n_input]\n",
    "    cax = ax.matshow(attentions.squeeze().cpu().numpy(), cmap='bone')\n",
    "    fig.colorbar(cax)\n",
    "\n",
    "    # Set up axes\n",
    "    xticks = input_sentence.split(' ')\n",
    "    yticks = output_sentence.split(' ')\n",
    "    ax.set_xticks(range(len(xticks)), xticks, rotation=90)\n",
    "    ax.set_yticks(range(len(yticks)), yticks)\n",
    "\n",
    "    plt.show()"
   ]
  },
  {
   "cell_type": "code",
   "execution_count": 25,
   "metadata": {},
   "outputs": [
    {
     "name": "stdout",
     "output_type": "stream",
     "text": [
      "> il est impatient de te voir . <eos> <pad> <pad>\n",
      "= he is impatient to see you . <eos> <pad> <pad>\n",
      "< he is afraid of the same age . <eos>\n"
     ]
    },
    {
     "data": {
      "image/png": "[encoded data removed]",
      "text/plain": [
       "<Figure size 640x480 with 2 Axes>"
      ]
     },
     "metadata": {},
     "output_type": "display_data"
    }
   ],
   "source": [
    "x, y = test_dataset[0]\n",
    "sentence = tensor2sentence(x, is_input=True)\n",
    "\n",
    "# Adicionando batch size\n",
    "x_in = x.unsqueeze(0).to(device)\n",
    "predictions, attns = predict(x_in, encoder, decoder)\n",
    "output_sentence = ' '.join(predictions)\n",
    "\n",
    "print(f'> {sentence}')\n",
    "print(f'= {tensor2sentence(y, is_input=False)}')\n",
    "print(f\"< {output_sentence}\")\n",
    "\n",
    "sentence_without_pad = []\n",
    "for word in sentence.split(' '):\n",
    "    if word != '<pad>':\n",
    "        sentence_without_pad.append(word)\n",
    "\n",
    "sentence_without_pad = ' '.join(sentence_without_pad)\n",
    "show_attention(sentence_without_pad, output_sentence, attns)"
   ]
  },
  {
   "cell_type": "code",
   "execution_count": 26,
   "metadata": {},
   "outputs": [
    {
     "name": "stdout",
     "output_type": "stream",
     "text": [
      "> je ne suis pas la . <eos> <pad> <pad> <pad>\n",
      "= i m not here . <eos> <pad> <pad> <pad> <pad>\n",
      "< i m not a doctor . <eos>\n"
     ]
    },
    {
     "data": {
      "image/png": "[encoded data removed]",
      "text/plain": [
       "<Figure size 640x480 with 2 Axes>"
      ]
     },
     "metadata": {},
     "output_type": "display_data"
    }
   ],
   "source": [
    "x, y = test_dataset[10]\n",
    "sentence = tensor2sentence(x, is_input=True)\n",
    "\n",
    "# Adicionando batch size\n",
    "x_in = x.unsqueeze(0).to(device)\n",
    "predictions, attns = predict(x_in, encoder, decoder)\n",
    "output_sentence = ' '.join(predictions)\n",
    "\n",
    "print(f'> {sentence}')\n",
    "print(f'= {tensor2sentence(y, is_input=False)}')\n",
    "print(f\"< {output_sentence}\")\n",
    "\n",
    "sentence_without_pad = []\n",
    "for word in sentence.split(' '):\n",
    "    if word != '<pad>':\n",
    "        sentence_without_pad.append(word)\n",
    "\n",
    "sentence_without_pad = ' '.join(sentence_without_pad)\n",
    "show_attention(sentence_without_pad, output_sentence, attns)"
   ]
  },
  {
   "cell_type": "code",
   "execution_count": 27,
   "metadata": {},
   "outputs": [
    {
     "name": "stdout",
     "output_type": "stream",
     "text": [
      "> je suis desolee de vous avoir derangees ! <eos> <pad>\n",
      "= i m sorry to have bothered you . <eos> <pad>\n",
      "< i m sorry to have you . <eos>\n"
     ]
    },
    {
     "data": {
      "image/png": "[encoded data removed]",
      "text/plain": [
       "<Figure size 640x480 with 2 Axes>"
      ]
     },
     "metadata": {},
     "output_type": "display_data"
    }
   ],
   "source": [
    "x, y = test_dataset[42]\n",
    "sentence = tensor2sentence(x, is_input=True)\n",
    "\n",
    "# Adicionando batch size\n",
    "x_in = x.unsqueeze(0).to(device)\n",
    "predictions, attns = predict(x_in, encoder, decoder)\n",
    "output_sentence = ' '.join(predictions)\n",
    "\n",
    "print(f'> {sentence}')\n",
    "print(f'= {tensor2sentence(y, is_input=False)}')\n",
    "print(f\"< {output_sentence}\")\n",
    "\n",
    "sentence_without_pad = []\n",
    "for word in sentence.split(' '):\n",
    "    if word != '<pad>':\n",
    "        sentence_without_pad.append(word)\n",
    "\n",
    "sentence_without_pad = ' '.join(sentence_without_pad)\n",
    "show_attention(sentence_without_pad, output_sentence, attns)"
   ]
  },
  {
   "cell_type": "code",
   "execution_count": null,
   "metadata": {},
   "outputs": [],
   "source": []
  }
 ],
 "metadata": {
  "kernelspec": {
   "display_name": "Python 3 (ipykernel)",
   "language": "python",
   "name": "python3"
  },
  "language_info": {
   "codemirror_mode": {
    "name": "ipython",
    "version": 3
   },
   "file_extension": ".py",
   "mimetype": "text/x-python",
   "name": "python",
   "nbconvert_exporter": "python",
   "pygments_lexer": "ipython3",
   "version": "3.10.12"
  }
 },
 "nbformat": 4,
 "nbformat_minor": 5
}
