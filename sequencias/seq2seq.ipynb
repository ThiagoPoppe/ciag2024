{
 "cells": [
  {
   "cell_type": "markdown",
   "id": "65d726cc",
   "metadata": {},
   "source": [
    "# Sequências - Aula Prática 03/04\n",
    "## RNNs (Recurrent Neural Networks)\n",
    "\n",
    "Neste notebook iremos continuar nossos estudos de redes neurais recorrentes (RNNs), trabalhando dessa vez com modelos `seq2seq` (*sequence-to-sequence*) para construir um tradutor de francês para inglês, uma ideia simples mas poderosa onde duas RNNs trabalham em conjunto para transformar uma sequência em outra.\n",
    "\n",
    "![](../imagens/seq2seq.png)\n",
    "\n",
    "- Esse notebook foi fortemente inspirado no terceiro tutorial da série [NLP From Scratch](https://pytorch.org/tutorials/intermediate/seq2seq_translation_tutorial.html), disponibilizado no site do PyTorch."
   ]
  },
  {
   "cell_type": "markdown",
   "metadata": {},
   "source": [
    "Se você estiver rodando esse notebook na Tatu, execute a seguinte célula de código."
   ]
  },
  {
   "cell_type": "code",
   "execution_count": 20,
   "metadata": {},
   "outputs": [
    {
     "name": "stdout",
     "output_type": "stream",
     "text": [
      "\n",
      "Variáveis de ambiente http_proxy e https_proxy configuradas!\n"
     ]
    }
   ],
   "source": [
    "%load_ext nbproxy"
   ]
  },
  {
   "cell_type": "markdown",
   "metadata": {},
   "source": [
    "Instalando pacotes necessários para realizarmos manipulações e outras operações com texto."
   ]
  },
  {
   "cell_type": "code",
   "execution_count": 21,
   "metadata": {},
   "outputs": [
    {
     "name": "stdout",
     "output_type": "stream",
     "text": [
      "Defaulting to user installation because normal site-packages is not writeable\n",
      "Looking in indexes: https://pypi.org/simple, https://pypi.ngc.nvidia.com\n",
      "Requirement already satisfied: nltk in /u/ej0f/.local/lib/python3.10/site-packages (3.8.1)\n",
      "Requirement already satisfied: click in /usr/local/lib/python3.10/dist-packages (from nltk) (8.1.5)\n",
      "Requirement already satisfied: joblib in /usr/local/lib/python3.10/dist-packages (from nltk) (1.3.1)\n",
      "Requirement already satisfied: regex>=2021.8.3 in /usr/local/lib/python3.10/dist-packages (from nltk) (2023.6.3)\n",
      "Requirement already satisfied: tqdm in /usr/local/lib/python3.10/dist-packages (from nltk) (4.65.0)\n",
      "\n",
      "\u001b[1m[\u001b[0m\u001b[34;49mnotice\u001b[0m\u001b[1;39;49m]\u001b[0m\u001b[39;49m A new release of pip is available: \u001b[0m\u001b[31;49m23.2.1\u001b[0m\u001b[39;49m -> \u001b[0m\u001b[32;49m24.0\u001b[0m\n",
      "\u001b[1m[\u001b[0m\u001b[34;49mnotice\u001b[0m\u001b[1;39;49m]\u001b[0m\u001b[39;49m To update, run: \u001b[0m\u001b[32;49mpython -m pip install --upgrade pip\u001b[0m\n",
      "Defaulting to user installation because normal site-packages is not writeable\n",
      "Looking in indexes: https://pypi.org/simple, https://pypi.ngc.nvidia.com\n",
      "Collecting Unidecode\n",
      "  Obtaining dependency information for Unidecode from https://files.pythonhosted.org/packages/84/b7/6ec57841fb67c98f52fc8e4a2d96df60059637cba077edc569a302a8ffc7/Unidecode-1.3.8-py3-none-any.whl.metadata\n",
      "\u001b[33m  WARNING: Retrying (Retry(total=4, connect=None, read=None, redirect=None, status=None)) after connection broken by 'ProxyError('Cannot connect to proxy.', OSError('Tunnel connection failed: 503 Service Unavailable'))': /packages/84/b7/6ec57841fb67c98f52fc8e4a2d96df60059637cba077edc569a302a8ffc7/Unidecode-1.3.8-py3-none-any.whl.metadata\u001b[0m\u001b[33m\n",
      "\u001b[0m  Downloading Unidecode-1.3.8-py3-none-any.whl.metadata (13 kB)\n",
      "Downloading Unidecode-1.3.8-py3-none-any.whl (235 kB)\n",
      "\u001b[2K   \u001b[90m━━━━━━━━━━━━━━━━━━━━━━━━━━━━━━━━━━━━━━━━\u001b[0m \u001b[32m235.5/235.5 kB\u001b[0m \u001b[31m2.8 MB/s\u001b[0m eta \u001b[36m0:00:00\u001b[0ma \u001b[36m0:00:01\u001b[0m\n",
      "\u001b[?25hInstalling collected packages: Unidecode\n",
      "\u001b[33m  WARNING: The script unidecode is installed in '/u/ej0f/.local/bin' which is not on PATH.\n",
      "  Consider adding this directory to PATH or, if you prefer to suppress this warning, use --no-warn-script-location.\u001b[0m\u001b[33m\n",
      "\u001b[0mSuccessfully installed Unidecode-1.3.8\n",
      "\n",
      "\u001b[1m[\u001b[0m\u001b[34;49mnotice\u001b[0m\u001b[1;39;49m]\u001b[0m\u001b[39;49m A new release of pip is available: \u001b[0m\u001b[31;49m23.2.1\u001b[0m\u001b[39;49m -> \u001b[0m\u001b[32;49m24.0\u001b[0m\n",
      "\u001b[1m[\u001b[0m\u001b[34;49mnotice\u001b[0m\u001b[1;39;49m]\u001b[0m\u001b[39;49m To update, run: \u001b[0m\u001b[32;49mpython -m pip install --upgrade pip\u001b[0m\n"
     ]
    }
   ],
   "source": [
    "!pip install nltk\n",
    "!pip install unidecode"
   ]
  },
  {
   "cell_type": "markdown",
   "id": "071c310f",
   "metadata": {},
   "source": [
    "## Importação de pacotes"
   ]
  },
  {
   "cell_type": "code",
   "execution_count": 93,
   "id": "2f2a1662",
   "metadata": {},
   "outputs": [],
   "source": [
    "import re\n",
    "import torch\n",
    "import random\n",
    "\n",
    "import numpy as np\n",
    "import torch.nn as nn\n",
    "import torch.optim as optim\n",
    "import torch.nn.utils.rnn as rnn_utils\n",
    "\n",
    "import matplotlib.pyplot as plt\n",
    "\n",
    "from tqdm.notebook import tqdm\n",
    "from unidecode import unidecode\n",
    "from torch.utils.data import Dataset, DataLoader"
   ]
  },
  {
   "cell_type": "code",
   "execution_count": 2,
   "id": "795b6b30-6d1a-4b86-b15f-67e02560c004",
   "metadata": {},
   "outputs": [
    {
     "name": "stdout",
     "output_type": "stream",
     "text": [
      "Device escolhido: cuda\n"
     ]
    }
   ],
   "source": [
    "# Verificando se temos CUDA disponível e selecionando o device que será utilizado\n",
    "device = torch.device('cuda' if torch.cuda.is_available() else 'cpu')\n",
    "print('Device escolhido:', device)"
   ]
  },
  {
   "cell_type": "markdown",
   "metadata": {},
   "source": [
    "## Entendimento da base de dados\n",
    "\n",
    "A base de dados trabalhada durante esse notebook consiste em um arquivo `.txt` que possui pares de frases tanto em inglês quanto em francês, separados por um *tab*."
   ]
  },
  {
   "cell_type": "code",
   "execution_count": 3,
   "metadata": {},
   "outputs": [
    {
     "name": "stdout",
     "output_type": "stream",
     "text": [
      "Go.\tVa !\n",
      "Run!\tCours !\n",
      "Run!\tCourez !\n",
      "Wow!\tÇa alors !\n",
      "Fire!\tAu feu !\n",
      "Help!\tÀ l'aide !\n",
      "Jump.\tSaute.\n",
      "Stop!\tÇa suffit !\n",
      "Stop!\tStop !\n",
      "Stop!\tArrête-toi !\n"
     ]
    }
   ],
   "source": [
    "!head /pgeoprj/ciag2023/datasets/sequence_datasets/seq2seq/eng-fra.txt"
   ]
  },
  {
   "cell_type": "markdown",
   "id": "4cefc1bd-91a1-4c01-a1df-8cb2c1ccc31a",
   "metadata": {},
   "source": [
    "## Processamento da base de dados\n",
    "\n",
    "De maneira similar à codificação feita em notebooks anteriores, iremos representar cada palavra de uma linguagem como sendo um índice numérico. Como iremos trabalhar com mais de uma linguagem, é natural criarmos uma classe, denominada de `Language`, para conter os dicionários que irão mapear *tokens* para índices (`token2index`) e índices para *tokens* (`index2token`).A\n",
    "\n",
    "Além disso, manteremos um terceiro dicionário chamado de `token_counter` para manter salvo a frequência de cada *token* nos dados daquela linguagem. Futuramente, iremos utilizar essa frequência para filtrar entradas que contém *tokens* raros, reduzindo assim a gigantesca base de dados para termos algo que executa de forma mais rápida, o que indiretamente também facilita o treinamento da nossa rede.\n",
    "\n",
    "> Note que nesse notebook nós faremos o uso dos *tokens* especiais: **\\<pad\\>**, **\\<sos\\>** e **\\<eos\\>**, definindo de forma manual os índices relacionados com cada *token*."
   ]
  },
  {
   "cell_type": "code",
   "execution_count": 92,
   "metadata": {},
   "outputs": [],
   "source": [
    "PAD_INDEX = 0\n",
    "SOS_INDEX = 1\n",
    "EOS_INDEX = 2\n",
    "\n",
    "class Language:\n",
    "    def __init__(self, name):\n",
    "        self.name = name\n",
    "        self.token2index = {}\n",
    "        self.token_counter = {}\n",
    "        self.index2token = {PAD_INDEX: '<pad>', SOS_INDEX: '<sos>', EOS_INDEX: '<eos>'}\n",
    "        self.n_tokens = 3  # variável para associar um índice com um novo token\n",
    "\n",
    "    def add_sentence(self, sentence):\n",
    "        for token in sentence.split(' '):\n",
    "            self.add_token(token)\n",
    "\n",
    "    def add_token(self, token):\n",
    "        if token not in self.token2index:\n",
    "            self.token_counter[token] = 1\n",
    "            self.token2index[token] = self.n_tokens\n",
    "            self.index2token[self.n_tokens] = token\n",
    "            self.n_tokens += 1\n",
    "        else:\n",
    "            self.token_counter[token] += 1\n",
    "\n",
    "    def trim(self, threshold):        \n",
    "        keep_tokens = []\n",
    "        \n",
    "        for token, count in self.token_counter.items():\n",
    "            if count >= threshold:\n",
    "                keep_tokens.append(token)\n",
    "\n",
    "        ratio = len(keep_tokens) / len(self.token2index)\n",
    "        print(f'Razão de tokens mantidos: {ratio:.4f}')\n",
    "\n",
    "        # Reinicializando dicionários\n",
    "        self.token2index = {}\n",
    "        self.token2count = {}\n",
    "        self.index2token = {PAD_INDEX: '<pad>', SOS_INDEX: '<sos>', EOS_INDEX: '<eos>'}\n",
    "        self.n_tokens = 3\n",
    "\n",
    "        for token in keep_tokens:\n",
    "            self.add_token(token)"
   ]
  },
  {
   "cell_type": "markdown",
   "metadata": {},
   "source": [
    "Os textos do arquivo estão todos em [Unicode](https://pt.wikipedia.org/wiki/Unicode). Para simplificar o dado, iremos converter todos os caracteres Unicode em [ASCII](https://pt.wikipedia.org/wiki/ASCII), tornando tudo em caixa baixa e removendo boa parte dos sinais diacríticos através da função `preprocess_string`.\n",
    "\n",
    "> O módulo `re` é para aproveitarmos do poder de utilizar *expressões regulares*, ou do inglês *regular expressions*, permitindo realizar casamento e processamento de *strings* rapidamente. "
   ]
  },
  {
   "cell_type": "code",
   "execution_count": 72,
   "metadata": {},
   "outputs": [
    {
     "name": "stdout",
     "output_type": "stream",
     "text": [
      "kozuscek\n",
      "bei jing\n",
      "francois\n",
      "j ai froid .\n"
     ]
    }
   ],
   "source": [
    "def preprocess_string(string):\n",
    "    ascii = unidecode(string).lower().strip()\n",
    "    ascii = re.sub(r\"([.!?])\", r\" \\1\", ascii)  # colocando um espaço entre texto e pontuação\n",
    "    ascii = re.sub(r\"[^a-zA-Z.!?]+\", r\" \", ascii)  # removendo tudo que não é um token válido\n",
    "    ascii = ascii.strip()\n",
    "\n",
    "    return ascii\n",
    "\n",
    "# Exemplos de uso do preprocess_string\n",
    "print(preprocess_string('kožušček'))\n",
    "print(preprocess_string('François'))\n",
    "print(preprocess_string(\"J'ai froid.\"))"
   ]
  },
  {
   "cell_type": "markdown",
   "metadata": {},
   "source": [
    "Para ler os dados do arquivo `.txt`, nós iremos separar o conteúdo em linhas e depois cada linha em pares `(frase1, frase2)`. Como vimos anteriormente, as frases estão separadas por *tab* (`\\t`), onde a primeira frase está em inglês e a segunda em francês. Já que queremos fazer uma tradução no sentido francês $\\rightarrow$ inglês, iremos salvar os pares na ordem inversa, mantendo uma ideia de `(entrada, saída)`."
   ]
  },
  {
   "cell_type": "code",
   "execution_count": 95,
   "id": "3b08b11f-e3ff-4a75-9f06-c958a18ad791",
   "metadata": {},
   "outputs": [
    {
     "name": "stdout",
     "output_type": "stream",
     "text": [
      "Número de pares: 135842\n",
      "Exemplo dos primeiros 3 pares: [('va !', 'go .'), ('cours !', 'run !'), ('courez !', 'run !')]\n"
     ]
    }
   ],
   "source": [
    "def build_pairs():\n",
    "    with open('/pgeoprj/ciag2023/datasets/sequence_datasets/seq2seq/eng-fra.txt', 'r') as fp:\n",
    "        lines = fp.readlines()\n",
    "\n",
    "    pairs = []\n",
    "    for line in lines:\n",
    "        sentence1, sentence2 = line.split('\\t')\n",
    "        pairs.append((preprocess_string(sentence2), preprocess_string(sentence1)))\n",
    "\n",
    "    return pairs\n",
    "\n",
    "pairs = build_pairs()\n",
    "print('Número de pares:', len(pairs))\n",
    "print('Exemplo dos primeiros 3 pares:', pairs[:3])"
   ]
  },
  {
   "cell_type": "markdown",
   "metadata": {},
   "source": [
    "Como temos muitos exemplos de frases, e queremos treinar algo relativamente rápido, iremos reduzir o número de sentenças e usar apenas entradas relativamente simples e curtas, com no máximo 10 palavras (incluindo a pontuação final). Além disso, iremos trabalhar apenas com entradas que traduzem para algo do tipo \"*I am*\", \"*He is*\", etc. Tudo isso será condensado na função `filter_pair`."
   ]
  },
  {
   "cell_type": "code",
   "execution_count": 117,
   "id": "c8a8148e-7955-4599-b63f-c297e9ec2a70",
   "metadata": {},
   "outputs": [
    {
     "name": "stdout",
     "output_type": "stream",
     "text": [
      "Novo número de pares: 10601\n",
      "Exemplo dos três primeiros novos pares: [('j ai ans .', 'i m .'), ('je vais bien .', 'i m ok .'), ('ca va .', 'i m ok .')]\n"
     ]
    }
   ],
   "source": [
    "MAX_LENGTH = 10\n",
    "\n",
    "eng_prefixes = (\n",
    "    'i am ', 'i m ',\n",
    "    'he is', 'he s ',\n",
    "    'she is', 'she s ',\n",
    "    'you are', 'you re ',\n",
    "    'we are', 'we re ',\n",
    "    'they are', 'they re '\n",
    ")\n",
    "\n",
    "def filter_pair(pair):\n",
    "    text1_length = len(pair[0].split(' '))\n",
    "    text2_length = len(pair[1].split(' '))\n",
    "\n",
    "    return text1_length < MAX_LENGTH and text2_length < MAX_LENGTH and pair[1].startswith(eng_prefixes)\n",
    "\n",
    "pairs = list(filter(filter_pair, pairs))\n",
    "print('Novo número de pares:', len(pairs))\n",
    "print('Exemplo dos três primeiros novos pares:', pairs[:3])"
   ]
  },
  {
   "cell_type": "markdown",
   "metadata": {},
   "source": [
    "Finalmente, iremos criar o escopo de cada linguagem que iremos trabalhar."
   ]
  },
  {
   "cell_type": "code",
   "execution_count": 118,
   "metadata": {},
   "outputs": [
    {
     "name": "stdout",
     "output_type": "stream",
     "text": [
      "Número de tokens para linguagem eng: 4350\n",
      "Número de tokens para linguagem fra: 2805\n",
      "Exemplo aleatório de um par: ('nous essayons .', 'we re trying .')\n"
     ]
    }
   ],
   "source": [
    "def build_languages(pairs):\n",
    "    input_language = Language('eng')\n",
    "    output_language = Language('fra')\n",
    "\n",
    "    for sentence1, sentence2 in pairs:\n",
    "        input_language.add_sentence(sentence1)\n",
    "        output_language.add_sentence(sentence2)\n",
    "\n",
    "    return input_language, output_language\n",
    "\n",
    "input_language, output_language = build_languages(pairs)\n",
    "print(f'Número de tokens para linguagem {input_language.name}: {input_language.n_tokens}')\n",
    "print(f'Número de tokens para linguagem {output_language.name}: {output_language.n_tokens}')\n",
    "print('Exemplo aleatório de um par:', random.choice(pairs))"
   ]
  },
  {
   "cell_type": "markdown",
   "metadata": {},
   "source": [
    "## Construção de um `Dataset` e `DataLoader`\n",
    "\n",
    "Finalmente, iremos estudar uma forma de agrupar sequências de tamanhos diferentes em um único *batch* de dados, permitindo trabalhar com `batch_size` em modelos recorrentes.\n",
    "\n",
    "Para isso, faremos um uso extensivo do módulo `torch.nn.utils.rnn`, ou `rnn_utils` como definimos nos imports no começo desse notebook. A partir desse módulo, conseguimos aplicar *padding* em um conjunto de sequências através da função `pad_sequence`, uniformizando o tamanho das sequências. Além disso, PyTorch disponibiliza um tipo específico de dados chamado de `PackedSequence`, destinado exclusivamente para modelos recorrentes, onde podemos usar as funções `pack_padded_sequence` e `pad_packed_sequence`, para converter de tensores para `PackedSequences` e vice-versa.\n",
    "\n",
    "> **Importante:** O uso de `PackedSequences` é interessante quando trabalhamos com dados de tamanho variável, uma vez que os modelos do PyTorch conseguem efetivamente \"pular\" *tokens* `<pad>`, poupando memória e computação!\n",
    "\n",
    "Como estamos trabalhando com sequências de tamanho variável, precisamos \"ensinar\" para o PyTorch como que iremos \"colar\" todas essas sequências para formar um único *batch*. Isso será feito através da definição de uma função chamada `collate_fn` (algo como função de combinação), onde nela usaremos a função `pad_sequence` para conseguir construir um *batch* de dados sem problemas.\n",
    "\n",
    "- Por ora não iremos nos preocupar com a separação entre conjuntos de treino, validação e teste. O objetivo desse notebook é de ensinar como trabalhamos em cenários `seq2seq`, além de como utilizar modelos mais complexos como GRUs e LSTMs."
   ]
  },
  {
   "cell_type": "code",
   "execution_count": 132,
   "metadata": {},
   "outputs": [],
   "source": [
    "def collate_fn(batch):\n",
    "    input_tensors = []\n",
    "    output_tensors = []\n",
    "\n",
    "    for input_tensor, output_tensor in batch:\n",
    "        input_tensors.append(input_tensor)\n",
    "        output_tensors.append(output_tensor)\n",
    "\n",
    "    input_tensors = rnn_utils.pad_sequence(input_tensors, batch_first=False, padding_value=PAD_INDEX)\n",
    "    output_tensors = rnn_utils.pad_sequence(output_tensors, batch_first=False, padding_value=PAD_INDEX)\n",
    "    \n",
    "    return input_tensors, output_tensors\n",
    "\n",
    "class TranslationDataset(Dataset):\n",
    "    def __init__(self):\n",
    "        pairs = build_pairs()\n",
    "        self.pairs = list(filter(filter_pair, pairs))\n",
    "        self.input_language, self.output_language = build_languages(self.pairs)\n",
    "    \n",
    "    def __len__(self):\n",
    "        return len(self.pairs)\n",
    "\n",
    "    def __getitem__(self, idx):\n",
    "        input_sentence, output_sentence = self.pairs[idx]\n",
    "\n",
    "        input_tensor = self.sentence2tensor(input_sentence)\n",
    "        output_tensor = self.sentence2tensor(output_sentence, is_input=False)\n",
    "        \n",
    "        return input_tensor, output_tensor\n",
    "    \n",
    "    def sentence2tensor(self, sentence, is_input = True):\n",
    "        tokens = sentence.split(' ')\n",
    "        tensor = torch.zeros(len(tokens) + 2, dtype=torch.long)  # +2 para comportar <sos> e <eos>\n",
    "\n",
    "        tensor[0] = SOS_INDEX\n",
    "        tensor[-1] = EOS_INDEX\n",
    "\n",
    "        language = self.input_language if is_input else self.output_language\n",
    "        for idx, token in enumerate(tokens):\n",
    "            tensor[idx+1] = language.token2index[token]\n",
    "\n",
    "        return tensor\n",
    "\n",
    "    def tensor2sentence(self, tensor, is_input = True):\n",
    "        language = self.input_language if is_input else self.output_language\n",
    "        return ' '.join(language.index2token[idx.item()] for idx in tensor)"
   ]
  },
  {
   "cell_type": "markdown",
   "metadata": {},
   "source": [
    "Exemplo de uma amostra do `TranslationDataset`."
   ]
  },
  {
   "cell_type": "code",
   "execution_count": 133,
   "metadata": {},
   "outputs": [
    {
     "name": "stdout",
     "output_type": "stream",
     "text": [
      "Tensor de entrada: tensor([ 1,  3, 15, 12, 51,  6,  2])\n",
      "Tensor de saída: tensor([ 1,  3,  4, 34,  5,  2])\n",
      "\n",
      "Frase de entrada: <sos> j en suis certain . <eos>\n",
      "Frase de saída: <sos> i m sure . <eos>\n"
     ]
    }
   ],
   "source": [
    "dataset = TranslationDataset()\n",
    "input_tensor, output_tensor = dataset[42]\n",
    "\n",
    "print('Tensor de entrada:', input_tensor)\n",
    "print('Tensor de saída:', output_tensor)\n",
    "\n",
    "print('\\nFrase de entrada:', dataset.tensor2sentence(input_tensor))\n",
    "print('Frase de saída:', dataset.tensor2sentence(output_tensor, is_input=False))"
   ]
  },
  {
   "cell_type": "markdown",
   "metadata": {},
   "source": [
    "Exemplo de uma amostra do nosso `DataLoader`."
   ]
  },
  {
   "cell_type": "code",
   "execution_count": 149,
   "metadata": {},
   "outputs": [
    {
     "name": "stdout",
     "output_type": "stream",
     "text": [
      "Tamanho da entrada e saída: (torch.Size([11, 32]), torch.Size([11, 32]))\n"
     ]
    }
   ],
   "source": [
    "dataloader = DataLoader(dataset, batch_size=32, shuffle=True, collate_fn=collate_fn)\n",
    "\n",
    "input_tensor, output_tensor = next(iter(dataloader))\n",
    "print('Tamanho da entrada e saída:', (input_tensor.shape, output_tensor.shape))"
   ]
  },
  {
   "cell_type": "code",
   "execution_count": 150,
   "metadata": {},
   "outputs": [
    {
     "name": "stdout",
     "output_type": "stream",
     "text": [
      "Tensor de entrada: tensor([  1, 119, 215, 322, 628,  18,   2,   0,   0,   0,   0])\n",
      "Tensor de saída: tensor([   1,  130,  125,  654,   43, 1582,    5,    2,    0,    0,    0])\n",
      "\n",
      "Frase de entrada: <sos> vous etes tellement adorable ! <eos> <pad> <pad> <pad> <pad>\n",
      "Frase de saída: <sos> you are such a sweetheart . <eos> <pad> <pad> <pad>\n"
     ]
    }
   ],
   "source": [
    "first_input = input_tensor[:, 0]\n",
    "first_output = output_tensor[:, 0]\n",
    "\n",
    "print('Tensor de entrada:', first_input)\n",
    "print('Tensor de saída:', first_output)\n",
    "\n",
    "print('\\nFrase de entrada:', dataset.tensor2sentence(first_input))\n",
    "print('Frase de saída:', dataset.tensor2sentence(first_output, is_input=False))"
   ]
  },
  {
   "cell_type": "markdown",
   "metadata": {},
   "source": [
    "## Modelo *seq2seq*"
   ]
  },
  {
   "cell_type": "code",
   "execution_count": null,
   "metadata": {},
   "outputs": [],
   "source": []
  },
  {
   "cell_type": "markdown",
   "id": "ba280ce7-abf7-4cb7-b3be-d9fa49f28952",
   "metadata": {},
   "source": [
    "Seguindo as ideias trabalhadas em notebooks passados, precisamos criar um mapeamento entre *tokens* e índices. No nosso caso, o *token* é uma letra do nosso alfabeto. Para isso, iremos construir nosso alfabeto (vocabulário), com base nas letras únicas de todos os nomes da base de dados, e, posteriormente, iremos criar 2 estruturas para realizar tal mapeamento: `token2index` e `index2token`.\n",
    "\n",
    "> Além dos *tokens* obtidos através do texto, é muito comum vermos também outros 3 *tokens* especiais:\n",
    "> - **\\<sos\\>**: abreviação para *start-of-sequence*, ou início de sentença.\n",
    "> - **\\<eos\\>**: abreviação para *end-of-sequence*, ou fim de sentença.\n",
    "> - **\\<pad\\>**: *token* especial destinado para indicar um valor de *pad* na nossa sequência.\n",
    "\n",
    "- Diferentemente do notebook anterior, os *tokens* de **\\<sos\\>** e **\\<eos\\>** serão úteis, uma vez que eles são utilizados em contextos de geração de sentenças. O token **\\<pad\\>** ainda não será utilizado, uma vez que ainda não trabalharemos com *batches* por enquanto.\n",
    "  - Na verdade, iremos utilizar apenas o *token* **\\<eos\\>** no nosso vocabulário, já que forneceremos a primeira letra do nome que queremos gerar para o nosso modelo. Ao utilizar o *token* **\\<sos\\>** no nosso contexto, a nossa rede terá que adivinhar às cegas o primeiro *token* do nosso nome. A utilização de ambos *tokens* de início e fim de sentença são mais vistos em abordagens *seq2seq*, onde produzimos um contexto da frase de entrada, auxiliando a rede a prever o *token* inicial a partir de **\\<sos\\>** com mais garantia de acerto."
   ]
  },
  {
   "cell_type": "code",
   "execution_count": 6,
   "id": "81434dc8-70a4-4f14-bca3-ddfa27ae1d98",
   "metadata": {},
   "outputs": [
    {
     "name": "stdout",
     "output_type": "stream",
     "text": [
      "Tamanho do alfabeto: 83\n",
      "5 tokens aleatórios do alfabeto: ['t', 'ò', 'G', 'Ś', 'C']\n"
     ]
    }
   ],
   "source": [
    "vocabulary = []\n",
    "\n",
    "# Adicionando o token especial <eos>\n",
    "vocabulary.append('<eos>')\n",
    "\n",
    "for names in language_names.values():\n",
    "    for name in names:\n",
    "        for token in name:        \n",
    "            if token not in vocabulary:\n",
    "                vocabulary.append(token)\n",
    "\n",
    "print('Tamanho do alfabeto:', len(vocabulary))\n",
    "print('5 tokens aleatórios do alfabeto:', random.choices(vocabulary, k=5))"
   ]
  },
  {
   "cell_type": "code",
   "execution_count": 7,
   "id": "8d38da7e-5302-4d5d-bf54-27531a9dfc45",
   "metadata": {},
   "outputs": [
    {
     "name": "stdout",
     "output_type": "stream",
     "text": [
      "Token de índice 42: p\n",
      "Índice do token \"<eos>\": 0\n"
     ]
    }
   ],
   "source": [
    "index2token = []\n",
    "token2index = {}\n",
    "\n",
    "for token_idx, token in enumerate(vocabulary):\n",
    "    index2token.append(token)\n",
    "    token2index[token] = token_idx\n",
    "\n",
    "print('Token de índice 42:', index2token[42])\n",
    "print('Índice do token \"<eos>\":', token2index['<eos>'])"
   ]
  },
  {
   "cell_type": "markdown",
   "id": "e73199e9-979e-407f-9716-fec5315ea64a",
   "metadata": {},
   "source": [
    "Agora que temos as estruturas `index2token` e `token2index` bem definidas, conseguimos converter um nome em um tensor de índices numéricos através das funções `token2tensor` e `name2tensor`, como demonstrado a seguir.\n",
    "\n",
    "> **Observação 1:** Criaremos um tensor de tamanho $n \\times 1$, onde $n$ é o tamanho do nome e $1$ o tamanho do nosso *batch*. Para esse notebook, nós não iremos trabalhar com `batch_size > 1`, devido à complicações relacionadas com manipulação de sequências e *padding*. Deixaremos tais assuntos para serem abordados no notebook de `seq2seq`.\n",
    "\n",
    "- Optamos por trocar a ordem padrão das dimensões dos dados em PyTorch, ou seja, com o tamanho do *batch* no começo, para facilitar operações em sequências no futuro, como utilizar `len` para obter o tamanho da sequência e tornar a indexação mais fácil. Na verdade, especificamente para sequências, PyTorch nos dá a opção de colocar o tamanho do *batch* como primeira dimensão do nosso tensor ou na segunda, sendo a primeira o tamanho da nossa sequência. Veremos isso em mais detalhes quando trabalharmos com os modelos recorrentes implementados pelo PyTorch."
   ]
  },
  {
   "cell_type": "code",
   "execution_count": 8,
   "id": "15d18b1c-b76f-4032-b7a7-9c5c74a28644",
   "metadata": {},
   "outputs": [
    {
     "name": "stdout",
     "output_type": "stream",
     "text": [
      "Tensor para o token J: tensor([50])\n",
      "Tensor para o nome Jonas: tensor([[50,  3, 25,  8,  9,  0]])\n"
     ]
    }
   ],
   "source": [
    "def token2tensor(token):\n",
    "    return torch.tensor([token2index[token]], dtype=torch.long)\n",
    "\n",
    "def name2tensor(name):\n",
    "    tensor = torch.zeros((1 + len(name), 1), dtype=torch.long)\n",
    "    \n",
    "    # Adicionando os tokens de fim de sentença\n",
    "    tensor[-1] = token2tensor('<eos>')\n",
    "    \n",
    "    for idx, token in enumerate(name):\n",
    "        tensor[idx] = token2tensor(token)\n",
    "\n",
    "    return tensor\n",
    "\n",
    "name = 'Jonas'\n",
    "print(f'Tensor para o token J:', token2tensor('J'))\n",
    "print(f'Tensor para o nome {name}: {name2tensor(name).T}')  # transposição para fins de print"
   ]
  },
  {
   "cell_type": "markdown",
   "id": "f2462d5c-c8cc-4d34-821f-ece8d2921fbb",
   "metadata": {},
   "source": [
    "Para finalizar essa parte do notebook sobre dados, iremos criar uma função auxiliar `get_random_pair` para selecionar de forma aleatória um par `(idioma, nome)` da nossa base dados. Além disso, tal função irá retornar os tensores relacionados com cada componente do par.\n",
    "\n",
    "- Por ora não iremos nos preocupar com a separação entre conjuntos de treino, validação e teste. O objetivo desse notebook é de ensinar como trabalhamos do zero com geração de sequências."
   ]
  },
  {
   "cell_type": "code",
   "execution_count": 9,
   "id": "6bc1a934-7161-46b9-a70d-f55cf23a169c",
   "metadata": {},
   "outputs": [],
   "source": [
    "def language2tensor(language):\n",
    "    return torch.tensor([languages.index(language)], dtype=torch.long)\n",
    "\n",
    "def get_random_pair():\n",
    "    language = random.choice(languages)\n",
    "    name = random.choice(language_names[language])\n",
    "    name = ''.join(name)  # convertendo lista de caracteres em string\n",
    "\n",
    "    name_tensor = name2tensor(name)\n",
    "    language_tensor = language2tensor(language)\n",
    "\n",
    "    return name, language, name_tensor, language_tensor"
   ]
  },
  {
   "cell_type": "code",
   "execution_count": 10,
   "id": "0e2952b4-92b5-4498-964c-4fea70809a25",
   "metadata": {},
   "outputs": [
    {
     "name": "stdout",
     "output_type": "stream",
     "text": [
      "Par selecionado: ('Jon', 'Korean')\n",
      "Tensores do par: (tensor([[50,  3, 25,  0]]), tensor([9]))\n"
     ]
    }
   ],
   "source": [
    "name, language, name_tensor, language_tensor = get_random_pair()\n",
    "\n",
    "print('Par selecionado:', (name, language))\n",
    "print('Tensores do par:', (name_tensor.T, language_tensor))"
   ]
  },
  {
   "cell_type": "markdown",
   "id": "3a537a31-45bf-4756-96ff-89ff322cc3d0",
   "metadata": {},
   "source": [
    "## Definição do nosso modelo\n",
    "\n",
    "Como já tratamos a implementação de uma RNN do zero no notebook anterior, iremos utilizar o módulo `nn.RNN` disponibilizado pelo PyTorch. Uma documentação mais extensiva desse módulo pode ser encontrada [aqui](https://pytorch.org/docs/stable/generated/torch.nn.RNN.html#rnn). Não iremos utilizar todos os parâmetros customizáveis do módulo, mas iremos explicar eles aqui brevemente.\n",
    "\n",
    "- **`input_size`**: o número de *features* da entrada, no nosso caso por exemplo o tamanho da dimensão de *embedding*.\n",
    "- **`hidden_size`**: o tamanho do estado oculto ($h$) que utilizaremos.\n",
    "- **`num_layers`**: número de camadas recorrentes que iremos \"empilhar\".\n",
    "- **`nonlinearity`**: a camada de ativação não linear utilizado ao longo da recorrência.\n",
    "- **`bias`**: valor *booleano* indicando se queremos ou não utilizar viés nas camadas.\n",
    "- **`batch_first`**: valor *booleano* que permite a gente indicar se queremos trabalhar com dados onde a primeira dimensão é o tamanho do *batch*, nesse caso `batch_first=True`, ou o tamanho da sequência.\n",
    "- **`dropout`**: introduz *dropout* em cada saída da camada recorrente (usado com `num_layers != 1`).\n",
    "- **`bidirectional`**: valor *booleano* que indica se queremos um modelo recorrente bidirecional.\n",
    "\n",
    "Logo abaixo temos um exemplo de utilização do módulo `nn.RNN`. Suponha que após aplicarmos o embedding, nós tenhamos a matriz `X`, cujas dimensões são: $S \\times 1 \\times E$, onde $S$ é o tamanho da sequência e $E$ o tamanho do embedding escolhido.\n",
    "\n",
    "> Para esse exemplo utilizamos: $S = 4$, $E = 2$, $h = 8$."
   ]
  },
  {
   "cell_type": "code",
   "execution_count": 11,
   "id": "9da632ad-a1d3-48e1-9ab8-232bd4f350fb",
   "metadata": {},
   "outputs": [
    {
     "name": "stdout",
     "output_type": "stream",
     "text": [
      "Tamanho do output final: torch.Size([1, 8])\n",
      "Tamanho do hidden final: torch.Size([1, 8])\n"
     ]
    }
   ],
   "source": [
    "seq_length = 4\n",
    "embedding_size = 2\n",
    "X = torch.rand(seq_length, 1, embedding_size)  # definindo uma matriz X aleatória apenas para exemplo\n",
    "\n",
    "hidden_size = 8\n",
    "model = nn.RNN(embedding_size, hidden_size, batch_first=False)\n",
    "\n",
    "hidden = None  # nn.RNN irá selecionar h0 como sendo zeros\n",
    "for Xt in X:\n",
    "    outputs, hidden = model(Xt, hidden)\n",
    "\n",
    "print('Tamanho do output final:', outputs.shape)\n",
    "print('Tamanho do hidden final:', hidden.shape)"
   ]
  },
  {
   "cell_type": "markdown",
   "id": "03679a81-9ad7-4a5e-8373-efcebccbf62c",
   "metadata": {},
   "source": [
    "Como iremos trabalhar com geração de texto, **condicionando** a geração de nomes a partir de um idioma específico, a entrada do nosso modelo no tempo $t$ será a concatenação do *embedding* do *token* atual com o do idioma selecionado. Para isso, teremos dois *embeddings* diferentes: um para a transformação do idioma; e outro para transformação do *token*.\n",
    "\n",
    "Um diagrama do esquema de geração pode ser visto a seguir, note que a nossa arquitetura possui uma modelagem autorregressiva, ou seja, a predição do tempo o $t$ depende das predições do tempo $t-1$, e assim por diante. Nele, o símbolo `&` representa o operador de concatenação das entradas.\n",
    "\n",
    "> A geração da sentença será finalizada quando o modelo prever um *token* de fim de sentença ou quando atingirmos um tamanho predeterminado, forçando assim a adição de um `<eos>` no final da predição.\n",
    "\n",
    "![](../imagens/rnn_autorregressivo.png)"
   ]
  },
  {
   "cell_type": "code",
   "execution_count": 12,
   "id": "e30b8ceb-fdd1-4c1e-b532-eca48a07befb",
   "metadata": {},
   "outputs": [],
   "source": [
    "class NameGenerationModel(nn.Module):\n",
    "    def __init__(self, vocab_size, num_languages, embedding_size, hidden_size):\n",
    "        super().__init__()\n",
    "\n",
    "        self.letter_embedding = nn.Embedding(vocab_size, embedding_size)\n",
    "        self.language_embedding = nn.Embedding(num_languages, embedding_size)\n",
    "\n",
    "        self.rnn = nn.RNN(2 * embedding_size, hidden_size, batch_first=False)\n",
    "        self.classifier = nn.Sequential(\n",
    "            nn.Linear(hidden_size, vocab_size),\n",
    "            nn.LogSoftmax(dim=-1)\n",
    "        )\n",
    "\n",
    "    def forward(self, x, language, hidden = None):\n",
    "        x = self.letter_embedding(x)\n",
    "        language = self.language_embedding(language)\n",
    "        combined = torch.cat([x, language], dim=-1)  # iremos concatenar ao longo das features\n",
    "\n",
    "        output, hidden = self.rnn(combined, hidden)\n",
    "        output = self.classifier(output)\n",
    "\n",
    "        return output, hidden"
   ]
  },
  {
   "cell_type": "markdown",
   "id": "3959eb62-da34-44f4-adb4-26135c74b472",
   "metadata": {},
   "source": [
    "Exemplo da utilização da rede para o tempo $t = 0$."
   ]
  },
  {
   "cell_type": "code",
   "execution_count": 13,
   "id": "d276d5d1-60fa-4887-932d-62d8c406d8b9",
   "metadata": {},
   "outputs": [
    {
     "name": "stdout",
     "output_type": "stream",
     "text": [
      "Saída do modelo: tensor([[-4.3127, -4.3729, -4.6023, -5.1198, -4.2001, -4.0599, -4.4466, -4.4725,\n",
      "         -4.4736, -4.1429, -4.3761, -4.0316, -4.5924, -4.5246, -4.8090, -4.5005,\n",
      "         -4.9784, -4.6526, -3.8958, -4.1140, -4.4725, -4.4878, -4.8589, -4.9187,\n",
      "         -4.3690, -4.7872, -4.0835, -4.5726, -4.0561, -4.8965, -4.3949, -4.7226,\n",
      "         -4.4075, -4.5168, -4.6556, -4.1843, -4.2750, -4.4151, -4.5997, -4.1011,\n",
      "         -4.5208, -4.2276, -4.0197, -4.1403, -4.3222, -4.4085, -4.5460, -4.0449,\n",
      "         -4.0477, -4.8675, -4.6912, -4.3057, -4.4953, -4.7843, -4.7493, -4.5717,\n",
      "         -4.5224, -4.4328, -4.3288, -3.9806, -4.5949, -4.6525, -4.2889, -4.1353,\n",
      "         -4.6397, -4.7143, -4.5830, -4.8833, -4.7111, -4.4183, -4.2231, -4.3145,\n",
      "         -4.4207, -4.9036, -3.9180, -4.8810, -4.3709, -4.8032, -4.2959, -4.1839,\n",
      "         -4.6930, -4.2591, -4.5415]], grad_fn=<LogSoftmaxBackward0>)\n",
      "\n",
      "Estado oculto: tensor([[-0.6726, -0.6069,  0.0560,  0.5762, -0.1705, -0.7336, -0.2788,  0.4740,\n",
      "         -0.5599, -0.8633, -0.4429, -0.2815, -0.6277, -0.6130, -0.4235,  0.9508,\n",
      "          0.5481, -0.3706, -0.5038,  0.3215, -0.3713, -0.3320,  0.0025,  0.2024,\n",
      "         -0.2888,  0.3319, -0.5904,  0.4757, -0.8440,  0.1987,  0.2305, -0.0123]],\n",
      "       grad_fn=<SqueezeBackward1>)\n",
      "\n",
      "Próximo token previsto: f\n"
     ]
    }
   ],
   "source": [
    "token = 'J'\n",
    "language = 'English'\n",
    "\n",
    "token_tensor = token2tensor(token)\n",
    "language_tensor = language2tensor(language)\n",
    "\n",
    "model = NameGenerationModel(len(vocabulary), len(languages), embedding_size=16, hidden_size=32)\n",
    "output, hidden = model(token_tensor, language_tensor)\n",
    "\n",
    "print('Saída do modelo:', output)\n",
    "print('\\nEstado oculto:', hidden)\n",
    "\n",
    "next_token = output.argmax()\n",
    "print('\\nPróximo token previsto:', index2token[next_token])"
   ]
  },
  {
   "cell_type": "markdown",
   "id": "d22bc3e3-237a-4bfd-b882-c1ce63eefe94",
   "metadata": {},
   "source": [
    "## Treinamento do modelo\n",
    "\n",
    "Para o treinamento do modelo generativo, iremos introduzir um novo conceito conhecido como *teacher forcing*, uma estratégia de treinamento de geração de sequências para acelerar a convergência do modelo e garantir estabilidade ao longo do treinamento. A estratégia consiste em utilizar como entrada para o tempo $t$ o *token* real do tempo $t-1$ ao invés da predição do modelo.\n",
    "\n",
    "À primeira vista, essa estratégia pode parecer \"roubada\". Porém, temos que lembrar que o predição do modelo no tempo $t$ é dada pelo *ground truth* do tempo $t-1$ e o estado oculto do modelo que foi atualizado utilizando os *ground truths* do tempo $1$ até $t-2$. Ou seja, o modelo ainda está aprendendo os padrões linguísticos da sentença que lhe foi apresentada, mesmo não usando as suas próprias predições. Uma analogia interessante que podemos fazer com *teacher forcing* é quando vamos fazer uma prova onde a questão **d)** depende da resposta correta da questão **c)** e assim por diante. Se errarmos a questão **a)**, estaremos correndo o risco de errar todas as questões seguintes, mesmo realizando os cálculos corretos. Porém, se no começo de cada questão nós começarmos com a resposta correta da anterior, conseguimos acertar algumas coisas.\n",
    "\n",
    "> **Importante:** Durante a geração de sentenças fora do treino, utilizaremos as predições do modelo ao invés do *ground truth* da sentença, uma vez que tal informação não está disponível. Sendo assim, é esperado observar uma discrepância da performance do modelo. Isso é conhecido na literatura como *exposure bias*, e uma forma simples de mitigar esse efeito é de utilizar *teacher forcing* de maneira probabilística, reduzindo a probabilidade de uso a medida que o modelo prevê novos *tokens* da sentença. Outra estratégia interessante pode ser lida no seguinte [artigo](https://arxiv.org/pdf/2103.11603.pdf), onde os autores propõem fornecer para o modelo um conjunto de palavras similares à do passo $t-1$ ao invés de um único *ground truth*.\n",
    "\n",
    "- Apenas para relembrar: Como o nosso modelo recorrente possui como última camada uma `LogSoftmax`, iremos utilizar a função de perda `nn.NLLLoss` (*negative log-likelihood*), que espera log-probabilidades como saída da rede. Um fato curioso é que `nn.CrossEntropyLoss = LogSoftmax + nn.NLLLoss`, segundo a própria [documentação](https://pytorch.org/docs/stable/generated/torch.nn.CrossEntropyLoss.html) da `nn.CrossEntropyLoss`."
   ]
  },
  {
   "cell_type": "code",
   "execution_count": 14,
   "id": "75adf7a2-7798-46fa-9861-ec84388ec1e1",
   "metadata": {},
   "outputs": [],
   "source": [
    "model = NameGenerationModel(len(vocabulary), len(languages), embedding_size=64, hidden_size=128)\n",
    "model = model.to(device)\n",
    "\n",
    "criterion = nn.NLLLoss()\n",
    "optimizer = optim.Adam(model.parameters(), lr=0.0005)\n",
    "\n",
    "loss_interval = 1000  # intervalo para salvar a loss média\n",
    "print_interval = 5000  # intervalo para exibir performance da rede\n",
    "num_iterations = 100000\n",
    "\n",
    "# Variáveis para manter o valor da loss ao longo das épocas\n",
    "all_losses = []\n",
    "average_loss = 0"
   ]
  },
  {
   "cell_type": "markdown",
   "id": "21eece3d-8461-413e-ac80-27b5461a714f",
   "metadata": {},
   "source": [
    "Algo a se notar aqui é que ao invés de usarmos a última saída da rede para calcular a função de custo, como no caso da classificação de nomes, estaremos realizando uma predição a cada instante de tempo. Logo, precisaremos calcular a função de custo para cada predição.\n",
    "\n",
    "Para lidar com isso, o `autograd` do PyTorch permite você apenas somar todos os valores das funções de custo em cada instante de tempo e depois chamar `.backward()` no fim."
   ]
  },
  {
   "cell_type": "code",
   "execution_count": 15,
   "id": "c35d9fc1-4995-463e-8684-789e43032da1",
   "metadata": {},
   "outputs": [
    {
     "data": {
      "application/vnd.jupyter.widget-view+json": {
       "model_id": "7163e748cea942ce84c8748ef2ad338b",
       "version_major": 2,
       "version_minor": 0
      },
      "text/plain": [
       "  0%|          | 0/100000 [00:00<?, ?it/s]"
      ]
     },
     "metadata": {},
     "output_type": "display_data"
    },
    {
     "name": "stdout",
     "output_type": "stream",
     "text": [
      "Iter [5000/100000] => loss: 9.15676, input ('Dutch', 'Peij'), predicted name: Perne\n",
      "Iter [10000/100000] => loss: 14.03139, input ('Spanish', 'Noguerra'), predicted name: Neneera\n",
      "Iter [15000/100000] => loss: 4.55933, input ('Korean', 'Nam'), predicted name: Ngn\n",
      "Iter [20000/100000] => loss: 8.72096, input ('Polish', 'Bosko'), predicted name: Buwkaw\n",
      "Iter [25000/100000] => loss: 5.04007, input ('Scottish', 'Hay'), predicted name: Hun\n",
      "Iter [30000/100000] => loss: 7.21501, input ('Arabic', 'Deeb'), predicted name: Darr\n",
      "Iter [35000/100000] => loss: 8.76673, input ('German', 'Reiter'), predicted name: Rosser\n",
      "Iter [40000/100000] => loss: 9.02612, input ('Scottish', 'Milne'), predicted name: Mclle\n",
      "Iter [45000/100000] => loss: 5.42725, input ('French', 'Sauvage'), predicted name: Sauvager\n",
      "Iter [50000/100000] => loss: 7.22971, input ('French', 'Harman'), predicted name: Harrin\n",
      "Iter [55000/100000] => loss: 12.83179, input ('Dutch', 'Haanraats'), predicted name: Heandand\n",
      "Iter [60000/100000] => loss: 13.23871, input ('Russian', 'Danchenko'), predicted name: Dalihivkov\n",
      "Iter [65000/100000] => loss: 4.08707, input ('Portuguese', 'Cruz'), predicted name: Caez\n",
      "Iter [70000/100000] => loss: 8.09334, input ('Dutch', 'Agthoven'), predicted name: Anteoeen\n",
      "Iter [75000/100000] => loss: 8.68080, input ('Japanese', 'Takeda'), predicted name: Takama\n",
      "Iter [80000/100000] => loss: 3.24367, input ('Scottish', 'Kerr'), predicted name: Kenr\n",
      "Iter [85000/100000] => loss: 4.29261, input ('Spanish', 'Núñez'), predicted name: Noñaz\n",
      "Iter [90000/100000] => loss: 2.63017, input ('Polish', 'Kozlowski'), predicted name: Kozlowski\n",
      "Iter [95000/100000] => loss: 20.14133, input ('English', 'Chamberlain'), predicted name: Cormsarsnn\n",
      "Iter [100000/100000] => loss: 11.49213, input ('Dutch', 'Krantz'), predicted name: Koun\n"
     ]
    }
   ],
   "source": [
    "for iter in tqdm(range(1, num_iterations + 1)):\n",
    "    name, language, name_tensor, language_tensor = get_random_pair()\n",
    "    \n",
    "    name_tensor = name_tensor.to(device)\n",
    "    language_tensor = language_tensor.to(device)\n",
    "\n",
    "    loss = 0\n",
    "    hidden = None\n",
    "    predicted_tokens = [name[0]]  # o primeiro token é informado a priori\n",
    "\n",
    "    # Iremos iterar sobre todos os tokens até o penúltimo\n",
    "    for idx in range(len(name_tensor) - 1):\n",
    "        output, hidden = model.forward(name_tensor[idx], language_tensor, hidden)  # note que estamos sempre fazendo teacher forcing\n",
    "        loss += criterion(output, name_tensor[idx+1])\n",
    "\n",
    "        # Salvando o nome predito pelo modelo\n",
    "        token = index2token[output.argmax()]\n",
    "        if token != '<eos>':\n",
    "            predicted_tokens.append(token)\n",
    "    \n",
    "    optimizer.zero_grad()\n",
    "    loss.backward()\n",
    "    optimizer.step()\n",
    "\n",
    "    average_loss +=  loss.item() / (len(name_tensor) - 1)\n",
    "    \n",
    "    if iter % print_interval == 0:\n",
    "        predicted_name = ''.join(predicted_tokens)  # convertendo de lista de caracteres para string\n",
    "\n",
    "        print(f'Iter [{iter}/{num_iterations}] => loss: {loss:.5f}, ' \\\n",
    "              f'input {language, name}, predicted name: {predicted_name}')\n",
    "        \n",
    "    if iter % loss_interval == 0:\n",
    "        all_losses.append(average_loss / loss_interval)\n",
    "        average_loss = 0"
   ]
  },
  {
   "cell_type": "code",
   "execution_count": 16,
   "id": "fde12879-2212-43cd-be8b-79b2056ce5cf",
   "metadata": {},
   "outputs": [
    {
     "data": {
      "image/png": "[encoded data removed]",
      "text/plain": [
       "<Figure size 640x480 with 1 Axes>"
      ]
     },
     "metadata": {},
     "output_type": "display_data"
    }
   ],
   "source": [
    "plt.title('Evolução da função de perda média ao longo das iterações')\n",
    "plt.xlabel('Intervalo de Salvamento')\n",
    "plt.ylabel('Valor médio')\n",
    "    \n",
    "plt.plot(all_losses)\n",
    "plt.show()"
   ]
  },
  {
   "cell_type": "markdown",
   "id": "9bbc696a-94b8-482d-b85c-e28a3abc0128",
   "metadata": {},
   "source": [
    "## Gerando novos nomes\n",
    "\n",
    "Para gerar um novo nome (processo de *sampling*), iremos definir uma função `sample` que, dado um idioma e uma letra inicial, faz com que a rede gere um nome até prever o *token* `<eos>`, ou atingir um tamanho máximo de sentença (nesse caso 20). Nesse caso, usaremos a previsão da rede do tempo $t-1$ para realizar a previsão do tempo $t$.\n",
    "\n",
    "> Teremos a função auxiliar `samples` para realizar múltiplas amostragens da rede dado: um idioma, quais *tokens* iniciais queremos para cada nome e uma função de amostragem."
   ]
  },
  {
   "cell_type": "code",
   "execution_count": 17,
   "id": "08d1d04e-e4b4-45ca-be98-75ef27394cc9",
   "metadata": {},
   "outputs": [],
   "source": [
    "max_length = 20\n",
    "\n",
    "def sample(language, token):\n",
    "    model.eval()\n",
    "\n",
    "    with torch.no_grad():\n",
    "        hidden = None \n",
    "        generated_name = token\n",
    "        language_tensor = language2tensor(language).to(device)\n",
    "\n",
    "        for i in range(max_length):\n",
    "            token_tensor = token2tensor(token).to(device)\n",
    "\n",
    "            output, hidden = model(token_tensor, language_tensor, hidden)\n",
    "            token = index2token[output.argmax()]\n",
    "\n",
    "            if token == '<eos>':\n",
    "                break\n",
    "\n",
    "            generated_name += token\n",
    "\n",
    "        return generated_name\n",
    "    \n",
    "def samples(language, start_tokens, sampling_fn):\n",
    "    print(f'\\n{language}:')\n",
    "    for token in start_tokens:\n",
    "        print(' >', sampling_fn(language, token))"
   ]
  },
  {
   "cell_type": "code",
   "execution_count": 18,
   "metadata": {},
   "outputs": [
    {
     "name": "stdout",
     "output_type": "stream",
     "text": [
      "\n",
      "Spanish:\n",
      " > Santiago\n",
      " > Parez\n",
      " > Arino\n",
      "\n",
      "Russian:\n",
      " > Rahilov\n",
      " > Ustelan\n",
      " > Shakhin\n",
      "\n",
      "Chinese:\n",
      " > Chang\n",
      " > Huan\n",
      " > Ing\n"
     ]
    }
   ],
   "source": [
    "samples('Spanish', 'SPA', sample)\n",
    "samples('Russian', 'RUS', sample)\n",
    "samples('Chinese', 'CHI', sample)"
   ]
  },
  {
   "cell_type": "markdown",
   "metadata": {},
   "source": [
    "Perceba que se executarmos a geração com os mesmos *tokens* iniciais, teremos os mesmos nomes. Isso se deve ao fato de estarmos utilizando uma estratégia de *sampling* determinística, ou seja, escolhendo o próximo *token* como sendo sempre aquele que tem maior probabilidade de ocorrer. Como os pesos da nossa rede estão fixados, sempre teremos os mesmos nomes sendo gerados. "
   ]
  },
  {
   "cell_type": "code",
   "execution_count": 19,
   "metadata": {},
   "outputs": [
    {
     "name": "stdout",
     "output_type": "stream",
     "text": [
      "\n",
      "Spanish:\n",
      " > Santiago\n",
      " > Santiago\n",
      " > Santiago\n",
      "\n",
      "Russian:\n",
      " > Rahilov\n",
      " > Rahilov\n",
      " > Rahilov\n",
      "\n",
      "Chinese:\n",
      " > Chang\n",
      " > Chang\n",
      " > Chang\n"
     ]
    }
   ],
   "source": [
    "samples('Spanish', 'SSS', sample)\n",
    "samples('Russian', 'RRR', sample)\n",
    "samples('Chinese', 'CCC', sample)"
   ]
  },
  {
   "cell_type": "markdown",
   "metadata": {},
   "source": [
    "Para modificar esse comportamento, teremos que introduzir algum viés probabilístico no processo de geração. Existem uma diversidade de estratégias que podemos escolher para introduzir esse viés, como por exemplo:\n",
    "\n",
    "1. Adicionar um ruído na entrada do modelo, alterando um pouco o *embedding* inicial.\n",
    "2. Selecionar os **top-k** *tokens* mais prováveis e realizar uma amostragem desse conjunto.\n",
    "3. Reponderar as probabilidades associadas com cada *token* e realizar uma amostragem com base nessa nova probabilidade (*Temperature Sampling*).\n",
    "\n",
    "Visando simplicidade de implementação e robustez, iremos implementar a segunda estratégia, nomeada de **Top-k Sampling**."
   ]
  },
  {
   "cell_type": "code",
   "execution_count": 20,
   "metadata": {},
   "outputs": [],
   "source": [
    "def topk_sampling(language, token, k=5):\n",
    "    model.eval()\n",
    "\n",
    "    with torch.no_grad():\n",
    "        hidden = None \n",
    "        generated_name = token\n",
    "        language_tensor = language2tensor(language).to(device)\n",
    "\n",
    "        for i in range(max_length):\n",
    "            token_tensor = token2tensor(token).to(device)\n",
    "            output, hidden = model(token_tensor, language_tensor, hidden)\n",
    "\n",
    "            # Obtendo as top-k predições da rede\n",
    "            vals, idxs = torch.topk(output[0], k=k)\n",
    "            vals = vals.detach().cpu().numpy()  # covertendo para numpy\n",
    "            idxs = idxs.detach().cpu().numpy()  # convertendo para numpy\n",
    "            \n",
    "            probs = np.e ** vals\n",
    "            probs = probs / probs.sum()\n",
    "\n",
    "            idx = np.random.choice(idxs, p=probs)\n",
    "            token = index2token[idx]\n",
    "            \n",
    "            if token == '<eos>':\n",
    "                break\n",
    "\n",
    "            generated_name += token\n",
    "\n",
    "        return generated_name"
   ]
  },
  {
   "cell_type": "code",
   "execution_count": 21,
   "metadata": {},
   "outputs": [
    {
     "name": "stdout",
     "output_type": "stream",
     "text": [
      "\n",
      "Spanish:\n",
      " > Soana\n",
      " > Sieti\n",
      " > Soto\n",
      "\n",
      "Russian:\n",
      " > Rotulail\n",
      " > Raisanev\n",
      " > Reinkhenkov\n",
      "\n",
      "Chinese:\n",
      " > Chian\n",
      " > Chin\n",
      " > Chi\n"
     ]
    }
   ],
   "source": [
    "samples('Spanish', 'SSS', topk_sampling)\n",
    "samples('Russian', 'RRR', topk_sampling)\n",
    "samples('Chinese', 'CCC', topk_sampling)"
   ]
  }
 ],
 "metadata": {
  "kernelspec": {
   "display_name": "ej0f",
   "language": "python",
   "name": "ej0f"
  },
  "language_info": {
   "codemirror_mode": {
    "name": "ipython",
    "version": 3
   },
   "file_extension": ".py",
   "mimetype": "text/x-python",
   "name": "python",
   "nbconvert_exporter": "python",
   "pygments_lexer": "ipython3",
   "version": "3.10.12"
  }
 },
 "nbformat": 4,
 "nbformat_minor": 5
}
