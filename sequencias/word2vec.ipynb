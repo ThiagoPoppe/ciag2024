{
 "cells": [
  {
   "cell_type": "markdown",
   "id": "4a6f71a2-22b9-4495-87a1-c90c3fa89c64",
   "metadata": {},
   "source": [
    "# Sequências - Aula Prática 01/04\n",
    "## Word2Vec\n",
    "\n",
    "Neste notebook iremos trabalhar um pouco com a parte introdutória de modelos de linguagem, implementando um modelo `Word2Vec`, que utiliza a arquitetura *Constant Bag-of-Words* (CBOW), em uma base de dados simples."
   ]
  },
  {
   "cell_type": "markdown",
   "id": "4cb5b060-73b1-4e0d-9089-c8fb743e1d66",
   "metadata": {},
   "source": [
    "## Importação de pacotes"
   ]
  },
  {
   "cell_type": "code",
   "execution_count": null,
   "id": "7165d22a-0759-464d-bbfc-da5536140c3b",
   "metadata": {},
   "outputs": [],
   "source": [
    "import torch\n",
    "import torch.nn as nn\n",
    "import torch.optim as optim\n",
    "\n",
    "import numpy as np\n",
    "import matplotlib.pyplot as plt\n",
    "\n",
    "from torch.utils.data import Dataset, DataLoader"
   ]
  },
  {
   "cell_type": "code",
   "execution_count": null,
   "id": "f539a8e7-4164-4a90-a5a6-6b431cc368d0",
   "metadata": {},
   "outputs": [
    {
     "name": "stdout",
     "output_type": "stream",
     "text": [
      "O código será executado em: cuda\n"
     ]
    }
   ],
   "source": [
    "# Definindo se o código será executado na CPU ou na GPU\n",
    "has_cuda = torch.cuda.is_available()\n",
    "device = torch.device('cuda' if has_cuda else 'cpu')\n",
    "\n",
    "print('O código será executado em:', device)"
   ]
  },
  {
   "cell_type": "markdown",
   "id": "7cd96627-d0b2-4488-b013-7debf3f8690a",
   "metadata": {},
   "source": [
    "A representação de palavras ou termos por *embeddings* é um dos conceitos mais fundamentais de Deep Learning em Processamento de Linguagem Naturais. O [*word2vec*](https://arxiv.org/pdf/1301.3781.pdf), proposto por Tomas Mikolov et al. na Google em 2013, foi um dos modelos iniciais utilizados para se aprender esse tipo de representação. Apesar de já ser considerado antigo, os conceitos desenvolvidos nas primeiras publicações ainda são úteis para o desenvolvimento de modelos mais avançados.\n",
    "\n",
    "A ideia central do *word2vec* é a de que o significado de uma palavra está diretamente relacionado às palavras ao redor da mesma, ou seja, seu **contexto**. Por exemplo, podemos imaginar que as palavras que se encaixam em uma frase do tipo `hoje eu comi ___ no café da manhã` tenham uma certa proximidade de significado em alguns aspectos, e portanto possuam um grau de similaridade entre seus *embeddings*.\n",
    "\n",
    "O artigo original propõe duas arquiteturas distintas para isso: **CBOW** (Continuous Bag-of-Words) e **Skip-Gram**, sendo a imagem a seguir uma representação do esquema por trás dessas arquiteturas.\n",
    "\n",
    "<img width=600 src=\"https://github.com/ThiagoPoppe/ciag2024/blob/main/imagens/cbow_and_skipgram_scheme.png?raw=true\">\n",
    "\n",
    "Pelo esquema acima conseguimos perceber que a arquitetura CBOW recebe como entrada o conjunto de termos que formam o contexto, representados por $w(t-2) \\dots w(t+2)$, e tenta prever o termo central da sequência, no caso $w(t)$. Por outro lado, Skip-Gram tenta prever os termos do contexto com base na palavra central.\n",
    "\n",
    "> Apesar dessa diferença, o objetivo em ambos os casos é gerar os *embeddings* dos termos. Portanto o que importa para nós no final são as representações aprendidas pelo modelo durante o treinamento e armazenados como parâmetros da rede."
   ]
  },
  {
   "cell_type": "markdown",
   "id": "1cbe6096-ad13-4753-9378-35f5f0178f4b",
   "metadata": {},
   "source": [
    "### Implementação de um Word2Vec (CBOW)\n",
    "\n",
    "Começaremos definindo um texto simples para usarmos como dado, gerando um vocabulário a partir disso."
   ]
  },
  {
   "cell_type": "code",
   "execution_count": null,
   "id": "7e3cb604-45e4-4dd7-b04a-34dc204c025c",
   "metadata": {},
   "outputs": [
    {
     "name": "stdout",
     "output_type": "stream",
     "text": [
      "computer science involves algorithms data structures and computer systems design\n",
      "it covers software development programming languages and computer architecture\n",
      "computer scientists tackle problems using machine learning ai and data analysis\n",
      "they optimize algorithms process large datasets and create innovative software\n",
      "computer science drives innovation in healthcare finance and entertainment\n"
     ]
    }
   ],
   "source": [
    "raw_text = \"\"\"computer science involves algorithms data structures and computer systems design\n",
    "it covers software development programming languages and computer architecture\n",
    "computer scientists tackle problems using machine learning ai and data analysis\n",
    "they optimize algorithms process large datasets and create innovative software\n",
    "computer science drives innovation in healthcare finance and entertainment\"\"\"\n",
    "\n",
    "print(raw_text)"
   ]
  },
  {
   "cell_type": "markdown",
   "id": "c2553e13-ac8b-4498-87f7-bd97c9177de1",
   "metadata": {},
   "source": [
    "Para definir o nosso vocabulário, primeiro iremos realizar um processo de \"tokenização\" do texto definido anteriormente, onde, por simplicidade, definimos que o nosso *token* será igual à uma palavra completa. Após isso, o nosso vocabulário será definido como o conjunto de *tokens* únicos, podendo ser obtidos a partir de um `set`.\n",
    "\n",
    "> **Importante**: O *pipeline* de processamento de dados textuais pode conter diversas outras etapas além da \"tokenização\", como por exemplo a remoção de *stop words*, ou seja, palavras que são muito comuns na linguagem e que não carregam muita informação útil. Porém, para manter a simplicidade do notebook, iremos apenas realizar a etapa de \"tokenização\" do texto. Para mais informações sobre *stop words* consulte o seguinte [link](https://towardsdatascience.com/text-pre-processing-stop-words-removal-using-different-libraries-f20bac19929a), assim como esse outro [link](https://medium.com/analytics-vidhya/nlp-preprocessing-pipeline-what-when-why-2fc808899d1f) para um detalhamento maior do *pipeline* de processamento de dados em NLP."
   ]
  },
  {
   "cell_type": "code",
   "execution_count": null,
   "id": "520ca7b1-3cb7-4727-aa54-b1101b4a8c32",
   "metadata": {},
   "outputs": [
    {
     "name": "stdout",
     "output_type": "stream",
     "text": [
      "Temos um total de 37 tokens no nosso vocabulário\n"
     ]
    }
   ],
   "source": [
    "def build_vocabulary(raw_text: str):\n",
    "    lines = raw_text.split('\\n')  # trataremos cada linha de texto como uma amostra diferente\n",
    "    \n",
    "    tokenized_lines = []\n",
    "    for line in lines:\n",
    "        tokens = line.split(' ')  # processo de tokenização do texto\n",
    "        tokenized_lines.append(tokens)\n",
    "        \n",
    "    vocabulary = set()\n",
    "    for tokens in tokenized_lines:\n",
    "        vocabulary.update(set(tokens))\n",
    "    \n",
    "    return tokenized_lines, vocabulary\n",
    "\n",
    "tokenized_lines, vocabulary = build_vocabulary(raw_text)\n",
    "print(f'Temos um total de {len(vocabulary)} tokens no nosso vocabulário')"
   ]
  },
  {
   "cell_type": "markdown",
   "id": "a64acd2b-274e-4b36-9780-3d6dfac9c67b",
   "metadata": {},
   "source": [
    "Podemos então definir dicionários para mapear um índice numérico para cada termo do vocabulário, assim como retornar o termo dado um índice.\n",
    "\n",
    "> **Importante**: Não confundir esse índice numérico com a posição da palavra no texto original! Ele é apenas um mapeamento entre palavra e número.\n",
    "\n",
    "<img width=600 src=\"https://github.com/ThiagoPoppe/ciag2024/blob/main/imagens/vocabulario.png?raw=true\" />"
   ]
  },
  {
   "cell_type": "code",
   "execution_count": null,
   "id": "ce98f27c-289e-48a2-8b77-fa1889655dd5",
   "metadata": {},
   "outputs": [
    {
     "name": "stdout",
     "output_type": "stream",
     "text": [
      "Índice da palavra \"computer\" no dicionário: 27\n",
      "Palavra do índice 42 do dicionário: scientists\n"
     ]
    }
   ],
   "source": [
    "# Utilizaremos comprehension to Python para fazer um código one-liner\n",
    "word2idx = {word: idx for idx, word in enumerate(vocabulary)}\n",
    "idx2word = {idx: word for idx, word in enumerate(vocabulary)}\n",
    "\n",
    "print('Índice da palavra \"computer\" no dicionário:', word2idx['computer'])\n",
    "print('Palavra do índice 42 do dicionário:', idx2word[16])"
   ]
  },
  {
   "cell_type": "markdown",
   "id": "55d6dbe6-679e-4653-9750-406594b18ab4",
   "metadata": {},
   "source": [
    "Com isso, conseguimos definir uma função que cria tensores para um contexto contendo múltiplos termos do nosso vocabulário!"
   ]
  },
  {
   "cell_type": "code",
   "execution_count": null,
   "id": "a974b5c1-a0b6-49a1-b609-2e9e343a5683",
   "metadata": {},
   "outputs": [
    {
     "data": {
      "text/plain": [
       "tensor([27, 16,  1,  4])"
      ]
     },
     "execution_count": null,
     "metadata": {},
     "output_type": "execute_result"
    }
   ],
   "source": [
    "def make_context_tensor(context: str, word2idx: dict[str, int]):\n",
    "    tokens = context.split(' ')\n",
    "    idxs = [word2idx[token] for token in tokens]  # para cada token, iremos recuperar o seu índice numérico\n",
    "    \n",
    "    return torch.tensor(idxs, dtype=torch.long)\n",
    "\n",
    "context = 'computer scientists tackle problems'\n",
    "make_context_tensor(context, word2idx)"
   ]
  },
  {
   "cell_type": "markdown",
   "id": "205193f3-6a33-41b6-8bf0-3a6c9edb3efc",
   "metadata": {},
   "source": [
    "#### Definição de uma base de dados simples"
   ]
  },
  {
   "cell_type": "markdown",
   "id": "4ab426aa-8221-4804-91c4-a9876b62c24f",
   "metadata": {},
   "source": [
    "A partir do que foi desenvolvido até então, conseguimos definir uma base de dados simples composta por pares `(context, target)` para treinar o nosso modelo *word2vec*. Iremos percorrer o texto completo, tomando termo a termo como o alvo e as palavras ao redor como seu contexto.\n",
    "\n",
    "> Para o exemplo dessa aula, utilizaremos uma janela de 2 termos em cada direção para delimitar o contexto. É recomendável alterar essa janela e verificar a qualidade final do nosso modelo. Além disso, não estamos preocupados aqui em criar um conjunto de treino, validação e teste, mas sim de apenas entender o funcionamento de modelos *word2vec*."
   ]
  },
  {
   "cell_type": "code",
   "execution_count": null,
   "id": "0121b288-f8e1-4a83-b703-393e95244f09",
   "metadata": {},
   "outputs": [],
   "source": [
    "class EmbeddingsDataset(Dataset):\n",
    "    def __init__(self, raw_text: str, context_size: int = 2):\n",
    "        tokenized_lines, vocabulary = build_vocabulary(raw_text)\n",
    "        \n",
    "        # Definindo dicionários para mapear palavra -> número e vice-versa\n",
    "        self.word2idx = {word: idx for idx, word in enumerate(vocabulary)}\n",
    "        self.idx2word = {idx: word for idx, word in enumerate(vocabulary)}\n",
    "        \n",
    "        self.data = []\n",
    "        for tokens in tokenized_lines:\n",
    "            for i in range(context_size, len(tokens) - context_size):\n",
    "                left_words = [tokens[i-j] for j in range(1, context_size + 1)]\n",
    "                right_words = [tokens[i+j] for j in range(1, context_size + 1)]\n",
    "\n",
    "                target = tokens[i]\n",
    "                context = left_words + right_words\n",
    "                context = ' '.join(context)  # convertendo de lista para string\n",
    "\n",
    "                self.data.append((context, target))\n",
    "\n",
    "    def __len__(self):\n",
    "        return len(self.data)\n",
    "    \n",
    "    def __getitem__(self, idx: int):\n",
    "        context, target = self.data[idx]\n",
    "        context_tensor = make_context_tensor(context, self.word2idx)\n",
    "        target_tensor = torch.tensor(self.word2idx[target], dtype=torch.long)\n",
    "        \n",
    "        return context_tensor, target_tensor"
   ]
  },
  {
   "cell_type": "code",
   "execution_count": null,
   "id": "7c67e743-24fd-4c46-a7a0-3bad0f5e2d7b",
   "metadata": {},
   "outputs": [
    {
     "name": "stdout",
     "output_type": "stream",
     "text": [
      "Primeiro exemplo de treino: (tensor([ 2, 27, 17,  0]), tensor(18))\n"
     ]
    }
   ],
   "source": [
    "dataset = EmbeddingsDataset(raw_text, context_size=2)\n",
    "print('Primeiro exemplo de treino:', dataset[0])"
   ]
  },
  {
   "cell_type": "code",
   "execution_count": null,
   "id": "85caf644-e113-43f5-97a9-bfe9dce10eb9",
   "metadata": {},
   "outputs": [
    {
     "name": "stdout",
     "output_type": "stream",
     "text": [
      "Primeiro exemplo de treino: ('science computer algorithms data', 'involves')\n"
     ]
    }
   ],
   "source": [
    "# Podemos usar o dicionário idx2word para ver qual que é o contexto e palavra alvo\n",
    "context, target = dataset[0]\n",
    "\n",
    "context = [dataset.idx2word[idx.item()] for idx in context]\n",
    "context = ' '.join(context)\n",
    "\n",
    "target = dataset.idx2word[target.item()]\n",
    "\n",
    "print('Primeiro exemplo de treino:', (context, target))"
   ]
  },
  {
   "cell_type": "markdown",
   "id": "d27ccde5-4d53-4fa2-bd08-87850af92168",
   "metadata": {},
   "source": [
    "#### Definição da arquitetura\n",
    "\n",
    "A nossa arquitetura será composta por uma camada `nn.Embedding`, na qual aprenderemos as representações dos termos, seguida de algumas camadas lineares, com o propósito de realizar a previsão da palavra alvo.\n",
    "\n",
    "> A camada `nn.Embedding` é similar à uma camada `nn.Linear`, sem o termo de viés, no sentido de também ser definida como uma matriz. Porém, diferentemente da `nn.Linear`, nós não realizamos um produto matricial com a matriz produzida pela camada de *embedding*, mas sim realizamos uma operação de *lookup* na matriz, como se ela fosse uma tabela, como observado na imagem a seguir.\n",
    "\n",
    "<img width=600 src=\"https://github.com/ThiagoPoppe/ciag2024/blob/main/imagens/lookup_embedding.png?raw=true\">\n",
    "\n",
    "**Importante:** Note que na imagem acima o produto matricial do vetor de entrada com a matriz de *embeddings* dará o mesmo resultado, afinal um vetor de entrada *one-hot encoded* irá efetivamente selecionar uma linha, ou coluna, da nossa matriz. Porém, na prática ainda é preferível a utilização da camada `nn.Embedding` ao invés de uma camada `nn.Linear` com o viés desabilitado por questões de eficiência. Para mais detalhes, consulte o seguinte [link](https://medium.com/@gautam.e/what-is-nn-embedding-really-de038baadd24)."
   ]
  },
  {
   "cell_type": "code",
   "execution_count": null,
   "id": "abbe59ce-26a1-41cf-a66f-1b22de2fc335",
   "metadata": {},
   "outputs": [
    {
     "data": {
      "text/plain": [
       "torch.Size([3, 100])"
      ]
     },
     "execution_count": null,
     "metadata": {},
     "output_type": "execute_result"
    }
   ],
   "source": [
    "import torch\n",
    "import torch.nn as nn\n",
    "\n",
    "x = torch.tensor([0, 1, 2])\n",
    "embedding = nn.Embedding(10, 100)  # 10 palavras com 100 de conceito\n",
    "\n",
    "embedding(x).shape"
   ]
  },
  {
   "cell_type": "code",
   "execution_count": null,
   "id": "1fc9b2ec-1d97-47c1-a313-4f24fcabc18d",
   "metadata": {},
   "outputs": [],
   "source": [
    "class CBOW(torch.nn.Module):\n",
    "    def __init__(self, vocabulary_size: int, embedding_dim: int):\n",
    "        super().__init__()\n",
    "\n",
    "        self.embedding = nn.Embedding(vocabulary_size, embedding_dim)\n",
    "        self.linear = nn.Linear(embedding_dim, vocabulary_size)\n",
    "        self.softmax = nn.LogSoftmax(dim=-1)\n",
    "\n",
    "    def forward(self, x: torch.Tensor):\n",
    "        embeds = self.embedding(x)\n",
    "        embeds = torch.sum(embeds, dim=1)  # agregando os embeddings (informação coletiva do contexto)\n",
    "        \n",
    "        out = self.linear(embeds)\n",
    "        out = self.softmax(out)\n",
    "        return out"
   ]
  },
  {
   "cell_type": "markdown",
   "id": "9925495b-eb66-4302-a1bc-9c63c7271b2a",
   "metadata": {},
   "source": [
    "#### Treinamento do modelo\n",
    "\n",
    "Como estamos utilizando uma camada de `LogSoftmax` no final da nossa rede, temos que utilizar a função de perda `NLLLoss` ao invés da `CrossEntropyLoss`, já que a primeira espera que a saída do modelo sejam **log-probabilidades** ao invés de **logits** (saídas não ativadas), como esperado pela segunda função de perda."
   ]
  },
  {
   "cell_type": "code",
   "execution_count": null,
   "id": "3af9f495-fa14-4684-82f4-badb7f89cc5b",
   "metadata": {},
   "outputs": [
    {
     "name": "stdout",
     "output_type": "stream",
     "text": [
      "Epoch 5/50 => mean loss: 3.94224\n",
      "Epoch 10/50 => mean loss: 3.44696\n",
      "Epoch 15/50 => mean loss: 2.87808\n",
      "Epoch 20/50 => mean loss: 2.63433\n",
      "Epoch 25/50 => mean loss: 2.31419\n",
      "Epoch 30/50 => mean loss: 2.17191\n",
      "Epoch 35/50 => mean loss: 1.86273\n",
      "Epoch 40/50 => mean loss: 1.70653\n",
      "Epoch 45/50 => mean loss: 1.36898\n",
      "Epoch 50/50 => mean loss: 1.33278\n"
     ]
    }
   ],
   "source": [
    "batch_size = 4\n",
    "num_epochs = 50\n",
    "learning_rate = 0.001\n",
    "\n",
    "dataset = EmbeddingsDataset(raw_text, context_size=2)\n",
    "dataloader = DataLoader(dataset, batch_size=batch_size, shuffle=True)\n",
    "\n",
    "embedding_dim = 16\n",
    "model = CBOW(len(vocabulary), embedding_dim)\n",
    "model = model.to(device)\n",
    "\n",
    "criterion = nn.NLLLoss()  # negative log-likelihood\n",
    "optimizer = optim.Adam(model.parameters(), lr=learning_rate)\n",
    "\n",
    "for epoch in range(num_epochs):\n",
    "    epoch_loss = 0\n",
    "\n",
    "    for context, target in dataloader:        \n",
    "        context = context.to(device)\n",
    "        target = target.to(device)\n",
    "        \n",
    "        outputs = model(context)        \n",
    "        loss = criterion(outputs, target)\n",
    "        epoch_loss += loss\n",
    "        \n",
    "        optimizer.zero_grad()\n",
    "        loss.backward()\n",
    "        optimizer.step()\n",
    "        \n",
    "    if (epoch + 1) % 5 == 0:\n",
    "        mean_loss = epoch_loss / len(dataloader)\n",
    "        print(f'Epoch {epoch + 1}/{num_epochs} => mean loss: {mean_loss:.5f}')"
   ]
  },
  {
   "cell_type": "markdown",
   "id": "acbb70ff-6666-4574-9309-02ab624859da",
   "metadata": {},
   "source": [
    "Agora podemos testar a rede, fornecendo um contexto e verificando qual palavra o modelo prevê como termo central!"
   ]
  },
  {
   "cell_type": "code",
   "execution_count": null,
   "id": "60880e5c-2a56-4c1a-88d0-8a057d822e3e",
   "metadata": {},
   "outputs": [
    {
     "name": "stdout",
     "output_type": "stream",
     "text": [
      "Contexto: optimize algorithms large datasets\n",
      "Predição: and\n"
     ]
    }
   ],
   "source": [
    "context = 'optimize algorithms large datasets'\n",
    "context_vector = make_context_tensor(context, dataset.word2idx)\n",
    "\n",
    "# Convertendo para executar no dispositivo correto e adicionando batch size\n",
    "context_vector = context_vector.to(device)\n",
    "context_vector = context_vector.unsqueeze(dim=0)\n",
    "\n",
    "outputs = model(context_vector)\n",
    "print(f'Contexto:', context)\n",
    "print(f'Predição:', dataset.idx2word[torch.argmax(outputs[0]).item()])"
   ]
  },
  {
   "cell_type": "markdown",
   "id": "713849b6-b536-4cf6-be22-40a76981fcb8",
   "metadata": {},
   "source": [
    "- Além disso conseguimos visualizar o *embedding* gerado para a predição do modelo!"
   ]
  },
  {
   "cell_type": "code",
   "execution_count": null,
   "id": "166387db-fead-4d6c-a323-c9fc51465606",
   "metadata": {},
   "outputs": [
    {
     "data": {
      "image/png": "[encoded data removed]",
      "text/plain": [
       "<Figure size 1600x200 with 2 Axes>"
      ]
     },
     "metadata": {},
     "output_type": "display_data"
    }
   ],
   "source": [
    "word = torch.LongTensor([torch.argmax(outputs[0])]).to(device)\n",
    "embedded_word = model.embedding(word)\n",
    "\n",
    "plt.matshow(embedded_word.detach().cpu().numpy(), aspect='auto')\n",
    "plt.colorbar()\n",
    "plt.show()"
   ]
  },
  {
   "cell_type": "markdown",
   "id": "bf4b10b1-2cf5-4418-8200-550ec0e0ae1c",
   "metadata": {},
   "source": [
    "- Também podemos realizar uma visualização do espaço latente produzido pela camada de *embedding* do nosso `word2vec`. Para isso, realizaremos um PCA para recuperar os 2 componentes principais do vetor de *embedding* e visualizar esse espaço em 2D."
   ]
  },
  {
   "cell_type": "code",
   "execution_count": null,
   "id": "79d8bf43-0dc2-4886-bf97-f7c289bf2a71",
   "metadata": {},
   "outputs": [
    {
     "name": "stdout",
     "output_type": "stream",
     "text": [
      "Dimensão dos dados: (37, 16)\n"
     ]
    }
   ],
   "source": [
    "words = []\n",
    "\n",
    "for token in vocabulary:\n",
    "    word = torch.LongTensor([dataset.word2idx[token]]).to(device)\n",
    "    embedded_word = model.embedding(word)\n",
    "    embedded_word = embedded_word.squeeze()  # removendo dimensões unitárias\n",
    "    embedded_word = embedded_word.detach().cpu().numpy()  # convertendo para numpy na cpu\n",
    "    \n",
    "    words.append(embedded_word)\n",
    "    \n",
    "words = np.array(words)\n",
    "print('Dimensão dos dados:', words.shape)"
   ]
  },
  {
   "cell_type": "code",
   "execution_count": null,
   "id": "9bce674c-bd7f-4908-a80f-20171e835e5e",
   "metadata": {},
   "outputs": [],
   "source": [
    "from sklearn.decomposition import PCA\n",
    "\n",
    "pca = PCA(n_components=2)\n",
    "components = pca.fit_transform(words)"
   ]
  },
  {
   "cell_type": "code",
   "execution_count": null,
   "id": "5be435ac-c5fb-4aa8-a571-34b0e3e37f34",
   "metadata": {},
   "outputs": [
    {
     "data": {
      "image/png": "[encoded data removed]",
      "text/plain": [
       "<Figure size 1000x800 with 1 Axes>"
      ]
     },
     "metadata": {},
     "output_type": "display_data"
    }
   ],
   "source": [
    "fig, ax = plt.subplots(figsize=(10, 8))\n",
    "ax.scatter(components[:, 0], components[:, 1])\n",
    "\n",
    "for i, token in enumerate(vocabulary):\n",
    "    ax.annotate(token, (components[i, 0], components[i, 1]))"
   ]
  },
  {
   "cell_type": "code",
   "execution_count": null,
   "id": "27a98d84-1711-4ed2-9177-2ecb0f0d73c8",
   "metadata": {},
   "outputs": [],
   "source": []
  }
 ],
 "metadata": {
  "kernelspec": {
   "display_name": "python3",
   "language": "python",
   "name": "python3"
  }
 },
 "nbformat": 4,
 "nbformat_minor": 5
}
