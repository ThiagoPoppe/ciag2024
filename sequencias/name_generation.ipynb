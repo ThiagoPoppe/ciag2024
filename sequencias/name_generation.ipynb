{
 "cells": [
  {
   "cell_type": "markdown",
   "id": "65d726cc",
   "metadata": {},
   "source": [
    "# Sequências - Aula Prática 02/04\n",
    "## RNNs (Recurrent Neural Networks)\n",
    "\n",
    "Neste notebook iremos continuar nossos estudos de redes neurais recorrentes (RNNs), trabalhando dessa vez com geração de nomes a nível de caractere, utilizando os mesmos dados do notebook `name_classification.ipynb`.\n",
    "\n",
    "> Em mais detalhes, dado um *idioma*, queremos construir uma rede (*language model*) para gerar um *nome* que possui características dos nomes originários daquele idioma.\n",
    "\n",
    "- Esse notebook foi fortemente inspirado no segundo tutorial da série [NLP From Scratch](https://pytorch.org/tutorials/intermediate/char_rnn_generation_tutorial.html), disponibilizado no site do PyTorch."
   ]
  },
  {
   "cell_type": "markdown",
   "id": "071c310f",
   "metadata": {},
   "source": [
    "## Importação de pacotes"
   ]
  },
  {
   "cell_type": "code",
   "execution_count": 5,
   "id": "2f2a1662",
   "metadata": {},
   "outputs": [],
   "source": [
    "import torch\n",
    "import random\n",
    "import unicodedata\n",
    "\n",
    "import numpy as np\n",
    "import torch.nn as nn\n",
    "import torch.optim as optim\n",
    "\n",
    "import matplotlib.pyplot as plt\n",
    "\n",
    "from glob import glob\n",
    "from tqdm.notebook import tqdm\n",
    "from collections import defaultdict"
   ]
  },
  {
   "cell_type": "code",
   "execution_count": 6,
   "id": "795b6b30-6d1a-4b86-b15f-67e02560c004",
   "metadata": {},
   "outputs": [
    {
     "name": "stdout",
     "output_type": "stream",
     "text": [
      "Device escolhido: cuda\n"
     ]
    }
   ],
   "source": [
    "# Verificando se temos CUDA disponível e selecionando o device que será utilizado\n",
    "device = torch.device('cuda' if torch.cuda.is_available() else 'cpu')\n",
    "print('Device escolhido:', device)"
   ]
  },
  {
   "cell_type": "markdown",
   "id": "4cefc1bd-91a1-4c01-a1df-8cb2c1ccc31a",
   "metadata": {},
   "source": [
    "## Processamento da base de dados\n",
    "\n",
    "Como mencionado no ínicio do notebook, iremos trabalhar com os mesmos dados vistos no notebook `name_classification.ipynb`. Porém, dessa vez, iremos trocar o que será entrada e saída do nosso modelo. No notebook anterior, tinhamos como entrada um nome (sequência) e como saída um idioma. Dessa vez, queremos admitir como entrada um idioma e *gerar* uma nome letra por letra.\n",
    "\n",
    "Durante esse notebook, iremos trabalhar com os dados localizados na pasta `../data/names/`. Nela, você verá 18 arquivos `.txt` separados por países, onde cada arquivo contém uma lista de nomes originários daquele país.\n",
    "\n",
    "> Para esse notebook, iremos processar os dados de maneira similar, criando um dicionário que mapeia `linguagem -> lista de nomes` e também definindo a função `unicode2ascii` para remover caracteres especiais de idiomas específicos."
   ]
  },
  {
   "cell_type": "code",
   "execution_count": 7,
   "id": "b0cf3876-c2ee-46ec-8e7e-25d2407202e4",
   "metadata": {},
   "outputs": [
    {
     "data": {
      "text/plain": [
       "['../data/names/Arabic.txt',\n",
       " '../data/names/Chinese.txt',\n",
       " '../data/names/Czech.txt',\n",
       " '../data/names/Dutch.txt',\n",
       " '../data/names/English.txt',\n",
       " '../data/names/French.txt',\n",
       " '../data/names/German.txt',\n",
       " '../data/names/Greek.txt',\n",
       " '../data/names/Irish.txt',\n",
       " '../data/names/Italian.txt',\n",
       " '../data/names/Japanese.txt',\n",
       " '../data/names/Korean.txt',\n",
       " '../data/names/Polish.txt',\n",
       " '../data/names/Portuguese.txt',\n",
       " '../data/names/Russian.txt',\n",
       " '../data/names/Scottish.txt',\n",
       " '../data/names/Spanish.txt',\n",
       " '../data/names/Vietnamese.txt']"
      ]
     },
     "execution_count": 7,
     "metadata": {},
     "output_type": "execute_result"
    }
   ],
   "source": [
    "filepaths = glob('../data/names/*.txt')  # * aqui quer dizer \"qualquer string\"\n",
    "filepaths"
   ]
  },
  {
   "cell_type": "code",
   "execution_count": 8,
   "id": "3b08b11f-e3ff-4a75-9f06-c958a18ad791",
   "metadata": {},
   "outputs": [
    {
     "name": "stdout",
     "output_type": "stream",
     "text": [
      "Primeiro filepath: ../data/names/Arabic.txt\n",
      "Linguagem do primeiro filepath: Arabic\n"
     ]
    }
   ],
   "source": [
    "def get_language(filepath):\n",
    "    filename = filepath.split('/')[-1]\n",
    "    language = filename.split('.')[0]\n",
    "\n",
    "    return language\n",
    "\n",
    "print('Primeiro filepath:', filepaths[0])\n",
    "print('Linguagem do primeiro filepath:', get_language(filepaths[0]))"
   ]
  },
  {
   "cell_type": "code",
   "execution_count": 9,
   "id": "c8a8148e-7955-4599-b63f-c297e9ec2a70",
   "metadata": {},
   "outputs": [
    {
     "name": "stdout",
     "output_type": "stream",
     "text": [
      "5 primeiros nomes em árabe: ['Khoury', 'Nahas', 'Daher', 'Gerges', 'Nazari']\n",
      "Línguas disponíveis no conjunto de dados: ['Arabic', 'Chinese', 'Czech', 'Dutch', 'English', 'French', 'German', 'Greek', 'Irish', 'Italian', 'Japanese', 'Korean', 'Polish', 'Portuguese', 'Russian', 'Scottish', 'Spanish', 'Vietnamese']\n"
     ]
    }
   ],
   "source": [
    "languages = [] \n",
    "language_names = defaultdict(list)\n",
    "\n",
    "for filepath in filepaths:\n",
    "    language = get_language(filepath)\n",
    "    languages.append(language)\n",
    "    \n",
    "    with open(filepath, 'r') as fp:\n",
    "        lines = fp.readlines()\n",
    "\n",
    "        for line in lines:\n",
    "            line = line.strip()\n",
    "            language_names[language].append(line)\n",
    "\n",
    "print('5 primeiros nomes em árabe:', language_names['Arabic'][:5])\n",
    "print('Línguas disponíveis no conjunto de dados:', languages)"
   ]
  },
  {
   "cell_type": "markdown",
   "id": "03f13f06-6612-4da5-96e7-01c0c9c761b1",
   "metadata": {},
   "source": [
    "Aqui definimos a função `unicode2ascii`, exemplificando com o nome Como estamos trabalhando com palavras de linguagens que possuem caracteres especiais em seus nomes, como por exemplo: `Ślusàrski`."
   ]
  },
  {
   "cell_type": "code",
   "execution_count": 10,
   "id": "1b5e328c-5fe4-4788-887e-ec3d67619487",
   "metadata": {},
   "outputs": [
    {
     "name": "stdout",
     "output_type": "stream",
     "text": [
      "Temos 82 letras distintas na nossa base de dados\n"
     ]
    }
   ],
   "source": [
    "all_letters = set()\n",
    "\n",
    "for names in language_names.values():\n",
    "    for name in names:\n",
    "        for letter in name:\n",
    "            all_letters.add(letter)\n",
    "\n",
    "print(f'Temos {len(all_letters)} letras distintas na nossa base de dados')"
   ]
  },
  {
   "cell_type": "code",
   "execution_count": 11,
   "id": "3eb7690b-f556-4b3f-8af3-f549d92ba7e7",
   "metadata": {},
   "outputs": [
    {
     "name": "stdout",
     "output_type": "stream",
     "text": [
      "Conversão do nome Ślusàrski para ASCII: Slusarski\n"
     ]
    }
   ],
   "source": [
    "def unicode2ascii(s):\n",
    "    return ''.join(\n",
    "        c for c in unicodedata.normalize('NFD', s)\n",
    "        if unicodedata.category(c) != 'Mn'\n",
    "        and c in all_letters\n",
    "    )\n",
    "\n",
    "print('Conversão do nome Ślusàrski para ASCII:', unicode2ascii('Ślusàrski'))"
   ]
  },
  {
   "cell_type": "markdown",
   "id": "ba280ce7-abf7-4cb7-b3be-d9fa49f28952",
   "metadata": {},
   "source": [
    "Seguindo as ideias trabalhadas em notebooks passados, precisamos criar um mapeamento entre *tokens* e índices. No nosso caso, o *token* é uma letra do nosso alfabeto. Para isso, iremos construir nosso alfabeto (vocabulário), com base nas letras únicas de todos os nomes da base de dados, e, posteriormente, iremos criar 2 estruturas para realizar tal mapeamento: `letter2index` e `index2letter`.\n",
    "\n",
    "> Além dos *tokens* obtidos através do texto, é muito comum vermos também outros 3 *tokens* especiais:\n",
    "> - **\\<sos\\>**: abreviação para *start-of-sequence*, ou início de sentença.\n",
    "> - **\\<eos\\>**: abreviação para *end-of-sequence*, ou fim de sentença.\n",
    "> - **\\<pad\\>**: *token* especial destinado para indicar um valor de *pad* na nossa sequência.\n",
    "\n",
    "- Diferentemente do notebook anterior, os *tokens* de **\\<sos\\>** e **\\<eos\\>** serão úteis, uma vez que eles são utilizados em contextos de geração de sentenças. O token **\\<pad\\>** ainda não será utilizado, uma vez que ainda não trabalharemos com *batches* por enquanto."
   ]
  },
  {
   "cell_type": "code",
   "execution_count": 12,
   "id": "81434dc8-70a4-4f14-bca3-ddfa27ae1d98",
   "metadata": {},
   "outputs": [
    {
     "name": "stdout",
     "output_type": "stream",
     "text": [
      "Tamanho do alfabeto: 59\n",
      "5 tokens aleatórios do alfabeto: [\"'\", 'E', 'V', 'R', 'E']\n"
     ]
    }
   ],
   "source": [
    "vocabulary = []\n",
    "\n",
    "# Adicionando os tokens especiais <sos> e <eos>\n",
    "vocabulary.append('<sos>')\n",
    "vocabulary.append('<eos>')\n",
    "\n",
    "for letter in all_letters:\n",
    "    letter = unicode2ascii(letter)\n",
    "    if letter not in vocabulary:\n",
    "        vocabulary.append(letter)\n",
    "\n",
    "print('Tamanho do alfabeto:', len(vocabulary))\n",
    "print('5 tokens aleatórios do alfabeto:', random.choices(vocabulary, k=5))"
   ]
  },
  {
   "cell_type": "code",
   "execution_count": 13,
   "id": "8d38da7e-5302-4d5d-bf54-27531a9dfc45",
   "metadata": {},
   "outputs": [
    {
     "name": "stdout",
     "output_type": "stream",
     "text": [
      "Token de índice 42: p\n",
      "Índice do token \"<sos>\": 0\n",
      "Índice do token \"<eos>\": 1\n"
     ]
    }
   ],
   "source": [
    "index2letter = []\n",
    "letter2index = {}\n",
    "\n",
    "for token_idx, token in enumerate(vocabulary):\n",
    "    index2letter.append(token)\n",
    "    letter2index[token] = token_idx\n",
    "\n",
    "print('Token de índice 42:', index2letter[42])\n",
    "print('Índice do token \"<sos>\":', letter2index['<sos>'])\n",
    "print('Índice do token \"<eos>\":', letter2index['<eos>'])"
   ]
  },
  {
   "cell_type": "markdown",
   "id": "e73199e9-979e-407f-9716-fec5315ea64a",
   "metadata": {},
   "source": [
    "Agora que temos as estruturas `index2letter` e `letter2index` bem definidas, conseguimos converter um nome em um tensor de índices numéricos através da função `name2tensor`, como demonstrado a seguir.\n",
    "\n",
    "> **Observação 1:** Criaremos um tensor de tamanho $n \\times 1$, onde $n$ é o tamanho do nome e $1$ o tamanho do nosso *batch*. Para esse notebook, nós não iremos trabalhar com `batch_size > 1`, devido à complicações relacionadas com manipulação de sequências e *padding*. Deixaremos tais assuntos para serem abordados no notebook de `seq2seq`.\n",
    ">\n",
    "> **Observação 2:** Como estamos trabalhando com geração de sequências, iremos também colocar na codificação do nome os token de começo de sentença (`<sos>`) e fim de sentença (`<eos>`).\n",
    "\n",
    "- Optamos por trocar a ordem padrão das dimensões dos dados em PyTorch, ou seja, com o tamanho do *batch* no começo, para facilitar operações em sequências no futuro, como utilizar `len` para obter o tamanho da sequência e tornar a indexação mais fácil. Na verdade, especificamente para sequências, PyTorch nos dá a opção de colocar o tamanho do *batch* como primeira dimensão do nosso tensor ou na segunda, sendo a primeira o tamanho da nossa sequência. Veremos isso em mais detalhes quando trabalharmos com os modelos recorrentes implementados pelo PyTorch."
   ]
  },
  {
   "cell_type": "code",
   "execution_count": 14,
   "id": "15d18b1c-b76f-4032-b7a7-9c5c74a28644",
   "metadata": {},
   "outputs": [
    {
     "name": "stdout",
     "output_type": "stream",
     "text": [
      "Tensor para o nome Jonas: tensor([[ 0, 40,  6, 13,  9, 56,  1]])\n"
     ]
    }
   ],
   "source": [
    "def name2tensor(name):\n",
    "    tensor = torch.zeros((2 + len(name), 1), dtype=torch.long)\n",
    "    \n",
    "    # Adicionando os tokens de início e fim de sentença\n",
    "    tensor[0] = letter2index['<sos>']\n",
    "    tensor[-1] = letter2index['<eos>']\n",
    "    \n",
    "    for idx, letter in enumerate(name):\n",
    "        tensor[idx+1] = letter2index[letter]\n",
    "\n",
    "    return tensor\n",
    "\n",
    "name = 'Jonas'\n",
    "print(f'Tensor para o nome {name}: {name2tensor(name).T}')  # transposição para fins de print"
   ]
  },
  {
   "cell_type": "markdown",
   "id": "f2462d5c-c8cc-4d34-821f-ece8d2921fbb",
   "metadata": {},
   "source": [
    "Para finalizar essa parte do notebook sobre dados, iremos criar uma função auxiliar `get_random_pair` para selecionar de forma aleatória um par `(idioma, nome)` da nossa base dados. Além disso, tal função irá retornar os tensores relacionados com cada componente do par.\n",
    "\n",
    "- Por ora não iremos nos preocupar com a separação entre conjuntos de treino, validação e teste. O objetivo desse notebook é de ensinar como trabalhamos do zero com geração de sequências."
   ]
  },
  {
   "cell_type": "code",
   "execution_count": 27,
   "id": "6bc1a934-7161-46b9-a70d-f55cf23a169c",
   "metadata": {},
   "outputs": [],
   "source": [
    "def language2tensor(language):\n",
    "    return torch.tensor([languages.index(language)], dtype=torch.long)\n",
    "\n",
    "def get_random_pair():\n",
    "    language = random.choice(languages)\n",
    "    name = random.choice(language_names[language])\n",
    "\n",
    "    name = unicode2ascii(name)\n",
    "    name_tensor = name2tensor(name)\n",
    "    language_tensor = language2tensor(language)\n",
    "\n",
    "    return name, language, name_tensor, language_tensor"
   ]
  },
  {
   "cell_type": "code",
   "execution_count": 28,
   "id": "0e2952b4-92b5-4498-964c-4fea70809a25",
   "metadata": {},
   "outputs": [
    {
     "name": "stdout",
     "output_type": "stream",
     "text": [
      "Par selecionado: ('Campana', 'Italian')\n",
      "Tensor do nome: (tensor([[ 0, 22,  9,  8, 42,  9, 13,  9,  1]]), tensor([9]))\n"
     ]
    }
   ],
   "source": [
    "name, language, name_tensor, language_tensor = get_random_pair()\n",
    "\n",
    "print('Par selecionado:', (name, language))\n",
    "print('Tensores do par:', (name_tensor.T, language_tensor))"
   ]
  },
  {
   "cell_type": "markdown",
   "id": "3a537a31-45bf-4756-96ff-89ff322cc3d0",
   "metadata": {},
   "source": [
    "## Definição do nosso modelo\n",
    "\n",
    "Como já tratamos a implementação de uma RNN do zero no notebook anterior, iremos utilizar o módulo `nn.RNN` disponibilizado pelo PyTorch. Uma documentação mais extensiva desse módulo pode ser encontrada [aqui](https://pytorch.org/docs/stable/generated/torch.nn.RNN.html#rnn). Não iremos utilizar todos os parâmetros customizáveis do módulo, mas iremos explicar eles aqui brevemente.\n",
    "\n",
    "- **`input_size`**: o número de *features* da entrada, no nosso caso por exemplo o tamanho da dimensão de *embedding*.\n",
    "- **`hidden_size`**: o tamanho do estado oculto ($h$) que utilizaremos.\n",
    "- **`num_layers`**: número de camadas recorrentes que iremos \"empilhar\".\n",
    "- **`nonlinearity`**: a camada de ativação não linear utilizado ao longo da recorrência.\n",
    "- **`bias`**: valor *booleano* indicando se queremos ou não utilizar viés nas camadas.\n",
    "- **`batch_first`**: valor *booleano* que permite a gente indicar se queremos trabalhar com dados onde a primeira dimensão é o tamanho do *batch*, nesse caso `batch_first=True`, ou o tamanho da sequência.\n",
    "- **`dropout`**: introduz *dropout* em cada saída da camada recorrente (usado com `num_layers != 1`).\n",
    "- **`bidirectional`**: valor *booleano* que indica se queremos um modelo recorrente bidirecional.\n",
    "\n",
    "Logo abaixo temos um exemplo de utilização do módulo `nn.RNN`. Suponha que após aplicarmos o embedding, nós tenhamos a matriz `X`, cujas dimensões são: $S \\times 1 \\times E$, onde $S$ é o tamanho da sequência e $E$ o tamanho do embedding escolhido.\n",
    "\n",
    "> Para esse exemplo utilizamos: $S = 4$, $E = 2$, $h = 8$."
   ]
  },
  {
   "cell_type": "code",
   "execution_count": 17,
   "id": "9da632ad-a1d3-48e1-9ab8-232bd4f350fb",
   "metadata": {},
   "outputs": [
    {
     "name": "stdout",
     "output_type": "stream",
     "text": [
      "Tamanho do output final: torch.Size([1, 8])\n",
      "Tamanho do hidden final: torch.Size([1, 8])\n"
     ]
    }
   ],
   "source": [
    "seq_length = 4\n",
    "embedding_size = 2\n",
    "X = torch.rand(seq_length, 1, embedding_size)  # definindo uma matriz X aleatória apenas para exemplo\n",
    "\n",
    "hidden_size = 8\n",
    "model = nn.RNN(embedding_size, hidden_size, batch_first=False)\n",
    "\n",
    "hidden = None  # nn.RNN irá selecionar h0 como sendo zeros\n",
    "for Xt in X:\n",
    "    outputs, hidden = model(Xt, hidden)\n",
    "\n",
    "print('Tamanho do output final:', outputs.shape)\n",
    "print('Tamanho do hidden final:', hidden.shape)"
   ]
  },
  {
   "cell_type": "markdown",
   "id": "03679a81-9ad7-4a5e-8373-efcebccbf62c",
   "metadata": {},
   "source": [
    "Como iremos trabalhar com geração de texto, **condicionando** a geração de nomes a partir de um idioma específico, a entrada do nosso modelo no tempo $t$ será a concatenação do *embedding* do *token* atual com o do idioma selecionado. Para isso, teremos dois *embeddings* diferentes: um para a transformação do idioma; e outro para transformação do *token*.\n",
    "\n",
    "Um diagrama do esquema de geração pode ser visto a seguir, note que a nossa arquitetura possui uma modelagem autorregressiva, ou seja, a predição do tempo o $t$ depende das predições do tempo $t-1$, e assim por diante. Nele, o símbolo `&` representa o operador de concatenação das entradas.\n",
    "\n",
    "> A geração da sentença será finalizada quando o modelo prever um *token* de fim de sentença ou quando atingirmos um tamanho predeterminado, forçando assim a adição de um `<eos>` no final da predição.\n",
    "\n",
    "![](../imagens/rnn_autorregressivo.png)"
   ]
  },
  {
   "cell_type": "code",
   "execution_count": 36,
   "id": "e30b8ceb-fdd1-4c1e-b532-eca48a07befb",
   "metadata": {},
   "outputs": [],
   "source": [
    "class NameGenerationModel(nn.Module):\n",
    "    def __init__(self, vocab_size, num_languages, embedding_size, hidden_size):\n",
    "        super().__init__()\n",
    "\n",
    "        self.letter_embedding = nn.Embedding(vocab_size, embedding_size)\n",
    "        self.language_embedding = nn.Embedding(num_languages, embedding_size)\n",
    "\n",
    "        self.rnn = nn.RNN(2 * embedding_size, hidden_size, batch_first=False)\n",
    "        self.classifier = nn.Sequential(\n",
    "            nn.Linear(hidden_size, vocab_size),\n",
    "            nn.LogSoftmax(dim=-1)\n",
    "        )\n",
    "\n",
    "    def forward(self, x, language, hidden = None):\n",
    "        x = self.letter_embedding(x)\n",
    "        language = self.language_embedding(language)\n",
    "        combined = torch.cat([x, language], dim=-1)  # iremos concatenar ao longo das features\n",
    "\n",
    "        output, hidden = self.rnn(combined, hidden)\n",
    "        output = self.classifier(output)\n",
    "\n",
    "        return output, hidden"
   ]
  },
  {
   "cell_type": "markdown",
   "id": "3959eb62-da34-44f4-adb4-26135c74b472",
   "metadata": {},
   "source": [
    "Exemplo da utilização da rede para o tempo $t = 0$."
   ]
  },
  {
   "cell_type": "code",
   "execution_count": 43,
   "id": "d276d5d1-60fa-4887-932d-62d8c406d8b9",
   "metadata": {},
   "outputs": [
    {
     "name": "stdout",
     "output_type": "stream",
     "text": [
      "Saída do modelo: tensor([[-4.5177, -4.2016, -4.4384, -4.0774, -3.9993, -4.0990, -4.2623, -4.1629,\n",
      "         -3.7792, -4.0087, -4.1394, -4.2523, -4.3361, -4.3041, -4.3803, -4.1024,\n",
      "         -3.9614, -4.7927, -4.1533, -4.0049, -4.6599, -4.2513, -3.9758, -4.1205,\n",
      "         -3.6877, -4.1299, -4.1055, -3.9044, -3.7228, -3.7072, -3.9234, -3.9629,\n",
      "         -4.1653, -3.6023, -4.1496, -4.0048, -4.2429, -3.7834, -4.6581, -3.9871,\n",
      "         -4.3556, -4.0841, -4.4248, -4.1736, -3.7773, -3.8366, -3.9824, -4.5761,\n",
      "         -4.0504, -3.6743, -4.1786, -4.2883, -4.0161, -4.0216, -3.6937, -3.7759,\n",
      "         -4.5024, -4.0940, -4.3389]], grad_fn=<LogSoftmaxBackward0>)\n",
      "\n",
      "Estado oculto: tensor([[-0.2875,  0.5623, -0.2972,  0.3262,  0.4688, -0.3858,  0.2979, -0.3852,\n",
      "         -0.6292,  0.7268,  0.5689,  0.7798,  0.3796, -0.1676,  0.6587, -0.1224,\n",
      "         -0.8674,  0.5500, -0.8282,  0.6255, -0.7207,  0.5174,  0.2675, -0.2863,\n",
      "          0.5848,  0.2805, -0.4488, -0.2006,  0.5284,  0.4336,  0.3547, -0.7055]],\n",
      "       grad_fn=<SqueezeBackward1>)\n",
      "\n",
      "Próximo token previsto: y\n"
     ]
    }
   ],
   "source": [
    "token = '<sos>'\n",
    "language = 'Portuguese'\n",
    "\n",
    "token_tensor = torch.tensor([letter2index[token]], dtype=torch.long)\n",
    "language_tensor = language2tensor(language)\n",
    "\n",
    "model = NameGenerationModel(len(vocabulary), len(languages), embedding_size=16, hidden_size=32)\n",
    "output, hidden = model(token_tensor, language_tensor)\n",
    "\n",
    "print('Saída do modelo:', output)\n",
    "print('\\nEstado oculto:', hidden)\n",
    "\n",
    "next_token = output.argmax()\n",
    "print('\\nPróximo token previsto:', index2letter[next_token])"
   ]
  },
  {
   "cell_type": "markdown",
   "id": "d22bc3e3-237a-4bfd-b882-c1ce63eefe94",
   "metadata": {},
   "source": [
    "## Treinamento do modelo\n",
    "\n",
    "Para o treinamento do modelo generativo, iremos introduzir um novo conceito conhecido como *teacher forcing*, uma estratégia de treinamento de geração de sequências para acelerar a convergência do modelo e garantir estabilidade ao longo do treinamento. A estratégia consiste em utilizar como entrada para o tempo $t$ o *token* real do tempo $t-1$ ao invés da predição do modelo.\n",
    "\n",
    "À primeira vista, essa estratégia pode parecer \"roubada\". Porém, temos que lembrar que o predição do modelo no tempo $t$ é dada pelo *ground truth* do tempo $t-1$ e o estado oculto do modelo que foi atualizado utilizando os *ground truths* do tempo $1$ até $t-2$. Ou seja, o modelo ainda está aprendendo os padrões linguísticos da sentença que lhe foi apresentada, mesmo não usando as suas próprias predições. Uma analogia interessante que podemos fazer com *teacher forcing* é quando vamos fazer uma prova onde a questão **d)** depende da resposta correta da questão **c)** e assim por diante. Se errarmos a questão **a)**, estaremos correndo o risco de errar todas as questões seguintes, mesmo realizando os cálculos corretos. Porém, se no começo de cada questão nós começarmos com a resposta correta da anterior, conseguimos acertar algumas coisas.\n",
    "\n",
    "> **Importante:** Durante a geração de sentenças fora do treino, utilizaremos as predições do modelo ao invés do *ground truth* da sentença, uma vez que tal informação não está disponível. Sendo assim, é esperado observar uma discrepância da performance do modelo. Isso é conhecido na literatura como *exposure bias*, e uma forma simples de mitigar esse efeito é de utilizar *teacher forcing* de maneira probabilística, reduzindo a probabilidade de uso a medida que o modelo prevê novos *tokens* da sentença. Outra estratégia interessante pode ser lida no seguinte [artigo](https://arxiv.org/pdf/2103.11603.pdf), onde os autores propõem fornecer para o modelo um conjunto de palavras similares preditas no passo $t-1$ ao invés de um único *ground truth*.\n",
    "\n",
    "- Apenas para relembrar: Como o nosso modelo recorrente possui como última camada uma `LogSoftmax`, iremos utilizar a função de perda `nn.NLLLoss` (*negative log-likelihood*), que espera log-probabilidades como saída da rede. Um fato curioso é que `nn.CrossEntropyLoss = LogSoftmax + nn.NLLLoss`, segundo a própria [documentação](https://pytorch.org/docs/stable/generated/torch.nn.CrossEntropyLoss.html) da `nn.CrossEntropyLoss`."
   ]
  },
  {
   "cell_type": "code",
   "execution_count": 45,
   "id": "75adf7a2-7798-46fa-9861-ec84388ec1e1",
   "metadata": {},
   "outputs": [],
   "source": [
    "model = NameGenerationModel(len(vocabulary), len(languages), embedding_size=64, hidden_size=128)\n",
    "model = model.to(device)\n",
    "\n",
    "criterion = nn.NLLLoss()\n",
    "optimizer = optim.Adam(model.parameters(), lr=0.0005)\n",
    "\n",
    "loss_interval = 1000  # intervalo para salvar a loss média\n",
    "print_interval = 5000  # intervalo para exibir performance da rede\n",
    "num_iterations = 100000\n",
    "\n",
    "# Variáveis para manter o valor da loss ao longo das épocas\n",
    "all_losses = []\n",
    "average_loss = 0"
   ]
  },
  {
   "cell_type": "markdown",
   "id": "21eece3d-8461-413e-ac80-27b5461a714f",
   "metadata": {},
   "source": [
    "Algo a se notar aqui é que ao invés de usarmos a última saída da rede para calcular a função de custo, como no caso da classificação de nomes, estaremos realizando uma predição a cada instante de tempo. Logo, precisaremos calcular a função de custo para cada predição.\n",
    "\n",
    "Para lidar com isso, o `autograd` do PyTorch permite você apenas somar todos os valores das funções de custo em cada instante de tempo e depois chamar `.backward()` no fim."
   ]
  },
  {
   "cell_type": "code",
   "execution_count": 47,
   "id": "c35d9fc1-4995-463e-8684-789e43032da1",
   "metadata": {},
   "outputs": [
    {
     "data": {
      "application/vnd.jupyter.widget-view+json": {
       "model_id": "351f0e50ff53479daa6e35d2bf3ec6db",
       "version_major": 2,
       "version_minor": 0
      },
      "text/plain": [
       "  0%|          | 0/100000 [00:00<?, ?it/s]"
      ]
     },
     "metadata": {},
     "output_type": "display_data"
    },
    {
     "name": "stdout",
     "output_type": "stream",
     "text": [
      "Iter [5000/100000] => loss: 12.69394, input: (('Spanish', 'Puga')), predicted name: Aarar\n",
      "Iter [10000/100000] => loss: 7.56679, input: (('Korean', 'Yeon')), predicted name: Yoo<eos><eos>\n",
      "Iter [15000/100000] => loss: 16.74781, input: (('Italian', 'Gaspari')), predicted name: Aarti<eos>i<eos>\n",
      "Iter [20000/100000] => loss: 18.38812, input: (('Italian', 'De felice')), predicted name: Ae pellni<eos>\n",
      "Iter [25000/100000] => loss: 5.44092, input: (('Vietnamese', 'Lieu')), predicted name: Tueu<eos>\n",
      "Iter [30000/100000] => loss: 5.45188, input: (('Chinese', 'Feng')), predicted name: Leng<eos>\n",
      "Iter [35000/100000] => loss: 15.61737, input: (('Spanish', 'Santiago')), predicted name: Vanten<eos><eos><eos>\n"
     ]
    },
    {
     "ename": "KeyboardInterrupt",
     "evalue": "",
     "output_type": "error",
     "traceback": [
      "\u001b[0;31m---------------------------------------------------------------------------\u001b[0m",
      "\u001b[0;31mKeyboardInterrupt\u001b[0m                         Traceback (most recent call last)",
      "Cell \u001b[0;32mIn[47], line 21\u001b[0m\n\u001b[1;32m     18\u001b[0m     predicted_name \u001b[38;5;241m+\u001b[39m\u001b[38;5;241m=\u001b[39m letter\n\u001b[1;32m     20\u001b[0m optimizer\u001b[38;5;241m.\u001b[39mzero_grad()\n\u001b[0;32m---> 21\u001b[0m \u001b[43mloss\u001b[49m\u001b[38;5;241;43m.\u001b[39;49m\u001b[43mbackward\u001b[49m\u001b[43m(\u001b[49m\u001b[43m)\u001b[49m\n\u001b[1;32m     22\u001b[0m optimizer\u001b[38;5;241m.\u001b[39mstep()\n\u001b[1;32m     24\u001b[0m average_loss \u001b[38;5;241m+\u001b[39m\u001b[38;5;241m=\u001b[39m  loss\u001b[38;5;241m.\u001b[39mitem() \u001b[38;5;241m/\u001b[39m (\u001b[38;5;28mlen\u001b[39m(name_tensor) \u001b[38;5;241m-\u001b[39m \u001b[38;5;241m1\u001b[39m)\n",
      "File \u001b[0;32m/apps/conda/thiago.poppe/.envs/harmony/lib/python3.10/site-packages/torch/_tensor.py:396\u001b[0m, in \u001b[0;36mTensor.backward\u001b[0;34m(self, gradient, retain_graph, create_graph, inputs)\u001b[0m\n\u001b[1;32m    387\u001b[0m \u001b[38;5;28;01mif\u001b[39;00m has_torch_function_unary(\u001b[38;5;28mself\u001b[39m):\n\u001b[1;32m    388\u001b[0m     \u001b[38;5;28;01mreturn\u001b[39;00m handle_torch_function(\n\u001b[1;32m    389\u001b[0m         Tensor\u001b[38;5;241m.\u001b[39mbackward,\n\u001b[1;32m    390\u001b[0m         (\u001b[38;5;28mself\u001b[39m,),\n\u001b[0;32m   (...)\u001b[0m\n\u001b[1;32m    394\u001b[0m         create_graph\u001b[38;5;241m=\u001b[39mcreate_graph,\n\u001b[1;32m    395\u001b[0m         inputs\u001b[38;5;241m=\u001b[39minputs)\n\u001b[0;32m--> 396\u001b[0m \u001b[43mtorch\u001b[49m\u001b[38;5;241;43m.\u001b[39;49m\u001b[43mautograd\u001b[49m\u001b[38;5;241;43m.\u001b[39;49m\u001b[43mbackward\u001b[49m\u001b[43m(\u001b[49m\u001b[38;5;28;43mself\u001b[39;49m\u001b[43m,\u001b[49m\u001b[43m \u001b[49m\u001b[43mgradient\u001b[49m\u001b[43m,\u001b[49m\u001b[43m \u001b[49m\u001b[43mretain_graph\u001b[49m\u001b[43m,\u001b[49m\u001b[43m \u001b[49m\u001b[43mcreate_graph\u001b[49m\u001b[43m,\u001b[49m\u001b[43m \u001b[49m\u001b[43minputs\u001b[49m\u001b[38;5;241;43m=\u001b[39;49m\u001b[43minputs\u001b[49m\u001b[43m)\u001b[49m\n",
      "File \u001b[0;32m/apps/conda/thiago.poppe/.envs/harmony/lib/python3.10/site-packages/torch/autograd/__init__.py:173\u001b[0m, in \u001b[0;36mbackward\u001b[0;34m(tensors, grad_tensors, retain_graph, create_graph, grad_variables, inputs)\u001b[0m\n\u001b[1;32m    168\u001b[0m     retain_graph \u001b[38;5;241m=\u001b[39m create_graph\n\u001b[1;32m    170\u001b[0m \u001b[38;5;66;03m# The reason we repeat same the comment below is that\u001b[39;00m\n\u001b[1;32m    171\u001b[0m \u001b[38;5;66;03m# some Python versions print out the first line of a multi-line function\u001b[39;00m\n\u001b[1;32m    172\u001b[0m \u001b[38;5;66;03m# calls in the traceback and some print out the last line\u001b[39;00m\n\u001b[0;32m--> 173\u001b[0m \u001b[43mVariable\u001b[49m\u001b[38;5;241;43m.\u001b[39;49m\u001b[43m_execution_engine\u001b[49m\u001b[38;5;241;43m.\u001b[39;49m\u001b[43mrun_backward\u001b[49m\u001b[43m(\u001b[49m\u001b[43m  \u001b[49m\u001b[38;5;66;43;03m# Calls into the C++ engine to run the backward pass\u001b[39;49;00m\n\u001b[1;32m    174\u001b[0m \u001b[43m    \u001b[49m\u001b[43mtensors\u001b[49m\u001b[43m,\u001b[49m\u001b[43m \u001b[49m\u001b[43mgrad_tensors_\u001b[49m\u001b[43m,\u001b[49m\u001b[43m \u001b[49m\u001b[43mretain_graph\u001b[49m\u001b[43m,\u001b[49m\u001b[43m \u001b[49m\u001b[43mcreate_graph\u001b[49m\u001b[43m,\u001b[49m\u001b[43m \u001b[49m\u001b[43minputs\u001b[49m\u001b[43m,\u001b[49m\n\u001b[1;32m    175\u001b[0m \u001b[43m    \u001b[49m\u001b[43mallow_unreachable\u001b[49m\u001b[38;5;241;43m=\u001b[39;49m\u001b[38;5;28;43;01mTrue\u001b[39;49;00m\u001b[43m,\u001b[49m\u001b[43m \u001b[49m\u001b[43maccumulate_grad\u001b[49m\u001b[38;5;241;43m=\u001b[39;49m\u001b[38;5;28;43;01mTrue\u001b[39;49;00m\u001b[43m)\u001b[49m\n",
      "\u001b[0;31mKeyboardInterrupt\u001b[0m: "
     ]
    }
   ],
   "source": [
    "for iter in tqdm(range(1, num_iterations + 1)):\n",
    "    name, language, name_tensor, language_tensor = get_random_pair()\n",
    "    \n",
    "    name_tensor = name_tensor.to(device)\n",
    "    language_tensor = language_tensor.to(device)\n",
    "\n",
    "    loss = 0\n",
    "    hidden = None\n",
    "    predicted_name = ''\n",
    "\n",
    "    # Iremos iterar sobre todos os tokens até o penúltimo\n",
    "    for idx in range(len(name_tensor) - 1):\n",
    "        output, hidden = model.forward(name_tensor[idx], language_tensor, hidden)  # note que estamos sempre fazendo teacher forcing\n",
    "        loss += criterion(output, name_tensor[idx+1])\n",
    "\n",
    "        # Salvando o nome predito pelo modelo\n",
    "        letter = index2letter[output.argmax()]\n",
    "        if letter != '<eos>':\n",
    "            predicted_name += letter\n",
    "    \n",
    "    optimizer.zero_grad()\n",
    "    loss.backward()\n",
    "    optimizer.step()\n",
    "\n",
    "    average_loss +=  loss.item() / (len(name_tensor) - 1)\n",
    "    \n",
    "    if iter % print_interval == 0:\n",
    "        print(f'Iter [{iter}/{num_iterations}] => loss: {loss:.5f}, ' \\\n",
    "              f'input: {language, name}, predicted name: {predicted_name}')\n",
    "\n",
    "    if iter % loss_interval == 0:\n",
    "        all_losses.append(average_loss / loss_interval)\n",
    "        average_loss = 0"
   ]
  },
  {
   "cell_type": "code",
   "execution_count": 51,
   "id": "fde12879-2212-43cd-be8b-79b2056ce5cf",
   "metadata": {},
   "outputs": [
    {
     "data": {
      "image/png": "[encoded data removed]",
      "text/plain": [
       "<Figure size 640x480 with 1 Axes>"
      ]
     },
     "metadata": {},
     "output_type": "display_data"
    }
   ],
   "source": [
    "plt.title('Evolução da função de perda média ao longo das iterações')\n",
    "plt.xlabel('Intervalo de Salvamento')\n",
    "plt.ylabel('Valor médio')\n",
    "    \n",
    "plt.plot(all_losses)\n",
    "plt.show()"
   ]
  },
  {
   "cell_type": "markdown",
   "id": "9bbc696a-94b8-482d-b85c-e28a3abc0128",
   "metadata": {},
   "source": [
    "## Avaliando os resultados obtidos\n",
    "\n",
    "Para verificar o desempenho da rede em diferentes línguas, criaremos uma matriz de confusão, indicando para cada idioma real (linhas) qual idioma a rede adivinha (colunas). Para calcular a matriz de confusão, uma quantia grande de amostras, definida pela variável `num_confusion_samples`, serão processadas pela rede em modo de avaliação."
   ]
  },
  {
   "cell_type": "code",
   "execution_count": null,
   "id": "08d1d04e-e4b4-45ca-be98-75ef27394cc9",
   "metadata": {},
   "outputs": [],
   "source": [
    "num_confusion_samples = 10000\n",
    "confusion_matrix = torch.zeros(len(languages), len(languages))\n",
    "\n",
    "model.eval()\n",
    "with torch.no_grad():\n",
    "    for i in tqdm(range(num_confusion_samples)):\n",
    "        name, language, name_tensor, language_tensor = get_random_pair()\n",
    "\n",
    "        name_tensor = name_tensor.to(device)\n",
    "        language_tensor = language_tensor.to(device)\n",
    "\n",
    "        output = model(name_tensor)\n",
    "        guess = get_language_from_output(output)\n",
    "\n",
    "        guess_idx = languages.index(guess)\n",
    "        language_idx = languages.index(language)\n",
    "\n",
    "        confusion_matrix[language_idx, guess_idx] += 1\n",
    "\n",
    "# Normalizando as linhas da matriz de confusão\n",
    "for i in range(len(languages)):\n",
    "    confusion_matrix[i] /= confusion_matrix[i].sum()\n",
    "\n",
    "# Configurando o plot\n",
    "fig, ax = plt.subplots()\n",
    "\n",
    "img = ax.matshow(confusion_matrix.numpy())\n",
    "fig.colorbar(img)\n",
    "\n",
    "ax.set_xticks(range(len(languages)), languages, rotation=90)\n",
    "ax.set_yticks(range(len(languages)), languages)\n",
    "\n",
    "fig.tight_layout()"
   ]
  },
  {
   "cell_type": "markdown",
   "id": "fabfd144-d3d6-4534-ab96-6b1a6ea644de",
   "metadata": {},
   "source": [
    "## Verificando as top 3 predições da rede"
   ]
  },
  {
   "cell_type": "code",
   "execution_count": null,
   "id": "2a11a96e-9b04-4a02-a45b-d3ad69925856",
   "metadata": {},
   "outputs": [],
   "source": [
    "def predict(name):\n",
    "    print(f'\\n> {name}')\n",
    "\n",
    "    model.eval()\n",
    "    with torch.no_grad():\n",
    "        name_tensor = name2tensor(name).to(device)\n",
    "        output = model(name_tensor)\n",
    "\n",
    "        vals, idxs = torch.topk(output[0], k=3, dim=-1)\n",
    "        for val, idx in zip(vals, idxs):\n",
    "            prob = torch.e ** val  # probabilidade = exp(log-probabilidade)\n",
    "            print(f'({prob:.2f}) {languages[idx]}')\n",
    "            \n",
    "predict('Dovesky')\n",
    "predict('Jackson')\n",
    "predict('Satoshi')"
   ]
  }
 ],
 "metadata": {
  "kernelspec": {
   "display_name": "harmony",
   "language": "python",
   "name": "harmony"
  },
  "language_info": {
   "codemirror_mode": {
    "name": "ipython",
    "version": 3
   },
   "file_extension": ".py",
   "mimetype": "text/x-python",
   "name": "python",
   "nbconvert_exporter": "python",
   "pygments_lexer": "ipython3",
   "version": "3.10.13"
  }
 },
 "nbformat": 4,
 "nbformat_minor": 5
}
